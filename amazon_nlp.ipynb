{
 "cells": [
  {
   "cell_type": "code",
   "execution_count": null,
   "metadata": {},
   "outputs": [],
   "source": []
  },
  {
   "cell_type": "code",
   "execution_count": 1,
   "metadata": {},
   "outputs": [],
   "source": [
    "import nltk\n",
    "import math"
   ]
  },
  {
   "cell_type": "code",
   "execution_count": 2,
   "metadata": {},
   "outputs": [],
   "source": [
    "import pandas as pd\n",
    "import numpy as np\n",
    "import collections\n",
    "from nltk.corpus import stopwords\n",
    "from datetime import datetime"
   ]
  },
  {
   "cell_type": "code",
   "execution_count": 3,
   "metadata": {},
   "outputs": [],
   "source": [
    "df = pd.read_csv('data/amazon_NLP_data.csv' , encoding='utf-8-sig')"
   ]
  },
  {
   "cell_type": "code",
   "execution_count": 4,
   "metadata": {},
   "outputs": [
    {
     "name": "stdout",
     "output_type": "stream",
     "text": [
      "전처리 후 테스트용 샘플의 개수 : 877\n"
     ]
    }
   ],
   "source": [
    "df['review'] = df['review'].str.replace(\"[^a-zA-Z ]\",\"\")\n",
    "df['review'].replace('', np.nan, inplace=True)\n",
    "df = df.dropna(how='any') # Null 값 제거\n",
    "print('전처리 후 테스트용 샘플의 개수 :',len(df))\n",
    "\n",
    "df['label'] = np.select([df.rating > 3], [1], default=0)\n"
   ]
  },
  {
   "cell_type": "code",
   "execution_count": 5,
   "metadata": {},
   "outputs": [],
   "source": [
    "def tagging(lines, tag):\n",
    "    if tag == 'NOUN':\n",
    "        is_noun = lambda pos: pos == 'NOUN' \n",
    "        \n",
    "    elif tag == 'VERB':\n",
    "        is_noun = lambda pos: pos == 'VERB'\n",
    "        \n",
    "    elif tag == 'ADJ':\n",
    "        is_noun = lambda pos: pos == 'ADV' or pos == 'ADJ'\n",
    "        \n",
    "    elif tag == 'ALL':\n",
    "        is_noun = lambda pos: pos == 'ADV' or pos == 'ADJ' or pos =='NOUN' or pos == 'VERB'\n",
    "        \n",
    "    else :\n",
    "        raise Exception('inccorect TAG name')\n",
    "    \n",
    "    nouns = [word for (word, pos) in nltk.pos_tag(lines, tagset = 'universal') if is_noun(pos)]\n",
    "    return nouns\n"
   ]
  },
  {
   "cell_type": "code",
   "execution_count": 6,
   "metadata": {},
   "outputs": [],
   "source": [
    "def udf_list_lower(list):\n",
    "    return [x.lower() for x in list]"
   ]
  },
  {
   "cell_type": "code",
   "execution_count": 7,
   "metadata": {},
   "outputs": [],
   "source": [
    "df['tokenized'] = df['review'].apply(nltk.word_tokenize)"
   ]
  },
  {
   "cell_type": "code",
   "execution_count": 8,
   "metadata": {},
   "outputs": [],
   "source": [
    "# tag_name = 'NOUN'\n",
    "# tag_name = 'VERB'\n",
    "# tag_name = 'ADJ'\n",
    "tag_name = 'ALL'"
   ]
  },
  {
   "cell_type": "code",
   "execution_count": 9,
   "metadata": {},
   "outputs": [],
   "source": [
    "df['tokenized'] = df['tokenized'].apply(tagging, args=[tag_name])"
   ]
  },
  {
   "cell_type": "code",
   "execution_count": 10,
   "metadata": {},
   "outputs": [],
   "source": [
    "df['tokenized'] = df['tokenized'].apply(udf_list_lower)"
   ]
  },
  {
   "cell_type": "code",
   "execution_count": 11,
   "metadata": {},
   "outputs": [],
   "source": [
    "df = df[df['rating']!= 3]"
   ]
  },
  {
   "cell_type": "code",
   "execution_count": 12,
   "metadata": {},
   "outputs": [
    {
     "data": {
      "text/plain": [
       "5    524\n",
       "4    106\n",
       "1    105\n",
       "2     60\n",
       "Name: rating, dtype: int64"
      ]
     },
     "execution_count": 12,
     "metadata": {},
     "output_type": "execute_result"
    }
   ],
   "source": [
    "df.rating.value_counts()"
   ]
  },
  {
   "cell_type": "code",
   "execution_count": 13,
   "metadata": {},
   "outputs": [],
   "source": [
    "pos_series = df[df['label'] == 1].tokenized\n",
    "neg_series = df[df['label'] == 0].tokenized"
   ]
  },
  {
   "cell_type": "code",
   "execution_count": 14,
   "metadata": {},
   "outputs": [],
   "source": [
    "pos_list = [element.lower() for list_ in pos_series.values for element in list_]\n",
    "neg_list = [element.lower() for list_ in neg_series.values for element in list_]"
   ]
  },
  {
   "cell_type": "code",
   "execution_count": 15,
   "metadata": {},
   "outputs": [],
   "source": [
    "stop_words = stopwords.words('english')"
   ]
  },
  {
   "cell_type": "code",
   "execution_count": 16,
   "metadata": {},
   "outputs": [],
   "source": [
    "shopee_main = pd.read_excel('data/KAN상품분류_화장품매핑_210826.xlsx', sheet_name='Main')\n",
    "\n",
    "en_name = shopee_main['영문 키워드'].dropna().tolist()"
   ]
  },
  {
   "cell_type": "code",
   "execution_count": 17,
   "metadata": {},
   "outputs": [],
   "source": [
    "cos_stopword = [nltk.word_tokenize(result) for result in en_name]"
   ]
  },
  {
   "cell_type": "code",
   "execution_count": 18,
   "metadata": {},
   "outputs": [],
   "source": [
    "cos_stopword = list(set([item for sublist in cos_stopword for item in sublist]))"
   ]
  },
  {
   "cell_type": "code",
   "execution_count": 19,
   "metadata": {},
   "outputs": [],
   "source": [
    "cos_stopword = list(set(cos_stopword))"
   ]
  },
  {
   "cell_type": "code",
   "execution_count": 20,
   "metadata": {},
   "outputs": [],
   "source": [
    "stop_words = stop_words + cos_stopword"
   ]
  },
  {
   "cell_type": "code",
   "execution_count": 21,
   "metadata": {},
   "outputs": [
    {
     "data": {
      "text/plain": [
       "['i',\n",
       " 'me',\n",
       " 'my',\n",
       " 'myself',\n",
       " 'we',\n",
       " 'our',\n",
       " 'ours',\n",
       " 'ourselves',\n",
       " 'you',\n",
       " \"you're\",\n",
       " \"you've\",\n",
       " \"you'll\",\n",
       " \"you'd\",\n",
       " 'your',\n",
       " 'yours',\n",
       " 'yourself',\n",
       " 'yourselves',\n",
       " 'he',\n",
       " 'him',\n",
       " 'his',\n",
       " 'himself',\n",
       " 'she',\n",
       " \"she's\",\n",
       " 'her',\n",
       " 'hers',\n",
       " 'herself',\n",
       " 'it',\n",
       " \"it's\",\n",
       " 'its',\n",
       " 'itself',\n",
       " 'they',\n",
       " 'them',\n",
       " 'their',\n",
       " 'theirs',\n",
       " 'themselves',\n",
       " 'what',\n",
       " 'which',\n",
       " 'who',\n",
       " 'whom',\n",
       " 'this',\n",
       " 'that',\n",
       " \"that'll\",\n",
       " 'these',\n",
       " 'those',\n",
       " 'am',\n",
       " 'is',\n",
       " 'are',\n",
       " 'was',\n",
       " 'were',\n",
       " 'be',\n",
       " 'been',\n",
       " 'being',\n",
       " 'have',\n",
       " 'has',\n",
       " 'had',\n",
       " 'having',\n",
       " 'do',\n",
       " 'does',\n",
       " 'did',\n",
       " 'doing',\n",
       " 'a',\n",
       " 'an',\n",
       " 'the',\n",
       " 'and',\n",
       " 'but',\n",
       " 'if',\n",
       " 'or',\n",
       " 'because',\n",
       " 'as',\n",
       " 'until',\n",
       " 'while',\n",
       " 'of',\n",
       " 'at',\n",
       " 'by',\n",
       " 'for',\n",
       " 'with',\n",
       " 'about',\n",
       " 'against',\n",
       " 'between',\n",
       " 'into',\n",
       " 'through',\n",
       " 'during',\n",
       " 'before',\n",
       " 'after',\n",
       " 'above',\n",
       " 'below',\n",
       " 'to',\n",
       " 'from',\n",
       " 'up',\n",
       " 'down',\n",
       " 'in',\n",
       " 'out',\n",
       " 'on',\n",
       " 'off',\n",
       " 'over',\n",
       " 'under',\n",
       " 'again',\n",
       " 'further',\n",
       " 'then',\n",
       " 'once',\n",
       " 'here',\n",
       " 'there',\n",
       " 'when',\n",
       " 'where',\n",
       " 'why',\n",
       " 'how',\n",
       " 'all',\n",
       " 'any',\n",
       " 'both',\n",
       " 'each',\n",
       " 'few',\n",
       " 'more',\n",
       " 'most',\n",
       " 'other',\n",
       " 'some',\n",
       " 'such',\n",
       " 'no',\n",
       " 'nor',\n",
       " 'not',\n",
       " 'only',\n",
       " 'own',\n",
       " 'same',\n",
       " 'so',\n",
       " 'than',\n",
       " 'too',\n",
       " 'very',\n",
       " 's',\n",
       " 't',\n",
       " 'can',\n",
       " 'will',\n",
       " 'just',\n",
       " 'don',\n",
       " \"don't\",\n",
       " 'should',\n",
       " \"should've\",\n",
       " 'now',\n",
       " 'd',\n",
       " 'll',\n",
       " 'm',\n",
       " 'o',\n",
       " 're',\n",
       " 've',\n",
       " 'y',\n",
       " 'ain',\n",
       " 'aren',\n",
       " \"aren't\",\n",
       " 'couldn',\n",
       " \"couldn't\",\n",
       " 'didn',\n",
       " \"didn't\",\n",
       " 'doesn',\n",
       " \"doesn't\",\n",
       " 'hadn',\n",
       " \"hadn't\",\n",
       " 'hasn',\n",
       " \"hasn't\",\n",
       " 'haven',\n",
       " \"haven't\",\n",
       " 'isn',\n",
       " \"isn't\",\n",
       " 'ma',\n",
       " 'mightn',\n",
       " \"mightn't\",\n",
       " 'mustn',\n",
       " \"mustn't\",\n",
       " 'needn',\n",
       " \"needn't\",\n",
       " 'shan',\n",
       " \"shan't\",\n",
       " 'shouldn',\n",
       " \"shouldn't\",\n",
       " 'wasn',\n",
       " \"wasn't\",\n",
       " 'weren',\n",
       " \"weren't\",\n",
       " 'won',\n",
       " \"won't\",\n",
       " 'wouldn',\n",
       " \"wouldn't\",\n",
       " 'basic',\n",
       " 'sun',\n",
       " 'liquid',\n",
       " 'spray',\n",
       " 'cream',\n",
       " 'brow',\n",
       " 'liner',\n",
       " 'fragrance',\n",
       " 'unisex',\n",
       " 'skin',\n",
       " 'straightener',\n",
       " 'lip',\n",
       " 'lipstick',\n",
       " 'sunscreen',\n",
       " 'oil',\n",
       " 'shampoo',\n",
       " \"'s\",\n",
       " 'wax',\n",
       " 'shave',\n",
       " 'salts',\n",
       " 'foam',\n",
       " 'scalp',\n",
       " 'nail',\n",
       " 'feminine',\n",
       " 'in',\n",
       " 'bb',\n",
       " 'suncream',\n",
       " 'cleansing',\n",
       " 'cleanser',\n",
       " 'color',\n",
       " 'perfume',\n",
       " 'shadow',\n",
       " 'men',\n",
       " 'polish',\n",
       " 'wave',\n",
       " 'tretment',\n",
       " 'top',\n",
       " 'powder',\n",
       " 'foundation',\n",
       " 'glaze',\n",
       " 'coat',\n",
       " 'peeling',\n",
       " 'shaving',\n",
       " 'foot',\n",
       " 'serum',\n",
       " 'diaper',\n",
       " 'cc',\n",
       " 'soap',\n",
       " 'deodorant',\n",
       " 'finising',\n",
       " 'neck',\n",
       " 'body',\n",
       " 'blush',\n",
       " 'mask',\n",
       " 'pre',\n",
       " 'set',\n",
       " 'lotion',\n",
       " 'permenet',\n",
       " 'bath',\n",
       " 'tissue',\n",
       " 'cushion',\n",
       " 'tanning',\n",
       " 'baby',\n",
       " 'eye',\n",
       " 'handcream',\n",
       " 'conditioner',\n",
       " 'all-in-one',\n",
       " 'hair',\n",
       " 'hand',\n",
       " 'mousse',\n",
       " 'face',\n",
       " 'gel',\n",
       " 'mist',\n",
       " 'loose',\n",
       " 'cuticle',\n",
       " 'painting',\n",
       " 'pomade',\n",
       " 'scrub',\n",
       " 'care',\n",
       " 'tint',\n",
       " 'pack',\n",
       " 'product',\n",
       " 'dye',\n",
       " 'water',\n",
       " 'pact',\n",
       " 'slimming',\n",
       " 'highlighter',\n",
       " 'massage',\n",
       " 'toner',\n",
       " 'after',\n",
       " 'makeup',\n",
       " 'one',\n",
       " 'primer',\n",
       " 'balm',\n",
       " 'loss',\n",
       " 'women',\n",
       " 'base',\n",
       " 'concealer',\n",
       " 'bubble',\n",
       " 'waxing',\n",
       " 'mascara',\n",
       " 'for',\n",
       " 'gloss',\n",
       " 'remover']"
      ]
     },
     "execution_count": 21,
     "metadata": {},
     "output_type": "execute_result"
    }
   ],
   "source": [
    "stop_words"
   ]
  },
  {
   "cell_type": "code",
   "execution_count": 22,
   "metadata": {},
   "outputs": [],
   "source": [
    "pos_list_stopword =[]\n",
    "neg_list_stopword = []\n",
    "\n",
    "for w in pos_list: \n",
    "    if w not in stop_words: \n",
    "        pos_list_stopword.append(w) \n",
    "\n",
    "\n",
    "for w in neg_list: \n",
    "    if w not in stop_words: \n",
    "        neg_list_stopword.append(w) \n",
    "        "
   ]
  },
  {
   "cell_type": "code",
   "execution_count": null,
   "metadata": {},
   "outputs": [],
   "source": []
  },
  {
   "cell_type": "code",
   "execution_count": 23,
   "metadata": {},
   "outputs": [],
   "source": [
    "top10_pos_word = list(dict(collections.Counter(pos_list_stopword).most_common()).keys())[:10]\n",
    "top10_neg_word = list(dict(collections.Counter(neg_list_stopword).most_common()).keys())[:10]\n",
    "\n",
    "top50_pos_word = list(dict(collections.Counter(pos_list_stopword).most_common()).keys())[:50]\n",
    "top50_neg_word = list(dict(collections.Counter(neg_list_stopword).most_common()).keys())[:50]"
   ]
  },
  {
   "cell_type": "code",
   "execution_count": 24,
   "metadata": {},
   "outputs": [],
   "source": [
    "# word 리스트에 tokenize 값있는지 보고, 있으면 +=1 한값을 list|series로 저장하고, 컬럼 append"
   ]
  },
  {
   "cell_type": "code",
   "execution_count": 25,
   "metadata": {},
   "outputs": [
    {
     "data": {
      "text/plain": [
       "['great',\n",
       " 'love',\n",
       " 'smooth',\n",
       " 'good',\n",
       " 'works',\n",
       " 'goes',\n",
       " 'use',\n",
       " 'makes',\n",
       " 'well',\n",
       " 'make']"
      ]
     },
     "execution_count": 25,
     "metadata": {},
     "output_type": "execute_result"
    }
   ],
   "source": [
    "top10_pos_word"
   ]
  },
  {
   "cell_type": "code",
   "execution_count": 26,
   "metadata": {},
   "outputs": [
    {
     "data": {
      "text/plain": [
       "['redness',\n",
       " 'cover',\n",
       " 'doesnt',\n",
       " 'nothing',\n",
       " 'green',\n",
       " 'red',\n",
       " 'oily',\n",
       " 'didnt',\n",
       " 'money',\n",
       " 'work']"
      ]
     },
     "execution_count": 26,
     "metadata": {},
     "output_type": "execute_result"
    }
   ],
   "source": [
    "top10_neg_word"
   ]
  },
  {
   "cell_type": "code",
   "execution_count": 27,
   "metadata": {},
   "outputs": [
    {
     "data": {
      "text/plain": [
       "['red',\n",
       " 'makes',\n",
       " 'cover',\n",
       " 'great',\n",
       " 'make',\n",
       " 'didnt',\n",
       " 'money',\n",
       " 'works',\n",
       " 'nothing',\n",
       " 'good',\n",
       " 'goes',\n",
       " 'well',\n",
       " 'oily',\n",
       " 'use',\n",
       " 'green',\n",
       " 'work',\n",
       " 'redness',\n",
       " 'love',\n",
       " 'doesnt',\n",
       " 'smooth']"
      ]
     },
     "execution_count": 27,
     "metadata": {},
     "output_type": "execute_result"
    }
   ],
   "source": [
    "list(set(top10_pos_word+top10_neg_word))"
   ]
  },
  {
   "cell_type": "code",
   "execution_count": 28,
   "metadata": {},
   "outputs": [],
   "source": [
    "def is_in_word(lists, word):\n",
    "    cnt = 0\n",
    "    for item in lists:\n",
    "        if item == word:\n",
    "            cnt +=1\n",
    "    return cnt"
   ]
  },
  {
   "cell_type": "code",
   "execution_count": 29,
   "metadata": {},
   "outputs": [],
   "source": [
    "for word in top50_pos_word:\n",
    "    df[word] = df['tokenized'].apply(is_in_word , args=[word])"
   ]
  },
  {
   "cell_type": "code",
   "execution_count": 30,
   "metadata": {},
   "outputs": [],
   "source": [
    "for word in top50_neg_word:\n",
    "    df[word] = df['tokenized'].apply(is_in_word , args=[word])"
   ]
  },
  {
   "cell_type": "code",
   "execution_count": 31,
   "metadata": {},
   "outputs": [],
   "source": [
    "# df.to_csv(f'amazon_review_emotion_{tag_name}_211021.csv' , encoding='utf-8-sig' , index = False)"
   ]
  },
  {
   "cell_type": "code",
   "execution_count": null,
   "metadata": {},
   "outputs": [],
   "source": []
  },
  {
   "cell_type": "code",
   "execution_count": 32,
   "metadata": {},
   "outputs": [],
   "source": [
    "import matplotlib.pyplot as plt"
   ]
  },
  {
   "cell_type": "code",
   "execution_count": 33,
   "metadata": {},
   "outputs": [
    {
     "name": "stdout",
     "output_type": "stream",
     "text": [
      "긍정 리뷰의 평균 길이 : 13.86984126984127\n",
      "부정 리뷰의 평균 길이 : 16.775757575757577\n"
     ]
    },
    {
     "data": {
      "image/png": "[encoded data removed]",
      "text/plain": [
       "<Figure size 720x360 with 2 Axes>"
      ]
     },
     "metadata": {
      "needs_background": "light"
     },
     "output_type": "display_data"
    }
   ],
   "source": [
    "fig,(ax1,ax2) = plt.subplots(1,2,figsize=(10,5))\n",
    "text_len = df[df['label']==1]['tokenized'].map(lambda x: len(x))\n",
    "ax1.hist(text_len, color='red')\n",
    "ax1.set_title('Positive Reviews')\n",
    "ax1.set_xlabel('length of samples')\n",
    "ax1.set_ylabel('number of samples')\n",
    "print('긍정 리뷰의 평균 길이 :', np.mean(text_len))\n",
    "\n",
    "text_len = df[df['label']==0]['tokenized'].map(lambda x: len(x))\n",
    "ax2.hist(text_len, color='blue')\n",
    "ax2.set_title('Negative Reviews')\n",
    "fig.suptitle('Words in texts')\n",
    "ax2.set_xlabel('length of samples')\n",
    "ax2.set_ylabel('number of samples')\n",
    "print('부정 리뷰의 평균 길이 :', np.mean(text_len))\n",
    "plt.show()"
   ]
  },
  {
   "cell_type": "code",
   "execution_count": null,
   "metadata": {},
   "outputs": [],
   "source": [
    "\n"
   ]
  },
  {
   "cell_type": "code",
   "execution_count": 34,
   "metadata": {},
   "outputs": [],
   "source": [
    "# df.to_csv(f'amazon_review_emotion_{tag_name}_TF-IDF_211021.csv' , encoding='utf-8-sig' , index = False)"
   ]
  },
  {
   "cell_type": "code",
   "execution_count": null,
   "metadata": {},
   "outputs": [],
   "source": [
    "\n"
   ]
  },
  {
   "cell_type": "code",
   "execution_count": 187,
   "metadata": {},
   "outputs": [],
   "source": [
    "words_list = ['top50_neg_word' , 'top50_pos_word']\n",
    "tfidf_ = []\n",
    "\n",
    "for w in words_list:\n",
    "\n",
    "    docs = []\n",
    "\n",
    "    neg_review_string = \",\".join(df[df['label'] == 0]['review'].values.tolist())\n",
    "    pos_review_string = \",\".join(df[df['label'] == 1]['review'].values.tolist())\n",
    "\n",
    "    docs.append(neg_review_string)\n",
    "    docs.append(pos_review_string)\n",
    "\n",
    "    vocab = eval(w)\n",
    "    vocab.sort()\n",
    "    \n",
    "    N = len(docs) # 총 문서의 수\n",
    "\n",
    "    def tf(t, d):\n",
    "        return d.count(t)\n",
    "\n",
    "    def idf(t):\n",
    "        df = 0\n",
    "        for doc in docs:\n",
    "            df += t in doc\n",
    "        return abs(math.log(N/(df + 1)))\n",
    "\n",
    "    def tfidf(t, d):\n",
    "        return tf(t,d)* idf(t)\n",
    "    \n",
    "    result = []\n",
    "    for i in range(N):\n",
    "        result.append([])\n",
    "        d = docs[i]\n",
    "        for j in range(len(vocab)):\n",
    "            t = vocab[j]\n",
    "\n",
    "            result[-1].append(tfidf(t,d))\n",
    "    \n",
    "    tfidf_.append(pd.DataFrame(result, columns = vocab , index = ['NEG_DOC' , 'POS_DOC']))\n"
   ]
  },
  {
   "cell_type": "code",
   "execution_count": 36,
   "metadata": {},
   "outputs": [],
   "source": [
    "now = datetime.now()\n",
    "today_datetime = now.strftime(\"%Y%m%d%H%M%S\")[2:]\n",
    "xlxs_dir = f'amazon_review_emotion_{tag_name}_{today_datetime}.xlsx'\n",
    "\n",
    "with pd.ExcelWriter(xlxs_dir) as writer:\n",
    "\n",
    "    df.to_excel(writer, sheet_name = 'REVIEW_WORD_COUNT')\n",
    "\n",
    "    tfidf_[0].T.to_excel(writer, sheet_name = 'NEG_WORD_50_TF-IDF') \n",
    "    \n",
    "    tfidf_[1].T.to_excel(writer, sheet_name = 'POS_WORD_50_TF-IDF') \n"
   ]
  },
  {
   "cell_type": "code",
   "execution_count": null,
   "metadata": {},
   "outputs": [],
   "source": []
  },
  {
   "cell_type": "code",
   "execution_count": null,
   "metadata": {},
   "outputs": [],
   "source": []
  },
  {
   "cell_type": "code",
   "execution_count": null,
   "metadata": {},
   "outputs": [],
   "source": []
  },
  {
   "cell_type": "code",
   "execution_count": 37,
   "metadata": {},
   "outputs": [],
   "source": [
    "# from sklearn.feature_extraction.text import TfidfVectorizer\n",
    "# corpus = df['review'].values.tolist()\n",
    "# tfidfv = TfidfVectorizer().fit(top10_neg_word+top10_pos_word)\n",
    "# print(tfidfv.transform(corpus).toarray())\n",
    "# print(tfidfv.vocabulary_)\n",
    "\n",
    "# a = tfidfv.transform(corpus).toarray()\n",
    "\n",
    "# word_index = tfidfv.vocabulary_\n",
    "\n",
    "# word_index_sort = dict(sorted(word_index.items(), key = lambda item: item[1]))\n",
    "\n",
    "# word_index_sort_list = list(word_index_sort.keys())\n",
    "\n",
    "# word_index_sort_list\n",
    "\n",
    "# for index, col in enumerate(word_index_sort_list):\n",
    "#     print(col)\n",
    "#     print(index)\n",
    "#     df[col+'_TF-IDF'] = a[:,index].T\n"
   ]
  },
  {
   "cell_type": "code",
   "execution_count": 38,
   "metadata": {},
   "outputs": [
    {
     "data": {
      "text/plain": [
       "1    630\n",
       "0    165\n",
       "Name: label, dtype: int64"
      ]
     },
     "execution_count": 38,
     "metadata": {},
     "output_type": "execute_result"
    }
   ],
   "source": [
    "df.label.value_counts()"
   ]
  },
  {
   "cell_type": "code",
   "execution_count": null,
   "metadata": {},
   "outputs": [],
   "source": []
  },
  {
   "cell_type": "code",
   "execution_count": 39,
   "metadata": {},
   "outputs": [
    {
     "data": {
      "text/html": [
       "<div>\n",
       "<style scoped>\n",
       "    .dataframe tbody tr th:only-of-type {\n",
       "        vertical-align: middle;\n",
       "    }\n",
       "\n",
       "    .dataframe tbody tr th {\n",
       "        vertical-align: top;\n",
       "    }\n",
       "\n",
       "    .dataframe thead th {\n",
       "        text-align: right;\n",
       "    }\n",
       "</style>\n",
       "<table border=\"1\" class=\"dataframe\">\n",
       "  <thead>\n",
       "    <tr style=\"text-align: right;\">\n",
       "      <th></th>\n",
       "      <th>id</th>\n",
       "      <th>review_data</th>\n",
       "      <th>name</th>\n",
       "      <th>rating</th>\n",
       "      <th>title</th>\n",
       "      <th>review</th>\n",
       "      <th>verified_purchase</th>\n",
       "      <th>asin.original</th>\n",
       "      <th>asin.variant</th>\n",
       "      <th>date.date</th>\n",
       "      <th>...</th>\n",
       "      <th>difference</th>\n",
       "      <th>got</th>\n",
       "      <th>put</th>\n",
       "      <th>bought</th>\n",
       "      <th>however</th>\n",
       "      <th>disappointed</th>\n",
       "      <th>felt</th>\n",
       "      <th>tone</th>\n",
       "      <th>purchased</th>\n",
       "      <th>thin</th>\n",
       "    </tr>\n",
       "  </thead>\n",
       "  <tbody>\n",
       "    <tr>\n",
       "      <th>0</th>\n",
       "      <td>R3U2M6MV8JBOZR</td>\n",
       "      <td>Reviewed in the United States on October 11, 2021</td>\n",
       "      <td>Nicole flowerdew</td>\n",
       "      <td>5</td>\n",
       "      <td>Absolutely love</td>\n",
       "      <td>Absolutely love</td>\n",
       "      <td>True</td>\n",
       "      <td>B004RC4S3M</td>\n",
       "      <td>B004RC4S3M</td>\n",
       "      <td>October 11, 2021</td>\n",
       "      <td>...</td>\n",
       "      <td>0</td>\n",
       "      <td>0</td>\n",
       "      <td>0</td>\n",
       "      <td>0</td>\n",
       "      <td>0</td>\n",
       "      <td>0</td>\n",
       "      <td>0</td>\n",
       "      <td>0</td>\n",
       "      <td>0</td>\n",
       "      <td>0</td>\n",
       "    </tr>\n",
       "    <tr>\n",
       "      <th>1</th>\n",
       "      <td>R8VFGCY2KULP9</td>\n",
       "      <td>Reviewed in the United States on October 10, 2021</td>\n",
       "      <td>Robbie See</td>\n",
       "      <td>5</td>\n",
       "      <td>I love this product</td>\n",
       "      <td>I have tried many different kinds of products ...</td>\n",
       "      <td>True</td>\n",
       "      <td>B004RC4S3M</td>\n",
       "      <td>B004RC4S3M</td>\n",
       "      <td>October 10, 2021</td>\n",
       "      <td>...</td>\n",
       "      <td>0</td>\n",
       "      <td>0</td>\n",
       "      <td>0</td>\n",
       "      <td>0</td>\n",
       "      <td>0</td>\n",
       "      <td>0</td>\n",
       "      <td>0</td>\n",
       "      <td>0</td>\n",
       "      <td>0</td>\n",
       "      <td>0</td>\n",
       "    </tr>\n",
       "    <tr>\n",
       "      <th>2</th>\n",
       "      <td>R3T2HFILJSO7WL</td>\n",
       "      <td>Reviewed in the United States on October 9, 2021</td>\n",
       "      <td>Tami Mortensen</td>\n",
       "      <td>1</td>\n",
       "      <td>Not what I was expecting at all.</td>\n",
       "      <td>It was almost oily feeling and didnt leave the...</td>\n",
       "      <td>True</td>\n",
       "      <td>B004RC4S3M</td>\n",
       "      <td>B004JRU4YW</td>\n",
       "      <td>October 9, 2021</td>\n",
       "      <td>...</td>\n",
       "      <td>0</td>\n",
       "      <td>0</td>\n",
       "      <td>0</td>\n",
       "      <td>1</td>\n",
       "      <td>0</td>\n",
       "      <td>0</td>\n",
       "      <td>0</td>\n",
       "      <td>0</td>\n",
       "      <td>0</td>\n",
       "      <td>0</td>\n",
       "    </tr>\n",
       "    <tr>\n",
       "      <th>3</th>\n",
       "      <td>R2R93T4E4BY1PD</td>\n",
       "      <td>Reviewed in the United States on October 8, 2021</td>\n",
       "      <td>Diane</td>\n",
       "      <td>1</td>\n",
       "      <td>Too sheer and does not help redness.</td>\n",
       "      <td>Waste of money Threw in the garbage Way too sh...</td>\n",
       "      <td>True</td>\n",
       "      <td>B004RC4S3M</td>\n",
       "      <td>B004JRU4YW</td>\n",
       "      <td>October 8, 2021</td>\n",
       "      <td>...</td>\n",
       "      <td>0</td>\n",
       "      <td>0</td>\n",
       "      <td>0</td>\n",
       "      <td>0</td>\n",
       "      <td>0</td>\n",
       "      <td>0</td>\n",
       "      <td>0</td>\n",
       "      <td>0</td>\n",
       "      <td>0</td>\n",
       "      <td>0</td>\n",
       "    </tr>\n",
       "    <tr>\n",
       "      <th>4</th>\n",
       "      <td>R2JGGV96MFTZKR</td>\n",
       "      <td>Reviewed in the United States on October 2, 2021</td>\n",
       "      <td>Kiki C</td>\n",
       "      <td>1</td>\n",
       "      <td>Skip it</td>\n",
       "      <td>Waaaay too small for the price and not really ...</td>\n",
       "      <td>True</td>\n",
       "      <td>B004RC4S3M</td>\n",
       "      <td>B004RC4S3M</td>\n",
       "      <td>October 2, 2021</td>\n",
       "      <td>...</td>\n",
       "      <td>0</td>\n",
       "      <td>0</td>\n",
       "      <td>0</td>\n",
       "      <td>0</td>\n",
       "      <td>0</td>\n",
       "      <td>0</td>\n",
       "      <td>0</td>\n",
       "      <td>0</td>\n",
       "      <td>0</td>\n",
       "      <td>0</td>\n",
       "    </tr>\n",
       "    <tr>\n",
       "      <th>...</th>\n",
       "      <td>...</td>\n",
       "      <td>...</td>\n",
       "      <td>...</td>\n",
       "      <td>...</td>\n",
       "      <td>...</td>\n",
       "      <td>...</td>\n",
       "      <td>...</td>\n",
       "      <td>...</td>\n",
       "      <td>...</td>\n",
       "      <td>...</td>\n",
       "      <td>...</td>\n",
       "      <td>...</td>\n",
       "      <td>...</td>\n",
       "      <td>...</td>\n",
       "      <td>...</td>\n",
       "      <td>...</td>\n",
       "      <td>...</td>\n",
       "      <td>...</td>\n",
       "      <td>...</td>\n",
       "      <td>...</td>\n",
       "      <td>...</td>\n",
       "    </tr>\n",
       "    <tr>\n",
       "      <th>873</th>\n",
       "      <td>R19SW0F8ID3FIZ</td>\n",
       "      <td>Reviewed in the United States on February 9, 2018</td>\n",
       "      <td>Sandy Soto</td>\n",
       "      <td>5</td>\n",
       "      <td>Great stuff</td>\n",
       "      <td>Great stuff good price Came quickly</td>\n",
       "      <td>True</td>\n",
       "      <td>B004RC4S3M</td>\n",
       "      <td>B004RC4S3M</td>\n",
       "      <td>February 9, 2018</td>\n",
       "      <td>...</td>\n",
       "      <td>0</td>\n",
       "      <td>0</td>\n",
       "      <td>0</td>\n",
       "      <td>0</td>\n",
       "      <td>0</td>\n",
       "      <td>0</td>\n",
       "      <td>0</td>\n",
       "      <td>0</td>\n",
       "      <td>0</td>\n",
       "      <td>0</td>\n",
       "    </tr>\n",
       "    <tr>\n",
       "      <th>875</th>\n",
       "      <td>R2W6UJFJVEIWML</td>\n",
       "      <td>Reviewed in the United States on February 3, 2018</td>\n",
       "      <td>kassabele</td>\n",
       "      <td>5</td>\n",
       "      <td>I love this primer</td>\n",
       "      <td>I love this primer It goes on super soft and d...</td>\n",
       "      <td>True</td>\n",
       "      <td>B004RC4S3M</td>\n",
       "      <td>B004JRU4YW</td>\n",
       "      <td>February 3, 2018</td>\n",
       "      <td>...</td>\n",
       "      <td>0</td>\n",
       "      <td>0</td>\n",
       "      <td>0</td>\n",
       "      <td>0</td>\n",
       "      <td>0</td>\n",
       "      <td>0</td>\n",
       "      <td>0</td>\n",
       "      <td>0</td>\n",
       "      <td>0</td>\n",
       "      <td>0</td>\n",
       "    </tr>\n",
       "    <tr>\n",
       "      <th>876</th>\n",
       "      <td>R3JVVWU8VX0FYE</td>\n",
       "      <td>Reviewed in the United States on February 1, 2018</td>\n",
       "      <td>Lola</td>\n",
       "      <td>5</td>\n",
       "      <td>... this primer and have found it to be the be...</td>\n",
       "      <td>I have been using this primer and have found i...</td>\n",
       "      <td>True</td>\n",
       "      <td>B004RC4S3M</td>\n",
       "      <td>B004RC4S3M</td>\n",
       "      <td>February 1, 2018</td>\n",
       "      <td>...</td>\n",
       "      <td>0</td>\n",
       "      <td>0</td>\n",
       "      <td>0</td>\n",
       "      <td>0</td>\n",
       "      <td>0</td>\n",
       "      <td>0</td>\n",
       "      <td>0</td>\n",
       "      <td>0</td>\n",
       "      <td>0</td>\n",
       "      <td>0</td>\n",
       "    </tr>\n",
       "    <tr>\n",
       "      <th>877</th>\n",
       "      <td>R2TNDIYGNVI00K</td>\n",
       "      <td>Reviewed in the United States on January 31, 2018</td>\n",
       "      <td>Sarah</td>\n",
       "      <td>5</td>\n",
       "      <td>Added to repeat buy list</td>\n",
       "      <td>Goes on so smooth and last all day</td>\n",
       "      <td>True</td>\n",
       "      <td>B004RC4S3M</td>\n",
       "      <td>B004JRU4YW</td>\n",
       "      <td>January 31, 2018</td>\n",
       "      <td>...</td>\n",
       "      <td>0</td>\n",
       "      <td>0</td>\n",
       "      <td>0</td>\n",
       "      <td>0</td>\n",
       "      <td>0</td>\n",
       "      <td>0</td>\n",
       "      <td>0</td>\n",
       "      <td>0</td>\n",
       "      <td>0</td>\n",
       "      <td>0</td>\n",
       "    </tr>\n",
       "    <tr>\n",
       "      <th>879</th>\n",
       "      <td>R3IZ9PY1KBN2I</td>\n",
       "      <td>Reviewed in the United States on January 18, 2018</td>\n",
       "      <td>Ally Stage</td>\n",
       "      <td>4</td>\n",
       "      <td>Life changing</td>\n",
       "      <td>Bought this as my first experience with primer...</td>\n",
       "      <td>True</td>\n",
       "      <td>B004RC4S3M</td>\n",
       "      <td>B004RC4S3M</td>\n",
       "      <td>January 18, 2018</td>\n",
       "      <td>...</td>\n",
       "      <td>1</td>\n",
       "      <td>0</td>\n",
       "      <td>0</td>\n",
       "      <td>2</td>\n",
       "      <td>0</td>\n",
       "      <td>0</td>\n",
       "      <td>0</td>\n",
       "      <td>0</td>\n",
       "      <td>0</td>\n",
       "      <td>0</td>\n",
       "    </tr>\n",
       "  </tbody>\n",
       "</table>\n",
       "<p>795 rows × 90 columns</p>\n",
       "</div>"
      ],
      "text/plain": [
       "                 id                                        review_data  \\\n",
       "0    R3U2M6MV8JBOZR  Reviewed in the United States on October 11, 2021   \n",
       "1     R8VFGCY2KULP9  Reviewed in the United States on October 10, 2021   \n",
       "2    R3T2HFILJSO7WL   Reviewed in the United States on October 9, 2021   \n",
       "3    R2R93T4E4BY1PD   Reviewed in the United States on October 8, 2021   \n",
       "4    R2JGGV96MFTZKR   Reviewed in the United States on October 2, 2021   \n",
       "..              ...                                                ...   \n",
       "873  R19SW0F8ID3FIZ  Reviewed in the United States on February 9, 2018   \n",
       "875  R2W6UJFJVEIWML  Reviewed in the United States on February 3, 2018   \n",
       "876  R3JVVWU8VX0FYE  Reviewed in the United States on February 1, 2018   \n",
       "877  R2TNDIYGNVI00K  Reviewed in the United States on January 31, 2018   \n",
       "879   R3IZ9PY1KBN2I  Reviewed in the United States on January 18, 2018   \n",
       "\n",
       "                 name  rating  \\\n",
       "0    Nicole flowerdew       5   \n",
       "1          Robbie See       5   \n",
       "2      Tami Mortensen       1   \n",
       "3               Diane       1   \n",
       "4              Kiki C       1   \n",
       "..                ...     ...   \n",
       "873        Sandy Soto       5   \n",
       "875         kassabele       5   \n",
       "876              Lola       5   \n",
       "877             Sarah       5   \n",
       "879        Ally Stage       4   \n",
       "\n",
       "                                                 title  \\\n",
       "0                                      Absolutely love   \n",
       "1                                  I love this product   \n",
       "2                     Not what I was expecting at all.   \n",
       "3                 Too sheer and does not help redness.   \n",
       "4                                              Skip it   \n",
       "..                                                 ...   \n",
       "873                                        Great stuff   \n",
       "875                                 I love this primer   \n",
       "876  ... this primer and have found it to be the be...   \n",
       "877                           Added to repeat buy list   \n",
       "879                                      Life changing   \n",
       "\n",
       "                                                review  verified_purchase  \\\n",
       "0                                      Absolutely love               True   \n",
       "1    I have tried many different kinds of products ...               True   \n",
       "2    It was almost oily feeling and didnt leave the...               True   \n",
       "3    Waste of money Threw in the garbage Way too sh...               True   \n",
       "4    Waaaay too small for the price and not really ...               True   \n",
       "..                                                 ...                ...   \n",
       "873                Great stuff good price Came quickly               True   \n",
       "875  I love this primer It goes on super soft and d...               True   \n",
       "876  I have been using this primer and have found i...               True   \n",
       "877                 Goes on so smooth and last all day               True   \n",
       "879  Bought this as my first experience with primer...               True   \n",
       "\n",
       "    asin.original asin.variant         date.date  ...  difference  got put  \\\n",
       "0      B004RC4S3M   B004RC4S3M  October 11, 2021  ...           0    0   0   \n",
       "1      B004RC4S3M   B004RC4S3M  October 10, 2021  ...           0    0   0   \n",
       "2      B004RC4S3M   B004JRU4YW   October 9, 2021  ...           0    0   0   \n",
       "3      B004RC4S3M   B004JRU4YW   October 8, 2021  ...           0    0   0   \n",
       "4      B004RC4S3M   B004RC4S3M   October 2, 2021  ...           0    0   0   \n",
       "..            ...          ...               ...  ...         ...  ...  ..   \n",
       "873    B004RC4S3M   B004RC4S3M  February 9, 2018  ...           0    0   0   \n",
       "875    B004RC4S3M   B004JRU4YW  February 3, 2018  ...           0    0   0   \n",
       "876    B004RC4S3M   B004RC4S3M  February 1, 2018  ...           0    0   0   \n",
       "877    B004RC4S3M   B004JRU4YW  January 31, 2018  ...           0    0   0   \n",
       "879    B004RC4S3M   B004RC4S3M  January 18, 2018  ...           1    0   0   \n",
       "\n",
       "     bought  however  disappointed  felt  tone  purchased  thin  \n",
       "0         0        0             0     0     0          0     0  \n",
       "1         0        0             0     0     0          0     0  \n",
       "2         1        0             0     0     0          0     0  \n",
       "3         0        0             0     0     0          0     0  \n",
       "4         0        0             0     0     0          0     0  \n",
       "..      ...      ...           ...   ...   ...        ...   ...  \n",
       "873       0        0             0     0     0          0     0  \n",
       "875       0        0             0     0     0          0     0  \n",
       "876       0        0             0     0     0          0     0  \n",
       "877       0        0             0     0     0          0     0  \n",
       "879       2        0             0     0     0          0     0  \n",
       "\n",
       "[795 rows x 90 columns]"
      ]
     },
     "execution_count": 39,
     "metadata": {},
     "output_type": "execute_result"
    }
   ],
   "source": [
    "df"
   ]
  },
  {
   "cell_type": "code",
   "execution_count": 57,
   "metadata": {},
   "outputs": [
    {
     "data": {
      "text/plain": [
       "['It was almost oily feeling and didnt leave the green base to cover up my redness like I was expecting Not impressed with this at all Ive bought Nyx green in the past for my redness and it was awesome so not sure what happened with this one,Waste of money Threw in the garbage Way too sheer and the green did not work at all,Waaaay too small for the price and not really that good of a primer either,Pretty sure this product is not authentic or its expired The product separates a lot and seems really oily It also does NOTHING for redness,I previously got another green primer from NYX and I loved it It was so creamy and really reduced my redness However the consistency for this primer is off its more matte which is ok I was just surprised in comparison to my last NYX primer and it doesnt reduce my redness as much as my last primer did As for keeping my makeup on which is the goal for most primers I feel like it doesnt do much,Did not mask any redness on my face Its more of a regular primer not a redness cover up Absolutely useless for me,Im very disappointed in this because it is not the same product as in the tubes with the wands It is watery and then feels greasy and my skin is still showing red and dark circles,Very disappointed Didnt help reduce redness at all,It doesnt work,It feels Cakey and doesnt look natural under my liquid foundation,Feels greasy,I wanted to like this affordable product so much especially with all the good reviews But I felt like it broke my face out I dont like the way it feels either Im bummed about this purchase,Made my skin breakout,Pretty sure this isnt the same product I usually buy Ive usedthis product for years to mix into foundations that are too yellow for my very fair skin tone the formula is not the same at all,Terrible primer Doesnot fill pores for smooth look,I liked it and used it but it caused my skin to break out When I stopped using it my skin was healthier no pimples Maybe it just didnt work well on my skin,Dont recommend this,I purchased this product to cover broken veins and to conceal my big pores It didnt do either Total waste of money,Terrible quality This is runnyoily doesnt show up no concealingpriming or green color and has an unpleasant odor I used it once and immediately washed it off A color correcting crayon though very dry is a better choice,I think this may have been a counterfeit productIt was very thin nearly watery and it did not hide or cover red in any way The product normally works which I why I wonder if it is fakebut the packaging looked real I threw it outcomplete waste of money,Doesnt really accomplish what I purchased it for Too thin Also the sizeamount is a bit less than as advertised,Your browser does not support HTML videoLooks like old product,I ordered the green one and I bought this to cover my redness but this works the same as the clear one I was expecting this to be thicker paste so it could color correct the red but it did no covering Its a nice primer if you have nothing to cover but this is supposed to cover redness so Im giving it one star Save your money if you actually need a color corrector,I wanted to find something not as expensive but clearly you get what you pay for No good smell I cant tell if it changes my skin tone The only good thing is the silky smooth feel I will not purchase again,Dont waste your money honestly,Cheap products,Makes my foundation flake off Feels super oily,This product does nothing for redness It basically goes on clear It also is a terrible primer This product is greasy and my makeup slides off my face when I try to apply it over this primer If you want something redness reducing I suggest ErborianCC Color Correcting  Redness Reducing Broad Spectrum SPF  Its more expensive but it actually does reduce redness,Doesnt spread as easy as other related products,Does nothing to cover rednessNothing but an oily lotion,Its not good at all A waist of money,It doesnt even cover any of my redness Its more of a moisturizer,While this primer makes my skin feel silky smooth it does little if anything to correct the redness in my face,I got this product to help with my pores and it seemed like it enhanced my pores more then anything I tried with and without moisturizer first Ive tried a different foundation and kept getting the same results Does not work Would not recommend,My face has a lot of redness so I had high hopes that this green primer would help diffuse the redness a bit It did not Not at all However it does work good as a primer,I have red skinI bought this to tone under my makeupIt is too sheerhelps only a littleBut not worth it,This is not a cover up or corrector its an oily green tinted lotion that doesnt do anything but make skin feel greasy,Oily runny doesnt do anything for redness Complete waste of money,if youre looking for a moisturizing product likely look elsewhere this is an extremely thick and slick solution that immediately caused my face to feel tight and my foundation lasts longer without this product,Greasy Doesnt do anything,When I first opened the product it was great but after about a week of not using it all the oil has separated and wont mix with the rest of the product anymore I tried shaking it and putting it in my beauty fridge but its no use,This does not do what it is advertised asIt does not remove any redness at all,I LOVE anything NYX and Im so disappointed by this It makes my concealer get goopy and clumpy around my nose Wouldnt recommend it,Doesnt work like at all Face is just as red And its REALLY greasy Save your money,Completely useless against redness Granted I think I have more redness than someone with darker skin tones Im very pale but there was literally NO difference when I put this on one side of my face to compare with the side without product Also a very nasty greasy feeling Makes it difficult for liquid foundation to go on top of it Very disappointed,Item is old Does not matter how often or how hard I shake the bottle it does not mix When I try to squeeze some out it is just oilIt has absolutely no coverage,I got the green primer for redness color correction It does nothing  absolutely nothing  to correct the red It also feels like Im covering my face in cooking grease Lovely,Whomever said this primer is the best is dead wrong This is the absolute worst It does nothing but moisturize my skin a little Does not help with redness Does not help foundation last longer Does not help with anything I do not recommend this to anyone If you want an inexpensive primer use Hard Candy brand primer,If you are looking for a primer this one is greatIf you are looking to have your Rosacea covered this does nothing to cover the redness,This product is a waste of money at any priceProvides absolutely NO coverage of red or bruised areas under coverup or body makeup Dont waste your money,This product does not work at allIts fake news and snake oil,It smells bad and looks very fake,It doesnt really apply well,Its not the best as stated,This product doesnt work at all It is greasy doesnt absorb and most importantly doesnt help with redness There are great products out there but they are much MUCH more expensive Unfortunately,Someone took pkg and I need photo of item and all info so I can collect Do you have cs phone  I am  and need help  pkgs taken the nd was the pink tubeMalley which was delivered I need someone to help me collect for them Please connect me with help Thx,I thought I would try this since it is cheaper than the product I usually use smashbox but it is not even close to providing the coverage than smashbox doesIt just makes the skin very oily and the foundation looks shiny after applying over this primer,I bought this because of the reviews but honestly was not impressed I dont know if it was the batch that I got but it was really oily and the texture was just off,I was very excited to use this primer because it has tons of great reviews however Im not a fan It does go on smooth and gives your face a silky feel so thats great but it did nothing when it came to redness My cheeks have a natural red tint and throughout the day my foundation wears off and reveals it I thought this green primer would fix it but it did not,If youre looking for a product to cover redness even a little bit this is NOT the product for you It doesnt cover any redness or dark marks,Saved money but it wasnt worth it Going back to Laura Geller Spackle,This stuff is like greencolored grease or somethingDoes nothing to combat redness and leaves a dreadful greasy residueTruly terrible,This was not very green and did not control or cover redness like advertised,Breaks my skin out Also when applying my foundation it wasnt easy applying it because it felt as if I was wearing a mask If you have oily skin it doesnt work At least not with me,Doesnt have staying power Makes my skin oily after a while,I bought this because it was cheap and a larger size than my normal Elf Product Alas I will go back to Elf  The Elf primer causes my makeup to distribute easily across my skin but this primer does not Two stars bc its better than no primer at all,Does not cover the redness,I suspect this was counterfeitIt was greasy chemicalsmelling the packaging didnt match the official NYX websiteand it didnt seem like the same level of quality of packaging or product that NYX usually hasIt was also underpricedI returned itI opened it and couldnt stand the smell and was disgusted by the oozy grease leaking out when I got ready to use it,It comes off after  min So when I rub my face to put concealer or foundation after primer it just peels off like dead skin,Nice coverage under foundation but clogs pores and caused breakouts Would not recommend,I have finally pinned down that this primer is what Im allergic to while Im doing my makeup Its nothing severe although it does seem like it gets worse with each use Now that I have discovered its the primer it went straight in the garbage I never had issues with the product when I purchased at the store so Im assuming this one is fake and there is an ingredient in it that shouldnt be,Caused me to break out My skin was very angry after using this,Dont buy,Wouldnt use again,It was a clear wet gel that took forever to dry and didnt seem to do anything,For some reason my eyes start watering when I wear thisIt might not bother others,Really thin and oily My foundation just slid around on this primer It didnt do anything for my redness either,The packaging is great and easy to use Didnt make my makeup last longer or help cover my acne,Not a good primer at all,Very oily product Made me break out,Not happy gives a sensation of silk,This product is fake see the original photo On Amazon,Very oilyDid not cover rosacea,it comes out almost clear so does nothing for your redness on your face I even did it on only one side of my face to see if it made any difference but did NOTHING it comes out so clear almost as if nothing was there A clear green tinged cream,This product did absolutely nothing to prime my skin,Did not make a difference in my red complexion I am not a fan,Didntdo as advertised,Was not very thick so it didnt seem to mask redness like I figured it could,Dont buy this product as it is fake When comparing packaging and ingredients listed and shown directly on the NYX website this product does not match The super low price less than  compared to around  at Walmart should have been a red flag The packaging looks so close you would never know unless you looked closely but it is missing trademark symbols has text that is difficult to read and the ingredients dont quite match those listed on the NYX website I read some other more buried reviews that also reported this being a counterfeit dupe Lesson learned Im just glad I didnt put the product on my facewho knows what is in it,Maybe it was just my face but this primer made my skin look pale and ashy I also did not the way it felt on my face,Im  or  inches from my mirror and I cant tell that the product has done anything Theres virtually no difference before and after I put it on Really angers me when I feel like I completely wasted my money,This product did zero to tone down natural red undertones I found another one that I could try before I buy that actually worked a miracle Dont waste your money This will do nothing to calm down redness however it does have a silky feel and Im going to use it until its gone because I HATE to throw away money,I used this spray primer as directed but it made it very difficult to apply my foundationWhen I finally got it on it was very uneven and cakey It looked terrible I must be doing something wrong because it didnt do anything for me that all the videos Ive watched promised Ill just go back to using my foundation on top of my moisturizer and skip the primer,This never showed up and it stank a lotThose girls were born into a good life,Not really impressed It felt soft and went on smoothly but it definitely did not decrease the appearance of pores or fine lines at all In fact it did the complete opposite My face looks more leathery and texturey with this mess on I wont be purchasing again and do recommend spending a little extra for a good primer,Terrible product Did not cover any redness whatsoever the consistency is very watery In fact it made my skin even more red Dont waste your time and money in this product,I got this because the reviews made it sound promising but I wish I hadnt wasted the money My foundationconcealer still cracked and looked awful when I was wearing it I tried it a bunch of ways to see if it was just one thing I tried withwithout applying mousterizer I tried it with just foundation tried it with just concealer tried it withwithout finishing spray Didnt work no matter what,The stuff feels sticky but when you apply it has not primer effect other than drying out the skin If I were you would save the money and not get it,The green tint does absolutely nothing I would recommend LA Girls green concealer over this product by a mile if youre trying to hide redness or counter warmth in your foundation,This primer is heavy Even if I waited a while before applying foundation and used the softest foundation application brush this primer does not stand up or layer well,This product didnt improve the tone of my skin at all Made no difference,Not for me,This primer is horrible Greasy and does not cover anything Do not recommend and would send back if I could,I didnt like this primer and it didnt like me back I dont think it did anything,the green tint in this primer is supposed to counter a ruddy complexion but the product instantly turned my face seriously redwherever I used it immediately went dark red and I was very relieved when it returned to normal blotchy red after I washed it offback to square one,When I put it on it felt good on my face however after applying foundation it caused my face to flake Strange,Did It work for me at all Was using product to off set the red in my faceAlso so slippery I was so hoping it would help,I used this product for several weeks to reduce redness on my skin but I unfortunately me at saw a change,made me light,This did not help reduce or even the tone on my skin at all Perhaps if someone had very good coloring with occasional splotches but not at all for uneven skin tone,This does not negate red color in face Total waste of money,This made my skin more oily and only lasted part of the the day,The bottle was half full,Not good primer,Very thin Did not cover skin redness,Doesnt neutralize redness as well as I had hoped,I tried this product after using a different brand more recently This product is very greasy and I received no added longevity of my makeup Going back to my old brand,I would not recommend This is not a dupe for smash box as I had hoped,Gummed up immediately Not ideal for layerering you foundation,This is not the real product It does nothing for color correcting at all Feels so greasy and horrible When i took it off at the end of the day my red cheeks and neck i have roscea those the need for color correcting was redder and splotchier then it normally is,This mask is too thin to workI tried putting on two coats and it still tears off in schards too thin to workI wont buy again,I normally use Colorescience All Calm and I LOVE the product  it feels great on my skin greatly reduces the redness and has SPF I decided to look around for another redness reducer that is friendlier to the wallet but this product is NOT the solutionAs a primer it is simply OK  it glides on well but feels more like a gel similar to a product Ive used in the pastPerhaps it simply doesnt work well with my liquid foundation but the mix is horribleOnly after I add the powder can I step out in publicAs a redness reducer it does not work at allFAILOverall extremely disappointed in this product,Not at all matte  does nothing for my skin The green is clear and no less shine,I really wanted to like this product I loved the feel of it on my skin right after I applied it Then I put some concealer over it and it was like it rubbed off Like silicone glue I would use it when Im not wearing any facial makeup,This did absolutely nothing to help with redness or discoloration or as a primer Cant believe it got any good reviewsJust happened to pick up Cover girl green primer while I was at CVS and it works great,Sadly contained leaked some of the liquid during shipment  container was covered on it Sis not have time to return,This product does feel smooth on my skin but does nothing to cover the redness Will not purchase again,Im not a huge fan of primers as most seem to make me breakout but this did not I didnt notice a big difference in using this product compared to no primer so I dont think I would purchase it again,I wanted to love this after reading so many of the positive reviews on it and I liked that it was crueltyfree but I was highly disappointedFrom the first use this primer left my entire face feeling greasy and disgusting as if I hadnt washed my face in a week I endured it for a couple of uses knowing my face tends to have dry skin from time to time Even with moisturizer and using it for a month the feeling did not change or improve And it also did not help with smoothing fine lines and pores in my skin  I felt like it made them more apparent actuallySo while this primer may not be for me It might work for you Everyone has different skin and things can feel different from person to person But this is not a good primer if you have dry skin from my experience If dry skin isnt an issue for you I say give it a shot and see if you like it Its the only way youll really know,The quality is REPULSIVE Do not waste your money this looks and feels cheap like something from the dollar store and doesnt work well at all I think it made me break out a little also If I could give zero stars I would,I was hoping this was a good dupe for my smashbox photo finish but it wasnt When you use it it starts to clump and come off in rubbery pieces Stopped using it  LOVE THIS BRAND but this product just didnt work for me,There are far better similarly priced primers out there ELF is really good,Product arrived in a sandwich bag looked at tube its so old I could not read any of the printing or faded away in spots Cant use this not sure if expired or if its what I ordered,Asco de producto me saco espinillas,Made my face dry and flaky,This is the worst primer I have ever used Makeup looked very caked on after a few hours of wear and also gave me an orange glow after a couple hours,Muy poco producto,I thought it was very thin and didnt really cover the red like it says,I was really looking forward to this product and was quite disappointed when it arrived and I found out hell runny and watery it wasIts more like goop than it is a sicker foundation type productsIt barely has any green collor and does not cover red at allFor me it is completely useless Disappointing,This primer is not for oily skin I have never had a problem with my make up rubbing off but with this stuff I couldnt even touch my face slightly without my makeup rubbing off And rather I touched my nose or not the make up would be off after about five hours I just stopped using it today and my make up was flawless and stayed all day It also takes a lot of product to cover the face,Not a fan I love this brands product however this product is super oily and watery Not at all what I expected I will pay more and buy a better product,Very very light and once blended in you cant see any difference It is also very greasy,Some days its gloopy some days its really liquidy and nasty I heard this product is good Im disappointed,Broke my skin out in just one use,Left my complexion oily,Doesnt work dont buy,This does absolutely nothing for me Its a clear gel and doesnt fill or cover or anything I might as well have put water on my face Ill stick with my Benefit primer,EXTREMELY oily for skin,Had previously purchased NYX Studio Perfect Primer Green from a local store and liked the product When I ran out I purchased this product from Amazon in June The packaging and formula from the Amazon product differed from what I purchased in sore The Amazon version was oily and goopy the writing on the packaging was faint and difficult to read In the photo left is store bought right Amazon boughtIn terms of the product itself purchased from the store I like the feel of it and it does a good job providing a smooth surface on which to apply my foundationAlthough the product claims to color correct I have seen no redness reduction in my skin when I use the product I will repurchase in store,I bought this in green to correct red spots This product doesnt do much of anythingIt disappears immediately after dabbing it onto my skin Before I even get a chance to blotblend its gone Ive tried applying larger amounts even excessive amounts and it still doesnt conceal any redness I always shake before use but it always seems to squirt out separated half green and half liquid,Very oily,This does not work well on my face it felt like an oil slick after putting makeup on However somehow I started putting it on my feet It made them feel really smooth and not sweaty ,Ill stick with the more expensive brandsThis one does not help much with keeping the shine down,I did not like this product at all It was a waste of my money It leftmy face with like this white clear peel it never even was able to spreadhow it should,Like others I had the issues of this product only functioning as a primer There was no redness reduction I even applied the primer to half my face and waited a few hours to compare Sadly no difference,I though this would help cover the redness of the face but it doesnt it is just a regular primer that looks green but it does not cover the red areas of the face as expected,Product was very oily separated and smeary I sent it back,DO NOT PURCHASE FROM THIS SELLER THIS IS A KNOCK OFF AND NOT THE REAL ITEM PICTURED I just received mine and it is not whats in the picture You can see the label difference in my pictures and the product feels totally different than the real thing,Greasy and does not cover at all Complete crap,I received a FAKE I didnt even notice at firstbut then my skin started turning red and blotchy When I inspected the packaging I noticed that the one I received looks different than advertised by the seller as well as the NYX website Upon even further inspection I found spelling errors on the front and back Come on guys I dont even know what this garbage is made of and I feel disgusted having put it on my skin ,Had poor consistency and did not apply well,Didnt provide good coverage or balance to my face,Did absolutely nothing,Horrible oily and very runny consistency Will not buy again,Product does not work to blend and correct skin toneTry another option',\n",
       " 'Absolutely love,I have tried many different kinds of products but this one goes on smoothNot grease at all,This product makes my skin feel SO soft Its a makeup primer but I also use it without makeup Love this product,Love this primerDoesnt take much but makeup goes on so smoothlyAmazon price is the best for this product,The primer goes on very smooth and does make my foundation makeup look nicer It has a soft glow for older skin and I would recommend,Helps makeup glide on and looks better Last longer too Its not a moisturizer its a mattifyer and works as well as the more expensive primers You need to moisturize before the primer Its fragrancefree and invisible,Omg I usually dont write reviews but this product I just had to Once I applied to my clean face  I could see the difference  Then after I applied my make up it was awesome  I was outside in the humidity for  hours and make up was still on point  Love this product  And a little goes a long way  Please dont buy all and leave me some ,Im old so what I really want is something to smooth out all the wrinklesThis does not do thatWhat it does do is provide a smooth foundation for my makeup foundation liquidMy makeup goes on so much more smoothly and seems to last much longerI live in hot humid Florida and this helps keep makeup from being absorbed into my skin and makes it have a smoother look longerFeels great on my skin tooNo scentI dont use it to moisturize not even sure if its advertised for thatTry it I think youll love it,I love this primer and I wont switch Its so smooth and lightweight,Ya gotta use a PRIMER and this is a good one,Its like spackle for the face Sunscreen this stuff mineral powder and Im good to go I have searched high and low for a primer that actually hides texture imperfections Very happy with it Ive had green primer that cuts redness betterbut this one is the Ace for texture,I bought this product because I was having trouble doing contouring on and around my noseI ve had numerous nose surgeries and have different nostril sizes I need to contour but the makeup wouldnt stayWith this primerI can contour my whole face and nose and received a comment from a makeup artist online who called my makeup phenomenalYaaaaaay It doesnt dry out my face and I have a flawless look,This is very nice under makeup and lasts a long time It will be my favorite,I like how smoothly it covers my skin Im  and it makes lines less noticeableI dont like the Tube it comes in Its difficult to retrieve the contentsIve ordered it three timesthis time there was less Primer in the Tube,I love everything about this primerWill definitely be back for more,Im obsessed with this primer And this little bottle LASTS It makes my make up look soo much better I highly recommend,Great product,Deminished my pores,Works great my skin is soft,I love this productFeels great on the skin and makeup just glides over it making it look so smooth,A great dupe for Smashbox photo primer at a much lower priceSimilar in that both are clear apply well arent heavy  makeup applies well over primerNot quite as silky feeling as smashbox,Works wellSmoothI really love thisI have dry sensitive skin,I love this stuffI tried it after reading the reviews and it seems just like smash box primer my go to for years I just didnt want to pay the price for itIm so happy I found this,I love it its perfect it even works for people with dermatitis,Makes makeup look flawless,Good product No fragrance Goes on super smooth Definitely helps so makeup goes on smooth and you end up using less liquidcreme foundation Love it,Love love this primer After years of cancer treatment I have severe redness on my cheeks and nose and this is the only product on the market that works for me,Oh my this stuff makes my skin so soft I love it Dont know if it helps the makeup last longer but it makes my skin happy so Im going to keep using it,Makes skin look flawless,LOVE IT My favorite brand of primer so far is Smashbox but I dont care for the price of it This is very comparable to Smashbox at  the price,This is my second time ordering this product and it works well for my dry sensitive skin,Loved sheerness,I have been using an expensive primer for years and have tried other less expensive onesThis will now be my primer of choice Goes on smooth make up easy to apply and little to no scent I will reorder again,This is a great product to apply before your makeup Leaves your face fresh and smooth I did not notice it reducing the redness of my skin that was the reason I purchased the product I would buy it again for the smoothness it gave my skin,This is a keeperGreat primer,It helps eliminate the shine,Sits nicely under my foundation,To me is is similar to Smashbox which is triple the price,Love it bery smooth,Ive always liked this product and now I like that I can buy on Amazon for a great price,Has become a favorite to my make up routine,This product cuts the redness out of my skin I love it,I liked it very much,I have never used primer before but a friend recommended this productWell Im in loveMy makeup has never gone on so easy or looked so goodIf I could I would give  stars,I love the feel of this primer but it has an odd smell,Cover up,Awesome stuff,Me gusta la textura,Works great and isnt oily Will be buying again,Use this everyday,Very soft and moisturing primer,Good,Best ever Loved it so much Your sling feels wonderful,Great for under foundation,Best drug store primer for a flawless finish,Does a great jobI use inexpensive primer and high quality make up and it works beautifully,Love Sooo soft,Helps with oily skin Love it,I must say I never thought it would be as good as the brands that I have purchased that cost three four times as muchDont waste your money on the othersTry this outI will be purchasing this item againIm saying goodbye to those expensive brands,I started dressing with wife and this prodct works good to hide  oclock shadowWife also likes how makes up blends to her skin and makes her skin smooth,This is a great product will absolutely buy again,So impressed,Very velvety smooth texture Not super moisturizing if you have dry skin but its not oily which I like I like most of NYXs products and this one did not disappoint,Exactly what I ordered packaged well and great product,This is the best makeup base I have ever used Feels wonderful going on and really smooths complexionfor a perfect application of makeup I love it and never want to run out of it,I really like this it works great for me,I tried this for the first time yesterday and it made my make up go on so easily I love it,Very silky to the touch and makes my skin appear very smooth,bought this as a piece of a starter kit for make up would recommend to those who are looking to learn how to do makeup but dont want to spend a lot of money upfront,I usually mix this with my foundation and it makes it super light on my skin The primer itself is very light on the skin as well It makes your face very smooth even with just little product  would recommend ,This product is everything it claims to be Love it,Just got it today LOVE IT Works so well and my makeup looked great all day all night,Ive always used this brand of primer Many different types in this brand Good pricing too,This stuff minimizes wrinklesFeels so soft I love it,I finally got to open it up and try it I loved it Highly recommend,This primer is awesome Its smooth and does the job Also moisturizes,I dont know much about makeup but this was recommended and I am so happy with it I absolutely love it and will never wear my makeup without it again,The primer was super easy to apply I used my fingers as I feel like that would be the best application as it feels like a more siliconebased primer I used it with my stick foundation and it was great EXCEPT near my nose area oddly When I applied my foundation the foundation wouldnt adhere properly and looked like it was cracking and dry Which didnt make sense to me I think you should proceed with caution if you use a stick foundation but if you use a liquid style foundation I feel like there would not be as many bad interactions,It works Makeup comes out looking flawless,Love this primer Great price and same quality as my high end make up primers Definitely recommend,Great primer I was very hesitant at first bc Im used to high end products but this surprised me in a great way If u have any redness on ur skin as I do sometimes this primer works wondersUnbelievable shipping received product earlier than I had expectedThank u so much,Great primer for great price I have been using Estee Lauder or Laura Gellar for years which are both around  This NYX works just as good nice smooth finish to apply foundation I really dont see a difference especially since I only paid  Granted the others are  oz tubes and this is  oz but still would be half the price Is sold,I do not notice a difference in how my foundation applies with this Oh well,Ive never used a primer and I love this stuff,Love how it goes on,I switched to this from the Smashbox original Photo Finish primer which was my holy grail primer in terms of functionality but unfortunately would break me out if I used it too frequently I really like that this NYX version has a more stripped down ingredients list that is a lot more friendly to sensitive skinAt the same time this primer isnt quite as good It provides a very smooth silky canvas and smoothes over texture well but it is a lot less oilcontrolling This is a great choice for dry or combodry skin but less so for oily or combooily,Oh my goodness the tiniest bit makes my skin so soft  its like magicIt did not work for my waterbased foundation though  took some research to realize the oilwater issue is why it was clumping up immediatelyI still use it when Im not rocking foundation like a just highlighter day though and I love it,LOVED IT,Ive been wearing foundation without a primer every day for  yearsI never thought I needed one until I tried thisI have missed out on so muchIt makes my makeup application look so smooth and lasts into late eveningUsually by the end of the day I look washed out because my foundation lasts only  hoursNow I look fresh faced all dayI decided on using primer with the hopes of preventing my foundation from rubbing off onto my covid face maskIt does minimize rub off but I still see mask lines on my cheeks and foundation on my maskI used too much primer one day under my mask and my skin ended up looking chalky and awfulIm thinking about trying out a  hour foundation with this primer,Skin type oily and sensitiveTone warmColor mediumlight pralineMy skin is oily and I also use a sunscreen that adds a little more shine I hoped to use this without makeup in order to matteify my skin It reduces shine a lot but only for a short while About an hour later my skin was shiny again The antiredness effect is subtle but it workstldr great as a primer with makeup but not longlasting enough for allday shine control,My first time using a primer and I gotta day I noticed a huge difference Foundation went on much smoother makeup stayed on longer and I usually get oily by the end of the day but with this product I can say I look  less oily This product has definitely changed my game,Great size for price,Does great,I debated whether I should put three stars or four Its an excellent primer so four it is Better than most primers Ive used in the past However as a redness concealer Im disappointed It doesnt make a difference on my rosacea whatsoeverOverall Ive become a big fan of NYXs products in general,I have used this product for two years now and cant live without itIt is perfect for those with oily or combination skin as it just smooths the skinIf you dont feel like wearing foundation this is a nice alternative However when wearing foundation this is sort of like an amazing clear spackle for ones faceHighly recommend,A little goes a long way Ive used baby skin primer and had to use a decent amount and then my skin was left feeling greasy This NYX primer is extremely lightweight even if you were to accidentally use more than usual Its quick to dry and does the job to hide pores and linesWill definitely be buying again,Pro  Goes on easily  smoothly is nicely sheer other makeup Eg blush goes on like a glove no scent Con  Would like if came in a larger size,Gives me a smooth finish,Great primer no scent and doesnt clog pores I have cystic acne and sensitive skin and it does not effect that I prefer a matte look verse shiny and this does the job,Me encanto,Love this product So light and smoothing,I really enjoy this primer I have fine lines and dry skin and was looking for something silicone based to help fill in my fine lines and work well with all the moisturizer I have on my face I love the silky texture of this product truly feels incredible on the skin lightweight helped with moisturizing and best part was that it DID help to fill in my fine lines especially near my eyes so my makeup looked much much more flawless and smooth I highly recommend,Product glides on great gives me a smooth finish Filla in most pores and lines just not he deep set ones in the forehead Will definitely keep buying,Great product,Gave as a gift,Have never used a base product so I didnt know what to expect Surprised by how wonderful it made my base look Less flaws and pores showing on my face,Wonderful product I hadnt used toner before but it made a good deal of difference for me,I really like this It seems to blur very slightly and makes my skin look softer and a little younger who wouldnt want that I dont even bother with foundation anymore I simply use a good moisturizer I recommend Jason Natural Cosmetics Vitamin E cream and this product Just be sure to let your moisturizer dry well before applying this over it Apply sparingly as a little goes a long way,This really helped to firm  tighten my skin while covering flaws and I have many Great coverage with finer lines and smoothed out my skin It lays well under makeup Leaves your face feeling soft I recommend,Doesnt have a sent Which is good I will use this if I run out of my favorite kind I love Farmasi brand It glides on smoothly This one not as slick But still a good primer,I love this product it never disappoints me and I will continue to buy it on Amazon,Perfect Does exactly what it says and doesnt break me out LOVE,This went on smoothly covering fine lines  making a smooth surface for the rest of my makeup especially that pesky undereye area,This is so good It goes on easily and leaves a silky texture My skin feels smooth and less red It evens my skin tone and makes applying makeup much easier,Good,Good stuff,Awesome,My favourite one,Great product last long The smell is a little off but its still worth the buy,This stuff works so good Im having trouble with my make up coming off on my nose no matter what I use Im in Texas so Im ALWAYS sweating and Im pregnant Today I used it for the first time and none of my make up came off with my sweat,My go to As good as MAC,I love this product,Best primer I have ever used,NYX products as long as they are discounted appropriately are good products There is a tendency for some to over price but I would only buy products that are cheaper than those at the cosmetic stores,Exactly what I was looking for,Just as good if not better than Smashbox primer for three times the costWont buy expensive primers anymoreNYC has nice quality makeup,It is literally skin blurring and does the job I pair this with NYX Matte setting spray for a beautiful finish,I like it makes makeup last way longer,I love this product It is amazing I love how it feels,I really like this primer A little goes a long way and makes my face feel really soft and smooth The price is really good too,So buttery smooth on my face No irritation really helps the rest of my makeup stay on through out the day Good amount of product for the price Would buy again,It was great Will order again,I love how smooth and quickly it works to minimize shine Its not going to mattify your face like a highend primer but it works well enough for daily use and i will be buying more I use it as part of my daily sunscreen routine and it leaves my face looking fresh and hydrated I dont know how long it lasts since I just use it to get me through short distances in the sun but will be updating on that later,I like how soft it makes my skin and blends my makeup well,Great product for the price,This is a great primer As soon I put it on it felt so smooth It is silicone based but it was very blurring and didnt settle into any fine lines or cracks It wore well and I enjoy it,NYX Primer is a great productI have been spending  on a different primer for the same size bottleI will continue using this product,The primer does its job its smooth and a whitish clear color scent free and is a over all great product I have to add a little drip of lotion to it as it dies not have any moisturizing properties to it After application with out using the lotion my skin began to peel n dry out around eye and brow area As well as deying out my nose and causing pealing With added lotion this does not happen at all I love NYX,Helps cover up redness Love this product Will definitely buy again,This by far is the best primer Ive used I tried a couple but this takes the crown Will definitely buy again,I am dedicated to this product I buy it every month I have very sensitive acne prone skin and this is the only color correcting primer Ive been able to use It hides redness beautifully and its very lightweight,Doesnt really cover red like I had expected it to but it doubles as a great primer Great price,I like it Definitely cheaper than the  SBox brand Works great to make my pores smaller,I have been looking for a Smashbox dupe and this is the closest I have found I get nervous ordering makeup and hair products on Amazon but I felt it was the real product because it was packaged well Regardless I like it and the price is way better than Smashbox Seems to be moisturizing as well So if you have drier skin this is a nice product,Creates a nice blur effect for skin flaws I wear it under my foundation Its like a primer and helps smooth out the foundation Arrived on time,This primer does exactly as described I like to look cute on a budget so this is now my new go to primer My makeup looks flawless My concealer would crease under my eyes over time Not anymore Im completely satisfied with this product,Yea,I use this daily and my skin looks and feels better my makeup lasts longer and my face is easier to clean at night,I always revert back to this Ive used MAC Tarte Too face and thousands of dollars of other primers and I always go right back to NYX Its lightweight and moisturizing and not oily,Good It has a little water on it,Amazing product for the price Similar to more expensive primers Has a great texture doesnt make my face oily and helps my makeup go on smooth and last the day,I have bought two bottles of this already You dont need alot to make it work It covers and smooths the face very nicely,Works very well,Its decent and I would buy again,Its pretty good,Keydown and other events to Fire,Makes my face feel like silk I use it even when not using foundation,Im so accustomed to using high end primer because I thought those were the only ones that worked Due to this quarantine I decided to look one up on amazon and stumbled upon this oneThis product is amazing It makes your skin incredibly soft Softer than the porefessional from benefit I have combination skin more on the oily side and my make up holds up very well I make sure I blot my skin of course but I noticed getting oily much later in the day I totally recommend,Works great,If you have an oily skin dont get this It leaves my face really oily and makes my makeup look shiny after a short while Not recommended at all,It works well and feels nice,No scent but really good primer Very moisturizing and spreadable,Love this Primer Seriously a must have in your makeup collection Cant believe I waited so long to try it Skin looks flawless and Makeup goes on smooth AND makeup stays in place especially paired with a great setting powder,Great product great seller,I like this product because it made your make up go on smoother,Used for years  tried other primers that work very well also  but despite its cheaper price tag  it absolutely works very wellWill always keep in my makeup bag for travel applicationEasy to use  glides on skin  works very well under my color corrector and concealer and eye lids for eyeshadow application and longevityLasts easily  hours for me without touch up  sometimes ,Very good primer,I have skin with a lot of pink undertones Therefore its necessary for me to use a green primer to look my best And since Im out among the public singing very often its necessary for me to look my best and take care of my skin This primer gets rid of the excessive pink undertones in my skin and allows me to use tinted moisturizer instead of foundation unless of course Im going to be on stage and then stage makeup is necessary This primer glides on nicely and evenly It isnt too thick but it does cover the pink and evens out my skin tone Its pretty creamy so a little goes a long way making this a good bang for your buck I have dry skin so I use a lot of moisturizing products and I find this primer is moisturizing as well I can recommend this highly to anyone who has pink undertones they want to tone down If you have yellow undertones this is the wrong primer for you Everyone is different but I find this lasts all day for me If I apply it at  am it and my tinted moisturizer will still look fine at  or  pm especially if I use the setting spray made by the same company Highly recommended to all who have excessive pink undertones in their skin and want to eliminate them,This works almost as well as the Smashbox primerIt does lack a little longevity but for the price difference it is totally worth it to me,Perfect,Great stuff just as good as more expensive brands Kept my makeup on all day and felt less greasy,I like the texture of the product,I tried this since it had decent reviews and was so cheap It seems like a very good primer as compared to my other products from Ulta It makes my skin smooth and seems to help my foundation cover nicelyI would order again,It helped the makeup last all day,I really enjoy that this primer doesnt make you feel greasy,It is verysmooth to applyThere is no scent which is good,Me gustomucho,I like this product,I love this primer Its a great dupe to ones that cost  Using it with the NYX setting spray which is also amazing Definitely recommend if youre on a budget,This stuff is amazing I would give it  stars if I could At almost  years old Id given up that my crazyoily skin would EVER go away omg where was this stuff  years ago Makes my skin feel like silk and almost NO OIL I may have to do just a touch of powder around pm but thats it I also tried NYXs Shine Killer and they were very close but I think this  lasts a little longer it doesnt smell great but the smell goes away VERY quickly,Great coverage Works great,For the price this is a very good primer I use it everyday,my makeup goes on smooth  keeps it on all day my skin doesnt look as try with foundation on as long as i use this first i dont know if the green really does anything to help the redness just because i put foundation over it,Makes my skin so smooth and make up goes on great I have naturally rose cheeks and this hides them pretty well Love it,Great product I love using it  Makes my skin soft,I bought this not knowing how it would be I really like it after using it for a few days It helps to smooth my skin and camouflage pores Will buy again,Very efficient,It feels great going on My makeup looks smoother with it and I also use it on my eyelids I will purchase again,Very nice,Ok Didnt love it,Great primer Helps my makeup stay all day and minimizes my pores Will purchase again I am a NYX girl,Ive never used primer before so I tried  types before choosing This product is great for days that my skin feels a little dry,exactly what i needed,Silky smooth I like it Makes my face feel great,Love how soft my face feels and my makeup does really well on top of it,I have always used Avon Primer until I saw this and thought I would try it It was cheaper and I like the brand NYXIt works so much better My makeup goes on so much easier and smoother and lasts longer Very pleased and will order again,Goes on easily and great before base makeup,Its a good primer for a very low price It certainly minimises pores and smooths my face,This primer is so bomb Its very light My makeup glides on and stays pt all day,I used to buy a expensive brand but when I found out this just by giving it a try it was it Im definitely a client of this product from now on,It goes on so smooth and helps my makeup retain its longevity so much It helps even out my redness so thats such a blessing My make up has always helped even out my redness but this helps take it to a whole new level,I appreciate not paying a high price for a great makeup primer,Great under makeup primer Had used before and still love it Makes applying foundation smoother,Love it Works so well,if you have oily skin this is the best primer for it and makes your foundation last all day im in love with this primer,Love it Goes on smooth and long lasting,I like this every bit as much as my smash box primer which is much much pricier,Its great,Love this primer Great for taking the redness away in your skin and lasts all day long,Feels amazing on your hands and face Works great under makeup for a smooth finish,I wear this without foundation as I absolutely love the silky feeling my skin has after using it,This is a great primer I preffer to mix it with my moisturizer to get a better result When you put it on top of the moisturizer alone it feels like powder so i dont like the feeling Bit it works and love it,Great product,Feels good on my face Will buy again,Must have,Best primer Ive ever used makeup went on smoothly,Very moist and smooth base No fragrance which is great,Primer,Luv this product,Good every day primer I like all the nyx products And the best part is its decently priced,Its good for the money,Only problem is that it has a weird smell Works great tho Feels so silky smooth,I found if I let this sit  mins after applying it really leaves a nice matte finish and my makeup applies smoothly and stays in place,Works perfect for my daily look and for going out Gives that smooth base you need for flawless foundation and rather inexpensive Definitely my new go to primer Love it,This is a really good product,Great,Better then some high end primers,this primer really changed my makeup routine forevermy foundation stays perfect all day and now I use less of it,Wonderful product Soft on the skin,Works well for keeping base on with out shine,Its just as smooth and soft a finish as much more expensive brands,Love it,The texture is better than I thought Loved it,Takes just a tiny bit and my foundation glides on,matte finish great for my Tzone,Glide onto you skin love it thought it was in a bigger container so a little pricey but worth it,Great,I was hesitant to purchase this because I have always used Smashbox photo finish primerbutthis is an excellent substitute for that product and at a great priceI was actually quite surprised it worked so well to even out my foundation with a smooth applicationMy makeup stayed on all day without fading or appearing oilyI was pleased with this product,The face is really smooth after use,Good product,This is the only primer I use I find other brands are chalky and as an African American woman chalky doesnt work for my complexion Will continue to buy,As advertised,Love this,Love this product,Great price,Gorgeous primer Does blur imperfections fills in the pores it is super silky and smooth and it goes well under my IT cosmetic cc hydrating serum The primer creates somewhat Matte effect and is perfect for my oily skin,Best primer I have ever used,I wear Estee Lauder foundation and this NYX primer seems to work well togetherIm hoping it will keep working well into the hot summers here in AZ so well see,Never used a primer like this before The silky texture us great and my previously hard to blend foundation smoothed right over Im so sold on NYX I just ordered  concealers to test out,Very happy with this,good Mette finish,Was having issues with my foundation not staying all day Paid for a makeup consultant a friend to do my makeup for a girls night out He used this product so after a night out my make still looked great I will only used this product after that and it works to prime my face and make my foundation last longer,Love this  keeps my beat fresh for hours,I adore this product I still try other primers on occasion but I always come back to this one,I am so shocked at how amazing this primer is For the last three years I have bought so many expensive high end primers trying to find the holy grail  this is it and at an unbeatable price,A little went a long way I purchased  tubes and I just finished a tube of this after using daily for over  months After reading reviews I use less than a dimesize amount and mix it with a tinted beauty balm to smooth out my complexion Very light weight and no odor Wears well for me,Skin will look flawless,This primer and I totally recommend this to any girllady that wants a great feeling primer It goes on clear is silky smooth,It glides onto the skin,I like this product very much for the price Great primer does what a primer should I gave it  stars because it really doesnt cover the red but the longetivity of this primer is amazing,Great price smooths skin and improves the longevity of my foundation,Make up last a long time,I love this so much it makes my skin soft,Im surprised how good this feels on your skin and makes your makeup look better,Love it,Great product for an affordable price Plus it goes on so smoooooth,This product is easy to apply and makes my face so soft I dont know how much it helps with color correction but its a great primer My foundation goes on smoothly over it I already ordered a second bottle,I use this everyday and am very happy I have another expensive brand that I use for special occasions This product is very good for the price,Great to smooth,I liked,Good product,This doesnt colorcorrect I would say it is OK for a primer for this price Green becomes translucent immediately,Okay so I bought this because I ran out of my other color correcting primer This doesnt really color correct like it intends too Infact if I were to just wear this Id still be pretty pink BUT Ive found Ive I put it in a thicker layer all over my face it blurs my pores like no other AND helps make my foundation more opaque If youre planning on using this on its own to color correct and tone down redness without foundation I cant recommend it But If you are planning on using it as a primer and then following it up with foundation as it is intended you cant go wrong Just make sure youre applying liberally Also this in combo with the nyx matte setting spray Absolutely magical full coverage and lasts allllll day,Makes such a huge difference in how your make up comes out and lasts Inexpensive but not cheap and worth it,in stores is about  but I always order on here its the best price it ships fast and it comes to my door cant beat that it fills your pores very well great texture doesnt really have a smell which is good,Love this product gives my foundation all day wear I also carefully apply to my eyelids under my eyeshadow and my shadow lasts all day into the evening No creasing,I have been using this primer for a few years now and I love it It has the same texture as Smashbox Photo Finish primer but it is way more affordable Using a primer really does make my face look smoother my makeup stay on better and longer and keeps my face from looking cakey later in the day The purple helps balance you out if you have yellow undertones in your skin like me Great product,Love it,Softens the face rendering it very smooth for applying makeup flawlessly,Great stuff,I think its worth the price but I havent noticed a huge difference versus similar products that makes this stick out I prefer something more moisturizing also But overall I like the way it feels and the way it goes on my skin,Wow what a great product Feels so good when applying really smoothed out my enormous pores and stopped the issues I was having with my makeup namely getting dewysweating off my face Really makes all my makeup stay put,It made my makeup look so smooth,This is an amazing primer for the price It definitely helps my makeup set more smoother on top,Does take away some of the shine Great product for such a low price,Great product and so affordable,Love it Nyx is one if my go to makeup products,A clear primer is important to me as a whiteopaque primer changes the color of your skinI dont put foundation on my whole face so a clear primer allows to prime my whole face and only apply foundation where I need it on the trouble spots,Keeps my makeup on all day However elf is  for theyre primer and Ill definitely be moving to that,It make skin smooth A very nice product I would recommend to buy,Just what I ordered,Works great covering my redness,Bought as a gift for my mother Really good product and great brand for a fair price,I was completely blown away by the quality of this product It goes on smooth and feels so lightweight you barely notice it Its perfect for making sure your makeup will last all day I even paired it with the setting spray from NYX and it was amazing,Great producthydratingmakes a super surface for perfectly applying foundation I call it spackle for the face LOL,Perfecto,It works to help get your face ready for makeup to glide on,I am a huge fan of smashbox primerbut this seems like the same stuff but way cheaper Fantastic product Im sold,Love this primer Its light and doesnt clog my pores,I have large pores that I try my best to cover so my foundation looks flawless so I needed a good primer I bought this on a whim While it did a pretty good job it didnt last all day and it only mildly blurred my pores,Super affordable and works great in all seasons,Calidad,Smoothes out my skin so my foundation goes on really well Its cheaper on Amazon than in Target Love it,This primer is perfect for my sensitive skin and keeps makeup from settling into fine lines,I like it Left my skin very soft,Skin pores changed Over  This is the product for youThis product applies SO smooth and silkyIt allows my full coverage foundation to go on seamlessly LOVE IT,Ive tried a number of primers over the past few years searching for the perfect one NYX Studio Perfect Primer is it for me My criteria for a good primerEasy to apply over moisturizerPrimer is preferably unscentedMakeup base goes on smoothlyDoes not pill after applicationNYX not only meets my criteria it exceeds them I normally apply moisturizer after showering allowing the moisturizer to set a few minutes before applying the primer The primer glides on like silk allowing me to apply the perfect amount of makeup base It does not pill up and my makeup looks fresh throughout the day I love how soft and silky my skin feels with NYX  My makeup looks nicer and I get a lot of compliments on my skin Ive recommended NYX Studio Perfect Primer to all my friends,Good product no complaints here,Highly recommend this product,Like the texture,Second time Ive purchased keeps my makeup set all day with no creasing or oily spotsGreat value works the same as much pricier versions Ive tried Definitely recommend,I love the way it absorbed into my skin and the way it allows for the makeup application to be seamless,beautiful thingsbetter prices,I love this product,This is my new go to primerI have used expensive primers before and this product works just as wellLasts all day and then some,amazing product,I love this primer It works just as well as the upscale brands I have a little bit of redness in my skin tone and this evens out,Love my primer  it makes my makeup stays perfect all day long,Smooth and easy to apply,Arrived on time and exactly how it described,I like everything about this primer It goes on smooth keeps my makeup smooth and the biggy is it makes fine lines practically disappear I will be ordering again,Goes on smoothly and feels quite nice Lasts all day It covers general redness but any blatant splotchiness will not be covered I have quite a few of those and will go over them with an additional green concealer stick and also a red concealer for darker spots The NYX green primer does contribute along with the concealer sticks to toning those trouble spots down more so that they are not so obvious than just using the concealer sticks alone I am very happy with this purchase Great product More so after having learned that NYX is crueltyfree On the other hand I am on the fence as to whether I will continue to purchase this I understand LOreal the parent company of NYX is not crueltyfree So debating whether purchasing NYX products would be the same as continuing to purchase products that are animaltested I would like to try and steer away from that now,Great product for the cost,Q llego puntual,It does the job and helps my makeup last longer,Good working for me,One of my all time favorite brands and favorite primers,Love this product,Love this primer It is silky and smooth perfect base for a cream or liquid foundation and very affordable Great product for the price I dont use it for the redness reduction so I cant speak on that aspect but I do like the feel and consistency better than the NYX clear primer which is stilla nice primer,I love this product Ive used one of those very expensive name brands and I feel like this works just as well I also love the fact that it has the color correcter built in I get two products in one Outstanding,LADIES if youre looking for a primer look no further This primer is THEE BEST Ive tried Setting powder It showed up every tiny little crease and wrinkle Especially under my eyes Who wants that PLUS when I applied my mascaradidnt matter if I waited about  minutes before applying foundation or used many many different mascaras my mascara would leave little black spots under my eyes Little mascara tracks Raccoon eyes I could walk in a store and see myself and BAM A Raccoon starting back at me  NYX STUDIO PERFECT is just that  PERFECT  NO mascara tracks No Raccoon eyesIve waited a few days to write this review so I could use different mascaras thinking either I found the PERFECT product or is just a combination of NYX and certain mascara NOPE Its NYX for sure I can even nap with a full face of makeup on and wake up and look like its freshly put on PLUS it doesnt accentuate any small lines under my eyesIf youre hesitating just get this miracle in the black bottle Youll be very happy as I amPs Im going to visit my bf for three months and Im buying enough bottles to hold me over Not sure if his country carries this Sure as hell not taking any chanceS,Great base Love it,I used to buy Smashboxs primers till I read an article that this NYX was basically the sameFor a few bucks I figured why not try itMy  year old niece and myself have never paid for expensive primer sinceI cant say the same for other similar items like mascara I always spend the extraIn this case though it was worth it,I dont know much about primer or make up but this keeps my eye makeup on all day long,So heres the thing in terms of giving you a smooth start and helping makeup stay on your face longer this primer is excellent If it was marketed as just your standard primer Id give it  stars However there was no color correcting effect from the green It did not in any way diminish the red undertones in my skin,This brand is highly rated on Google so I thought Id give it a tryit smooths and evens out my skin before applying Bare Minerals makeuphave worn without makeup for casual days and my look is still smooth  pulled together I have combo skin and this primer works well for me,Works like a charm makeup application better,Worked as expected,Pretty decent primer,Easy to use,for sure a better value dupe for the smashbox primer keeps my skin looking smooth under my makeup not greasyshiny great texture,primer before foundation,So silky soft with makeup or without,Was recommended to me as a makeup primer and it feels nice on skin very silky,Covered pores Made my makeup look even better,Helps to tone and brighten but w a matte finishbut wo drying out my skin  Im going to try the green next bc Ive developed rosaceafun,You can never go wrong with NYXThis primer is like a pore filler and primer in one Absolutely great primer Goes on silky and has a great staying powerGive it a shot and youll always keep this on your makeup bag I do,Makes my face feel like silk before application of foundation I work long hours and it def helps to keep my face in place It does have an oily base but does come out pretty dang smooth One of my fave inexpensive primers,Great for oily skin My makeup goes on smooth and stays all day,First of all WOW I have tried dozens of primers in my life Wasted well over  dollars on primers that didnt work or didnt last NYX seemed to be everyones secret weapon so I decided ro give it a whirl Its notably a lot cheaper than most other primers Ive tried so I was skeptical but I am HOOKED on this stuff I have a combinationoily face and its hard to get makeup that will stay put all day without looking patchy or sliding around but this primer works miracles My large pores around my tzone are hard to smooth out but this just glides over them and makes it so easy to apply my medium coverage foundation  just make sure you blend it into your skin well so it doesnt feel slippery across your face I do have troublesome skin but this gives me the smoothest makeup application that lasts from  in the morning til  when I take it all off Seriously a holy grail,Super soft on face and helps foundation glide right on,The product arrived quickly and appears to be a good valueIt goes on smooth and wears well My only complaint is that it doesnt work well with my favorite concealer causing some cakingand leaving me to need either a different concealer or a different primerWhen using the primer without concealer Ive been very pleased It does not irritate my skin or cause breakouts My skin actually looks better with a light priming and setting powder I will buy again,Been using this for years and years the only primer I use if you have oily or combination skin this will be perfect mattifies your face without drying it out just make sure you moisturize first but thats with any makeup routine so the rest of your makeup can go on a flawless,I had read other reviews on this primer so I thought I would give it a goWowIt goes on like silk and keeps my make up on all day and into the eveningAnd it is easy to remove with my makeupBest Ive used in a long time,Goes on smoothly and gives a true matte finish which I love Lasts a long time as well Definitely will be ordering more,This product gives a nice smooth velvety appearance and feel to the face  can be used before make up or if you wanted to  could use without foundation,This is my favorite primer I have very dry skin and dont know how it would fair with oily skin,Smooths easily on the face,It didnt work for me,Beautiful feel applying to face leaving it very soft,Leaves my skin smooth,It doesnt last long but other then that its perfect feels light and isnt sticky,Excelente servicio,I used to use the photofinish primer by smashbox and loved it I found that the NYX studio is a perfect replacement for quarter of the price Highly recommend,Great product,Omg this is FABULOUS skin is silk with this product,I have super oily Indian skin so most of the time my makeup starts to fade after a few hours This primer works so well Only a drop is needed to cover most of the face and does not look shiny at all Makeup lasts wayyyy longer now,Love it,I can really tell a diff with my foundation when I dont use the primerI didnt read close enough of the needed colorI should have bought the clear vs purpleClear is in my cartIts not as good as Ive bought in the past but its s good valueapprox ,I recommend this product,I love this primer for the price and how good it actually works for my skin,Really satisfied Used to spend way too much on primer This one is the best value and product Ive ever used,Me agrado la suavidad en que deja la piel,Not sure about this product Still testing it,Face,Works good,Very smooth applicationLasted all dayI like the fact that all of their products are cruelty free,Works good,I was a little leery about buying this product and I am totally surprised It goes on smoothly and my makeup looks silky,Felt so amazing on my face Went on smooth and dried quickly,Wow  Im amazed love this product today is my nd time I use this and has really helped control my oily face  will definitely buy some more  Works Great Totally recommend  Satisfied ,Does exactly what its supposed to Great product,Im in love with this primer A little goes a long way My make up goes on smooth it last longer  sometimes I wear just the primer to eliminate pores It leaves my skin feeling smooth and silky all day,I added it to a DIY BB Cream formulation and it did not budge in  degree weather There is some witchcraft involved and I love it,Product works great I have hooded eyes which makes eyeshadow and sometimes eyeliner difficult to wear This stays all day and without creasing,I use high end cosmetics but this primer works just like the more expensive onesHighly recommend and I hope NYX does not stop making it,This primer is a clear lightweight gel It goes on like butter and leaves your skin completely shinefree and so soft After applying my foundation and lightweight loose powder my skin and makeup stay beautiful all day through any temperature I love this product Thats why Im on Autodelivery,I love nyx products so Im excited to try this on my next photo shoot All of their primers have been great,Not as thick as Id like it to be,Love this product its so soft doesnt make me break out shocking and helps my makeup apply so smoothly Also great price Ive tried the high end primers and this one measures up just the same def will buy again,This works fine Not quite as elegant as II imagined but tube lasts a long time and doesnt take much product Serves its purpose,This really does smooth your pores and keeps makeup in place all day,Ive been thrilled with it It has an almost oily texture which I was concerned about but it feels great on the skin and has not caused any problems It has improved the look and wear of my makeup,Good primer for the money feels comparable to more expensive ones,OK,How is my make up go on so well and it looks so great,Just as nice as the expensive product I bought at the salon,This product works like and expensive high end productbut wont brake the bank,Works great ,This is a dupe for Smashbox photofinish primer It goes on very smooth and blurs fine lines and minimizes the appearance of pores I highly recommend this primer at a third of the price of the higher end product,It works great for me Keeps me from breaking out when I do a full make up and for the price you cant beat it,Would buy again Great primer Lasts all day until you take it off at night,Did a great job,I didnt use it personally but my daughter has no complaints at all,Buen producto,Im just going to preface this by saying I know next to nothing about makeup I used to use tinted moisturizer some powder blush and call it a day One of my kids was getting married and I wanted to step up my game and make sure I had complete foundation coverage all day This stuff works I have always moisturized before putting on the tinted moisturizer Now I moisturize wait a while then use this primer then a good foundation The primer keeps the foundation on and helps it spread more evenly Im sold,This is definitely the best primer I have tried It has the same texture as Milani which has been my favorite for many years but it sets into my skin better My skin also looks less oily with it I highly recommend I took off a star because it went from  up to  for the same small size A little disappointing,Excelente transaccin ,Feels good on the skin but  oz is too small a size and the tube didnt last long Not sure if I will order again I use serums that seem to work just as well as a primer,I like the durabilityMy only complaint is its difficult to use all of the product in the container I have to cut the tube to get the last of the product out Usually  to  uses,I bought this back when I believed in primer Its a little greasy but one of the least bad primers Ive ever tried so its a good buy,This primer does a great job of smoothing out your skin and getting it ready for foundation and it does effect my skin except making it nice and smooth,Great silk like feel I love it Well worth the money,My favorite Primer,This keeps my Tzone from getting shiny throughout the day Love,I like this primer for its satin like feeling and a little goes a long way I use it before my bare minerals makeup for a super soft smooth look,WowWho on earth thought a drugstore primer could work better than a beauty brand this one doesSmoothing and helps to set your foundation perfectlyI moisturize a few minutes later this primer and tada ready for some foundationSets all day after setting spray,I have the worst dry skin No matter how much I drink water exfoliate and moisturize I still end up with flaky skin on my face This primer feels like silk going on Its the only reason Im able to to wear a foundation during the summer months especially I highly recommend,This primer is one of the best that I have used and works just as well as one that I was using that was over It gives a smooth matte finish and keeps makeup fresh all dayYou can even use it without makeup too for a matte fresh finish,Love NYX everything Always a good brand to go with not too pricey Primes and smoothes well,Good product My first time using a primer and I was impressed,I use this product under my tinted moisturizer almost daily for work It cuts down the red tones so I dont have to pack on foundation or poster and lets me have a light dewy look that I love,This is the first time Ive ever really use a primer on my skin To be honest Im not sure if it hurts or helps I will continue to use it,Love it,mixed feelings idk its great but i might keep looking,Greatcoverage excellent value,This product goes on so smoothly and makes your face feel really smooth and soft It does cover up the surface of the face and makes the foundation look smooth Great price,So far this primer has been everythinggg It leaves me skin so soft and glowy Great product,I have used a lot of different primers and this primer does the job and is really great for the price I am all about finding great quality products that are inexpensive I will definitely continue to use this,Works well My favorite primer Fast shipping,Interesante,This has always been one of my favorite products will continue to use Makes makeup application very easy and smooth,My makeup seemed to fade within a few hours of application Not sure if due to my moisturizer or my application skills But since Ive started using this product my makeup seems to last longer It goes on smooth its light weight and not greasy,This product is absolutely phenomenal I have never used primer and now that I have a make up mirror with LED lights I can see what Ive been doing wrong My foundation was so caked and patchy and gross and never lasted I used this primer and it doesnt even look like I have foundation on its like I have natural ally flawless skin I love it and when I run out I will definitely be ordering another,At first it feels like it would be too smooth but it really helps the foundation go on like sooo smoothly for that flawless look,I love it This product was lightweight easy to apply without feeling sticky it and had my makeup looking flawless I would definitely order this again,Great product but a little small,It works but it doesnt last all day and it slides if you dont use an excessive amount of setting powder,Super suave deja la piel hermosa,I loved this for my eyelids it helped my eye shadow pop,Works great,Works nice for the price,Good silicone primer for mature skin,One of my favorite products,I like this primer my foundation looks so much smoother and it lasts longer It also cover my pores completely I have sensitive skin and it didnt break me out,I love the price Was paying  at a facial place for something that was not any better than this Glides on smoothly and makes foundation glide on over Highly recommend for every foundation user,Works great,I ordered this after being amazed by how well the finishing spray workedThis primer only adds to my amazementThis primer went on smoothly and made my skin feel like silkMy mineral foundation flowed on flawlesslyI topped it off with the setting sprayMy makeup lasted over  hours without the shiny breakthrough I normally would get after a couple of hoursMy only issue is that I went to order this product for my granddaughter and found that in one month this product has doubled in priceIf the price goes back Dow I will be ordering again,Great,I like it its a bit more liquid than what I normally use but it condenses,Nothing noticeable after makeup applied over the primer,Make up goes on very smooth I have T type skin it made my skin looking very smooth the dry areas are really improved after  hours everything was looking just perfect and fresh I could not belive that cheap primer could working so good but Im impressed and ordering one extra,Works really well Mixing it with my makeup base is saves a step and makes a lighter application My Jolie mineral liquid poser foundation is pretty thick and adding the primer loosens makes easier to apply And its a nice trick to help the makeup stay ALL day and mist of the night if youre going out after work,My face looks so good Really good,this is my first time ever using primer and I bought this one because it has good reviews I have nothing to compare it to but it makes my face butter smooth after I applyThen I put on concealer under my eyes and in random places and sometimes use a foundationseems to work just fine,Keeps my face looking flawless,High recommend product Sooo soft and so easy to put on the skin before foundation I love it Definitely will buy again,Good,I use this under my make up every morningIt is a great primer to allow the make up to go on smooth and stay onFeels like a high end make up primer for a fraction of the cost,Does pretty good only have used it a couple times Made my face feel great I used BB cream over too and my wrinkles did look some better I would recommend,Ive only used this once but it made a tremendous difference in my make up I am a one finger make up applier but this goes on so smoothly and absorbs so well It made me look like a professional artist My dark spots didnt show as much and my dark eye lids had a nice naturally sparkly look Hope to achieve the same results next time One tip I would like to give is make sure you let each layer of your makeup dry before applying the next layer,Great its my new favorite,I like,Awesome,Very nice product thanks again,Im a newbie when it comes to using face primer So far I like this product Its clear and you dont have to use much of it No harsh smell Seems great for my sensitive skin,Ive used more expensive primers and was happy to find this one  its just as good as the more costly ones I wont be switching back,Great product,This primer is great and highly recommended My photos were perfect,Love the way it makes my skin feel and it is perfect after  minutes to place on your face before your foundationYou will see how smoothly your makeup goes on and how great you lookI will buy again No problems,Works great I have larger pores on my checks and coverage from my foundation is much better I do let it sit on Yee skin  before applying foundation and that seems to really help,Works great My favorite primer,Works,I love this product It makes my makeup application smooth and makes my face smoother eliminating makeup lines and creases,Not my favorite discount primer but for the price it does a fine enough job You do seem to get more primer in this tube than other primers so thats a plus,Leaves very silky texture on skin Works great,Great price great primer,I love this primer It helps with my oily skin and makes it nice and smooth My makeup looks great and last all day,I love NYX and this primer is so so smooth It blends in so well and almost immediately feels like it was never But it sets foundation and concealer really well and lasts for hours Strongly suggest,Incase you are not familiar with Bondo it fills imperfections dents and such on the body of a car before painting allowing the paint to look flawless,Works well,first time using a primer so im not certain of how it should really feel or look but this made my face feel a lii more moistore for somewhat reason it seems to give a lil sheen to your skin,I love how smooth it glides on and leaves my skin super soft and smooth make up applies on wonderful leaving a flawless look,Awesome primer gives you an amazing smooth base without drying your skin ordered  more pack ,A little bit of this goes a long way Absolutely completely changed the quality of both make up and body paint A must have,Good dupe for smash boxIt is almost as good as Smashbox but its a quarter of the price and it works better than any other drugstore primer Ive ever used ,Goes on nice,First time for me using primer so Im definitely an amateur makeup applier I believe it has made a difference in my makeup appearance Ive never used primer beforeso I dont know if its great or average It works for me,I loved the primer The primer makes my skin super soft,Still getting used to the silky feeling of it but it works very well for me,This concealer stick is amazing It helps fill in eye wrinkles,Affordable and does the job,love this product price is affordable helps my foundation last all day at work,Daughter is very sensitive to lots of things and this makes it possible for her to experiment and learn about make up,Loved it Goes on smooth,Wow I didnt expect much from a cheaper primer but dang this works so well I wont be buying any expensive primers again,This primer does a decent job I canttell a difference when compared to the name brand,Makes face so soft but a little goes a long wayUse too much and it is only,Great primer I love how my face feels after application My make up looks great too,this is a great product,Perfect,Love the feel on face and overall coverage,Very nice stuff,My skin is normal and I dont have discoloration to speak ofThat said this primer is perfect for my needsMy makeup goes on so smoothly and stays on,Perfect,Im not a huge makeup guru but this is my favorite primer and perfect price,Excellent product excellent price Ships quickly Would definitely recommend,I love this primer Works perfect,Great product I love this way more than the  big name stuff I got from the s store,Cheaper than the Smashbox photo finish primer and while its not as good I use this for my every day makeup AND my nice occasions Makes my makeup smooth  just be sure to apply it before the primer sets,I was so pleased with the quality of this product The kind I was using was a high end name brand and I like this so much better So glad I tried it I even put it on my auto send,I like this just as much as any expensive primer Ive used,Love love love,Love this stuff smooths out my face and makes foundation go on soooo easily,Love this primerGoes on smooth and for the cost its a great valueIve used this for  months everyday,Absolutely love this primer For  years Ive been wearing Mary Kay As prices have raised a lot over the years I decided to try something new This is my new everyday primer Makes my face feel so soft and its doibg a great job hiding or removing my dark under the eye circles,I absolutely love this primer Ive tried other primers before and I hated how it made my face feel They would make it feel very oily on my face and hands This primer however feels amazing Very smooth and moisturizing My foundation and makeup come out looking great with this primer I definitely recommend this primer and would buy again,I love this primer Ive tried other primers before and absolutely hated how they made my face feel It would feel like i had some type of lotion on my face and it just made me feel oily This primer however doesnt give me that feeling and makes my face feel smooth and moisturized My foundation and makeup go smoothly and definitely does what intended Definitely would recommend and buy again,Works just as good as high end,this primer is amazing my makeup looks flawlessi have oily skin,It goes on a little gloppy but dissipates into the skin quickly and without feeling gooey Puts your makeup on lock and fights shine all day long I was amazed,This product is comparable to Smashboxs green foundation primer but a whole lot cheaperNo more Smashbox for me, love it,This product makes my makeup looks NATURAL I love it so much  recommend,This eye shadow primer is very goodIn fact I can honestly say this is the best longest lasting eye shadow base Ive ever used,So far primer is working well Great product for a great price,Smooth glides easily and holds wellBut need more then usual for good results,Love the way it feels on my skin  how it primes my skin for my foundation,good primer,doesnt make me oily,The green primer works well as a regular primer It does not actually have any green to it it sheers out to clear color Anyone who says the green helps with redness probably didnt have any redness to begin with,like the title says perfect,Perfect,I have oily skin and this is so lightweightIt makes my makeup routine betterIts so smooth,Love,GreatReally goves the complexion a smooth look Helps the foundation go on smoother,I love this stuff I always keep this and the redness formula in my makeup bag Works great Lightweight Doesnt leave me greasy,Bought it on discount do great price compared to stores Very nice primer,Awesome product,Suuuuper genial es tan suave se d sliza perfectamente en la piel y ayuda muchsimo para colocar la base Lo amo,Compare to Smashbox red reducer it does the job Sometimes I just wear this with matte powder and it keeps my face neutral all day,Me parece muy bueno con solo un da de uso la piel de siente suave y nada de grasa  me gusto,Great low cost primer Its light weight and works well,Love love love this primer Goes on so silky smooth and makes the rest of my make up look much better Doesnt cause irritation or break outs like my way more expensive Mac primer did either,My go to primer Ive tried all different brand from drugstore to highend I always come back to this one I have dry skin year round and this primer keeps my makeup from clinging to dry patches My makeup goes on so smoothly A little goes a long way so a tube lasts quite a while I highly recommend trying this primer,Love the smooth feeling of this product and is a great price,it looks like it can be improved the quality of the product,Gives my face the perfect canvas before applying my mineral make up,This is a primer or base to use before one uses foundation I like it because it is colorless and its not oily,Great primer ,Im a Baby Skin kind of girl but Im switching to thisIts a thinner formula but still silicone based and gives excellent coverageIts similar to the Mary Kay primer but without the preaching pyramid scheme and animal testing and at a better price point,Great primer Keeps me from getting too oily,This primer is amazing I love it and I only use that one softens up and the make up settles nicely on the face,I like this as much or more than my more expensive smashbox primer,I liked this primer in general but I LOVED it once I started accutane in case you dont know accutane is a strong acne medication that reallly dries out your skin while youre on it I can glob sooo much sticky moisturizer on my face but with this primer over it my makeup still goes on great without any clumpingstickiness Honestly this is a gamechanger for looking pretty while on accutane,Im happy with it and would most likely purchase again,Ive always loved their products and they have yet to disappoint me This product stops my face from feeling greasy after Ive applied my makeup,Total game changerLove it,Its a nice primer for its price It does the job well,worked as expected,Awesome primer Used on wedding party last weekend and kept everyone matteoil free for the whole outdoor wedding and party,This product is a gift from heaven I suffer from acne rosacea and this has been wonderfully useful at toning down my redness before applying concealers and such This may be my forever primer I love it that much,I lovethat it does fill in pores Its not watery at allits definitely silicone base Leaves my skin feeling smooth,I love it If you have oily skin i would recommend the shine killer by NYX But for dry or combination skin this works amazing and is very affordable,I like this primer Silky smooth and Ive noticed my tzone area isnt as oily as it usually is after I started using this,Love this primer Helps makeup go on smooth and easily,love it,I love this primer nyx Excellent,feels like im wearing nothing,Makes my skin feel like silk without being heavy feelingI dont use all the concealers to make my skin look flawless I dont like how all that stuff feels so I was just looking for something that would take the shine off and this did the trickI also used the NYX matte finish spray and I was shine free for hoursI would definitely recommend,Great primer It goes on smooth and looks great It helps hides pores and helps my foundation go on more smoothly Makeup lasts longer when wearing this,I honestly think this works as well as Smashbox for a fraction of the cost I will continue to buy this,I like this primer it it does exactly the name Studioperfect primer your make up gose on very smooth,Love this productIt goes on so easy and helps my makeup last all day Also reduces yellow tones in my skin Love love love it,My favorite primer The green tent doesnt do anything though So if the clear is cheaper get that,I love this product it does not feel heavy I can use a much lighter coat of foundation and it helps it last much longer,Helps offset overall redness but you need to use a lot since it doesnt have a lot of pigment I still prefer that over some of the other green colorcorrectors Ive tried A little green goes a long way so the lighter color is safer to apply especially if your foundation isnt highpigment to cover up the green tint I end up using more but at this price its not a big deal,I like it it seems to do the job its just very oily I have to wait a good bit to put on my foundation so it doesnt look like the foundation is not well set,I like this product because it takes away the redness from my faceI dont need to use as much foundation when I apply this first,Love the nyx primers These work so great just as good as the smashbox but a lot cheaper,Great primer that lasts all day and really smooths our my skin Not too oily and I havent had any clogged pores or break outs from it,Makes your skin feel so silky  smootg when you use it before putting on other makeup,A lighter finish than I expectedNot heavy enough to even out pores silky and a bit shiny not sparkly or glittery but a bit oily looking It does create a smoother surface for liquid foundation This means youre able to use less of your costlier foundation So definitely a savings But I like a thicker more matte finishIll use it up but likely will not purchase again,I mix a drop of this with  drops of my base  it really downplays my rosy spots,I got the clear one and its just like the Smashbox Photo Finish primer I love how it oxidizes and doesnt stay greasy in texture Great alternative to the  dollar smashbox tube Will be using this from now on,This has become my standard primerI have a number of very expensive primers but this seems to blur the lines and hold the makeup foundation all dayIt is light weight and has great coverage with minimal amountHighly recommend,I dont use it that often cause you get what you paid for,Feels a little drying for my skin but its a good primer,Love it evens tone,Very good My favorite of that brand,Does the trick and for the price of this compare to others I will stick to NYX that does the exact same and also to save a little ,I reallly like this primer Im  with combo skin and oily Tzone Ive been trying lotion and cream based primers with no luck but this came along and wow Its lightweight has an almost powder finish and a little goes a long way Stays put all day with minimal settlingclumping,MUST HAVE beauty item I can not go without this primer in my makeup bag I think it is better than smashbox primer and much cheaper My foundation goes on so much smoother with this primer,I love this clear primer Its not greasy and my foundation brushes on so smooth I always get compliments on my makeupThis is partially the reason why and Im almost  yrs old,I wanted to put on clown makeup with something underneath to prevent my skin from absorbing itThis seemed to do the trickAlso dont buy clown makeup from WalmartAfter three hours it started cracking and I went from looking like Bozo the Clown to the Joker,good,Little bit greasy  But its OK ,This is the best primer I have used so far,Made my makeup look amazing for hours I fell asleep n woke up looking photo shoot ready  Definitely buying again,I love this primer It goes on silky smooth and is the perfect base for flawless foundation applicationI reduced it by one star because the redness reduction isnt that great There are better products out there if youre looking for actual redness coverage but as a primer this is great and the price is much better than other retailers,This is a fantasticprimer Its silky smooth and lasts all day The green tint however does nothing for redness I saw no difference there but this is still my favorite primer in my makeup box I was previously using Smashbox and I like this one more,good dupe of smashboxs perfecting primer i love it,Best primer I have tried and inexpensive too,This primer is as good as the expensive department store brands It makes my foundation look great through a long day I apply it between moisturizer and foundation for great results,A great dupe for the much more expensive Smashbox photo ready primer Long lasting smooth application and helps create a nice even canvas for foundation and concealer,Smooth application and really helps with the look of my BB cream,goes on smooth love it,It works well just a little greasy for my taste but it did keep my makeup in place all day,First time using a primerIt definitely makes a difference in the texture of my foundationCant really compare it to others but I like this one and will continue to buy,For the size of the bottle its definitely over priced I have no tried it yet but if I do end up loving the product Ill probably end up going into the store to buy it instead of paying over  for a small tube of primer thatll probably be gone in less than a month,It works Greatits my favorite,Omg makes your makeup application amazing,I decided to try this product because it was rated much lower on the Think Dirty app than the primer I was usingIt goes on smoothly and easily and leaves a silky smooth type of feeling after applicationI did not need to allow any time for drying before adding my foundationIt seems to work just as well as my previous primer but it s much cleaner rated  on Think Dirty appI will be buying this again unless I find a  rated primer first,Thanks,Ive gotten this twice now and dont buy to many makeup items twice LOL I use this in conjunction with NYX BB CreamNo longer do I go to that expensive makeup store at the mallIm  and tried it allThis makes my face look bright and not dull,A requested gift she seemed happy,Im very happy with this product Gives the face a velvety feel which is quite lovely Make up glides right on,Great buy,Ive tried many different types of primers but this has been my go to for a couple years now I wouldnt say that it necessarily does very much for masking my redness I have Rosacea but it definitely evens out moisturizes and provides a nice barrier for my skin I like having this barrier between my skin and my makeup so I dont irritate my already sensitive skin any further with makeup I will never not have this product in my makeup bag,I have oily skin and this primer works perfect for me I apply using finger tips and leave to set before applying my foundation My makeup application feels so much easier and smoother to blend when using this product,very smooth helps spread makeup evenly I have very sensitive skin and there has been obsoletely no skin reaction,I really liked this primer It really helped diminish pores and fine lines Its not the best primer Ive used But its no where near the worst,Makes your skin super smooth  allows you to blend foundation easily,Love this green primer I have rosacea and this really helps hide the red while giving my skins a smooth shine free look Much cheaper than other brands and works better,Flawless,Great stuff good price Came quickly,I love this primer It goes on super soft and doesnt look green at all when its rubbed in Im not sure how well it does to offset redness but its still a great primer,I have been using this primer and have found it to be the best for me over the very pricy options My makeup goes on flawlessly and stays beautifulI still have the pricey ones sitting in my drawer,Goes on so smooth and last all day,Bought this as my first experience with primer and I would never go back to my days without it You dont need to use much to tell the difference I bought this estimating about  months ago and its still not out I also dont wear make up everyday though']"
      ]
     },
     "execution_count": 57,
     "metadata": {},
     "output_type": "execute_result"
    }
   ],
   "source": [
    "docs"
   ]
  },
  {
   "cell_type": "code",
   "execution_count": 157,
   "metadata": {},
   "outputs": [],
   "source": [
    "all_string = neg_review_string + pos_review_string"
   ]
  },
  {
   "cell_type": "code",
   "execution_count": 182,
   "metadata": {},
   "outputs": [],
   "source": [
    "def pmi(t, d , all_d, count_of_doc = 2):\n",
    "    pmi = count_of_w(t,d) / ( exist_in_c(t,all_d) / count_of_doc )\n",
    "#     print(f'count_of_w : {count_of_w(t,d)}')\n",
    "#     print(f'exist_in_c : {exist_in_c(t,all_d)}' )\n",
    "#     print(f'count_of_doc : {count_of_doc}')\n",
    "    return math.log(pmi)"
   ]
  },
  {
   "cell_type": "code",
   "execution_count": 183,
   "metadata": {},
   "outputs": [],
   "source": [
    "def count_of_w(t,d):\n",
    "    cnt = 0\n",
    "    cnt += d.count(t)\n",
    "    return cnt\n",
    "    "
   ]
  },
  {
   "cell_type": "code",
   "execution_count": 184,
   "metadata": {},
   "outputs": [],
   "source": [
    "def exist_in_c(t,all_d):\n",
    "    res = 0\n",
    "    for review_str in all_d:\n",
    "        if t in review_str:\n",
    "            res +=1\n",
    "    return res"
   ]
  },
  {
   "cell_type": "code",
   "execution_count": 185,
   "metadata": {},
   "outputs": [
    {
     "data": {
      "text/plain": [
       "2.9444389791664403"
      ]
     },
     "execution_count": 185,
     "metadata": {},
     "output_type": "execute_result"
    }
   ],
   "source": [
    "pmi('good' , docs[0] , docs)"
   ]
  },
  {
   "cell_type": "code",
   "execution_count": null,
   "metadata": {},
   "outputs": [],
   "source": []
  },
  {
   "cell_type": "code",
   "execution_count": 198,
   "metadata": {},
   "outputs": [
    {
     "data": {
      "text/plain": [
       "['redness',\n",
       " 'cover',\n",
       " 'doesnt',\n",
       " 'nothing',\n",
       " 'green',\n",
       " 'red',\n",
       " 'oily',\n",
       " 'didnt',\n",
       " 'money',\n",
       " 'work']"
      ]
     },
     "execution_count": 198,
     "metadata": {},
     "output_type": "execute_result"
    }
   ],
   "source": [
    "top10_neg_word"
   ]
  },
  {
   "cell_type": "code",
   "execution_count": 214,
   "metadata": {},
   "outputs": [],
   "source": [
    "neg = []\n",
    "pos = []\n",
    "df = pd.DataFrame(index = top10_neg_word)\n",
    "for i in top10_neg_word:\n",
    "    res_neg = pmi(i, docs[0] , docs)\n",
    "    res_pos = pmi(i, docs[1] , docs)\n",
    "    neg.append(res_neg)    \n",
    "    pos.append(res_pos)\n",
    "df['NEG_DOC'] = neg\n",
    "df['POS_DOC'] = pos\n",
    "    "
   ]
  },
  {
   "cell_type": "code",
   "execution_count": 215,
   "metadata": {},
   "outputs": [
    {
     "data": {
      "text/html": [
       "<div>\n",
       "<style scoped>\n",
       "    .dataframe tbody tr th:only-of-type {\n",
       "        vertical-align: middle;\n",
       "    }\n",
       "\n",
       "    .dataframe tbody tr th {\n",
       "        vertical-align: top;\n",
       "    }\n",
       "\n",
       "    .dataframe thead th {\n",
       "        text-align: right;\n",
       "    }\n",
       "</style>\n",
       "<table border=\"1\" class=\"dataframe\">\n",
       "  <thead>\n",
       "    <tr style=\"text-align: right;\">\n",
       "      <th></th>\n",
       "      <th>NEG_DOC</th>\n",
       "      <th>POS_DOC</th>\n",
       "    </tr>\n",
       "  </thead>\n",
       "  <tbody>\n",
       "    <tr>\n",
       "      <th>redness</th>\n",
       "      <td>3.912023</td>\n",
       "      <td>3.367296</td>\n",
       "    </tr>\n",
       "    <tr>\n",
       "      <th>cover</th>\n",
       "      <td>3.663562</td>\n",
       "      <td>3.367296</td>\n",
       "    </tr>\n",
       "    <tr>\n",
       "      <th>doesnt</th>\n",
       "      <td>2.995732</td>\n",
       "      <td>3.367296</td>\n",
       "    </tr>\n",
       "    <tr>\n",
       "      <th>nothing</th>\n",
       "      <td>3.044522</td>\n",
       "      <td>1.386294</td>\n",
       "    </tr>\n",
       "    <tr>\n",
       "      <th>green</th>\n",
       "      <td>3.091042</td>\n",
       "      <td>2.890372</td>\n",
       "    </tr>\n",
       "    <tr>\n",
       "      <th>red</th>\n",
       "      <td>4.634729</td>\n",
       "      <td>4.143135</td>\n",
       "    </tr>\n",
       "    <tr>\n",
       "      <th>oily</th>\n",
       "      <td>3.091042</td>\n",
       "      <td>3.806662</td>\n",
       "    </tr>\n",
       "    <tr>\n",
       "      <th>didnt</th>\n",
       "      <td>2.833213</td>\n",
       "      <td>2.772589</td>\n",
       "    </tr>\n",
       "    <tr>\n",
       "      <th>money</th>\n",
       "      <td>2.995732</td>\n",
       "      <td>1.609438</td>\n",
       "    </tr>\n",
       "    <tr>\n",
       "      <th>work</th>\n",
       "      <td>3.218876</td>\n",
       "      <td>4.343805</td>\n",
       "    </tr>\n",
       "  </tbody>\n",
       "</table>\n",
       "</div>"
      ],
      "text/plain": [
       "          NEG_DOC   POS_DOC\n",
       "redness  3.912023  3.367296\n",
       "cover    3.663562  3.367296\n",
       "doesnt   2.995732  3.367296\n",
       "nothing  3.044522  1.386294\n",
       "green    3.091042  2.890372\n",
       "red      4.634729  4.143135\n",
       "oily     3.091042  3.806662\n",
       "didnt    2.833213  2.772589\n",
       "money    2.995732  1.609438\n",
       "work     3.218876  4.343805"
      ]
     },
     "execution_count": 215,
     "metadata": {},
     "output_type": "execute_result"
    }
   ],
   "source": [
    "df"
   ]
  },
  {
   "cell_type": "code",
   "execution_count": 199,
   "metadata": {},
   "outputs": [
    {
     "data": {
      "text/plain": [
       "['It was almost oily feeling and didnt leave the green base to cover up my redness like I was expecting Not impressed with this at all Ive bought Nyx green in the past for my redness and it was awesome so not sure what happened with this one,Waste of money Threw in the garbage Way too sheer and the green did not work at all,Waaaay too small for the price and not really that good of a primer either,Pretty sure this product is not authentic or its expired The product separates a lot and seems really oily It also does NOTHING for redness,I previously got another green primer from NYX and I loved it It was so creamy and really reduced my redness However the consistency for this primer is off its more matte which is ok I was just surprised in comparison to my last NYX primer and it doesnt reduce my redness as much as my last primer did As for keeping my makeup on which is the goal for most primers I feel like it doesnt do much,Did not mask any redness on my face Its more of a regular primer not a redness cover up Absolutely useless for me,Im very disappointed in this because it is not the same product as in the tubes with the wands It is watery and then feels greasy and my skin is still showing red and dark circles,Very disappointed Didnt help reduce redness at all,It doesnt work,It feels Cakey and doesnt look natural under my liquid foundation,Feels greasy,I wanted to like this affordable product so much especially with all the good reviews But I felt like it broke my face out I dont like the way it feels either Im bummed about this purchase,Made my skin breakout,Pretty sure this isnt the same product I usually buy Ive usedthis product for years to mix into foundations that are too yellow for my very fair skin tone the formula is not the same at all,Terrible primer Doesnot fill pores for smooth look,I liked it and used it but it caused my skin to break out When I stopped using it my skin was healthier no pimples Maybe it just didnt work well on my skin,Dont recommend this,I purchased this product to cover broken veins and to conceal my big pores It didnt do either Total waste of money,Terrible quality This is runnyoily doesnt show up no concealingpriming or green color and has an unpleasant odor I used it once and immediately washed it off A color correcting crayon though very dry is a better choice,I think this may have been a counterfeit productIt was very thin nearly watery and it did not hide or cover red in any way The product normally works which I why I wonder if it is fakebut the packaging looked real I threw it outcomplete waste of money,Doesnt really accomplish what I purchased it for Too thin Also the sizeamount is a bit less than as advertised,Your browser does not support HTML videoLooks like old product,I ordered the green one and I bought this to cover my redness but this works the same as the clear one I was expecting this to be thicker paste so it could color correct the red but it did no covering Its a nice primer if you have nothing to cover but this is supposed to cover redness so Im giving it one star Save your money if you actually need a color corrector,I wanted to find something not as expensive but clearly you get what you pay for No good smell I cant tell if it changes my skin tone The only good thing is the silky smooth feel I will not purchase again,Dont waste your money honestly,Cheap products,Makes my foundation flake off Feels super oily,This product does nothing for redness It basically goes on clear It also is a terrible primer This product is greasy and my makeup slides off my face when I try to apply it over this primer If you want something redness reducing I suggest ErborianCC Color Correcting  Redness Reducing Broad Spectrum SPF  Its more expensive but it actually does reduce redness,Doesnt spread as easy as other related products,Does nothing to cover rednessNothing but an oily lotion,Its not good at all A waist of money,It doesnt even cover any of my redness Its more of a moisturizer,While this primer makes my skin feel silky smooth it does little if anything to correct the redness in my face,I got this product to help with my pores and it seemed like it enhanced my pores more then anything I tried with and without moisturizer first Ive tried a different foundation and kept getting the same results Does not work Would not recommend,My face has a lot of redness so I had high hopes that this green primer would help diffuse the redness a bit It did not Not at all However it does work good as a primer,I have red skinI bought this to tone under my makeupIt is too sheerhelps only a littleBut not worth it,This is not a cover up or corrector its an oily green tinted lotion that doesnt do anything but make skin feel greasy,Oily runny doesnt do anything for redness Complete waste of money,if youre looking for a moisturizing product likely look elsewhere this is an extremely thick and slick solution that immediately caused my face to feel tight and my foundation lasts longer without this product,Greasy Doesnt do anything,When I first opened the product it was great but after about a week of not using it all the oil has separated and wont mix with the rest of the product anymore I tried shaking it and putting it in my beauty fridge but its no use,This does not do what it is advertised asIt does not remove any redness at all,I LOVE anything NYX and Im so disappointed by this It makes my concealer get goopy and clumpy around my nose Wouldnt recommend it,Doesnt work like at all Face is just as red And its REALLY greasy Save your money,Completely useless against redness Granted I think I have more redness than someone with darker skin tones Im very pale but there was literally NO difference when I put this on one side of my face to compare with the side without product Also a very nasty greasy feeling Makes it difficult for liquid foundation to go on top of it Very disappointed,Item is old Does not matter how often or how hard I shake the bottle it does not mix When I try to squeeze some out it is just oilIt has absolutely no coverage,I got the green primer for redness color correction It does nothing  absolutely nothing  to correct the red It also feels like Im covering my face in cooking grease Lovely,Whomever said this primer is the best is dead wrong This is the absolute worst It does nothing but moisturize my skin a little Does not help with redness Does not help foundation last longer Does not help with anything I do not recommend this to anyone If you want an inexpensive primer use Hard Candy brand primer,If you are looking for a primer this one is greatIf you are looking to have your Rosacea covered this does nothing to cover the redness,This product is a waste of money at any priceProvides absolutely NO coverage of red or bruised areas under coverup or body makeup Dont waste your money,This product does not work at allIts fake news and snake oil,It smells bad and looks very fake,It doesnt really apply well,Its not the best as stated,This product doesnt work at all It is greasy doesnt absorb and most importantly doesnt help with redness There are great products out there but they are much MUCH more expensive Unfortunately,Someone took pkg and I need photo of item and all info so I can collect Do you have cs phone  I am  and need help  pkgs taken the nd was the pink tubeMalley which was delivered I need someone to help me collect for them Please connect me with help Thx,I thought I would try this since it is cheaper than the product I usually use smashbox but it is not even close to providing the coverage than smashbox doesIt just makes the skin very oily and the foundation looks shiny after applying over this primer,I bought this because of the reviews but honestly was not impressed I dont know if it was the batch that I got but it was really oily and the texture was just off,I was very excited to use this primer because it has tons of great reviews however Im not a fan It does go on smooth and gives your face a silky feel so thats great but it did nothing when it came to redness My cheeks have a natural red tint and throughout the day my foundation wears off and reveals it I thought this green primer would fix it but it did not,If youre looking for a product to cover redness even a little bit this is NOT the product for you It doesnt cover any redness or dark marks,Saved money but it wasnt worth it Going back to Laura Geller Spackle,This stuff is like greencolored grease or somethingDoes nothing to combat redness and leaves a dreadful greasy residueTruly terrible,This was not very green and did not control or cover redness like advertised,Breaks my skin out Also when applying my foundation it wasnt easy applying it because it felt as if I was wearing a mask If you have oily skin it doesnt work At least not with me,Doesnt have staying power Makes my skin oily after a while,I bought this because it was cheap and a larger size than my normal Elf Product Alas I will go back to Elf  The Elf primer causes my makeup to distribute easily across my skin but this primer does not Two stars bc its better than no primer at all,Does not cover the redness,I suspect this was counterfeitIt was greasy chemicalsmelling the packaging didnt match the official NYX websiteand it didnt seem like the same level of quality of packaging or product that NYX usually hasIt was also underpricedI returned itI opened it and couldnt stand the smell and was disgusted by the oozy grease leaking out when I got ready to use it,It comes off after  min So when I rub my face to put concealer or foundation after primer it just peels off like dead skin,Nice coverage under foundation but clogs pores and caused breakouts Would not recommend,I have finally pinned down that this primer is what Im allergic to while Im doing my makeup Its nothing severe although it does seem like it gets worse with each use Now that I have discovered its the primer it went straight in the garbage I never had issues with the product when I purchased at the store so Im assuming this one is fake and there is an ingredient in it that shouldnt be,Caused me to break out My skin was very angry after using this,Dont buy,Wouldnt use again,It was a clear wet gel that took forever to dry and didnt seem to do anything,For some reason my eyes start watering when I wear thisIt might not bother others,Really thin and oily My foundation just slid around on this primer It didnt do anything for my redness either,The packaging is great and easy to use Didnt make my makeup last longer or help cover my acne,Not a good primer at all,Very oily product Made me break out,Not happy gives a sensation of silk,This product is fake see the original photo On Amazon,Very oilyDid not cover rosacea,it comes out almost clear so does nothing for your redness on your face I even did it on only one side of my face to see if it made any difference but did NOTHING it comes out so clear almost as if nothing was there A clear green tinged cream,This product did absolutely nothing to prime my skin,Did not make a difference in my red complexion I am not a fan,Didntdo as advertised,Was not very thick so it didnt seem to mask redness like I figured it could,Dont buy this product as it is fake When comparing packaging and ingredients listed and shown directly on the NYX website this product does not match The super low price less than  compared to around  at Walmart should have been a red flag The packaging looks so close you would never know unless you looked closely but it is missing trademark symbols has text that is difficult to read and the ingredients dont quite match those listed on the NYX website I read some other more buried reviews that also reported this being a counterfeit dupe Lesson learned Im just glad I didnt put the product on my facewho knows what is in it,Maybe it was just my face but this primer made my skin look pale and ashy I also did not the way it felt on my face,Im  or  inches from my mirror and I cant tell that the product has done anything Theres virtually no difference before and after I put it on Really angers me when I feel like I completely wasted my money,This product did zero to tone down natural red undertones I found another one that I could try before I buy that actually worked a miracle Dont waste your money This will do nothing to calm down redness however it does have a silky feel and Im going to use it until its gone because I HATE to throw away money,I used this spray primer as directed but it made it very difficult to apply my foundationWhen I finally got it on it was very uneven and cakey It looked terrible I must be doing something wrong because it didnt do anything for me that all the videos Ive watched promised Ill just go back to using my foundation on top of my moisturizer and skip the primer,This never showed up and it stank a lotThose girls were born into a good life,Not really impressed It felt soft and went on smoothly but it definitely did not decrease the appearance of pores or fine lines at all In fact it did the complete opposite My face looks more leathery and texturey with this mess on I wont be purchasing again and do recommend spending a little extra for a good primer,Terrible product Did not cover any redness whatsoever the consistency is very watery In fact it made my skin even more red Dont waste your time and money in this product,I got this because the reviews made it sound promising but I wish I hadnt wasted the money My foundationconcealer still cracked and looked awful when I was wearing it I tried it a bunch of ways to see if it was just one thing I tried withwithout applying mousterizer I tried it with just foundation tried it with just concealer tried it withwithout finishing spray Didnt work no matter what,The stuff feels sticky but when you apply it has not primer effect other than drying out the skin If I were you would save the money and not get it,The green tint does absolutely nothing I would recommend LA Girls green concealer over this product by a mile if youre trying to hide redness or counter warmth in your foundation,This primer is heavy Even if I waited a while before applying foundation and used the softest foundation application brush this primer does not stand up or layer well,This product didnt improve the tone of my skin at all Made no difference,Not for me,This primer is horrible Greasy and does not cover anything Do not recommend and would send back if I could,I didnt like this primer and it didnt like me back I dont think it did anything,the green tint in this primer is supposed to counter a ruddy complexion but the product instantly turned my face seriously redwherever I used it immediately went dark red and I was very relieved when it returned to normal blotchy red after I washed it offback to square one,When I put it on it felt good on my face however after applying foundation it caused my face to flake Strange,Did It work for me at all Was using product to off set the red in my faceAlso so slippery I was so hoping it would help,I used this product for several weeks to reduce redness on my skin but I unfortunately me at saw a change,made me light,This did not help reduce or even the tone on my skin at all Perhaps if someone had very good coloring with occasional splotches but not at all for uneven skin tone,This does not negate red color in face Total waste of money,This made my skin more oily and only lasted part of the the day,The bottle was half full,Not good primer,Very thin Did not cover skin redness,Doesnt neutralize redness as well as I had hoped,I tried this product after using a different brand more recently This product is very greasy and I received no added longevity of my makeup Going back to my old brand,I would not recommend This is not a dupe for smash box as I had hoped,Gummed up immediately Not ideal for layerering you foundation,This is not the real product It does nothing for color correcting at all Feels so greasy and horrible When i took it off at the end of the day my red cheeks and neck i have roscea those the need for color correcting was redder and splotchier then it normally is,This mask is too thin to workI tried putting on two coats and it still tears off in schards too thin to workI wont buy again,I normally use Colorescience All Calm and I LOVE the product  it feels great on my skin greatly reduces the redness and has SPF I decided to look around for another redness reducer that is friendlier to the wallet but this product is NOT the solutionAs a primer it is simply OK  it glides on well but feels more like a gel similar to a product Ive used in the pastPerhaps it simply doesnt work well with my liquid foundation but the mix is horribleOnly after I add the powder can I step out in publicAs a redness reducer it does not work at allFAILOverall extremely disappointed in this product,Not at all matte  does nothing for my skin The green is clear and no less shine,I really wanted to like this product I loved the feel of it on my skin right after I applied it Then I put some concealer over it and it was like it rubbed off Like silicone glue I would use it when Im not wearing any facial makeup,This did absolutely nothing to help with redness or discoloration or as a primer Cant believe it got any good reviewsJust happened to pick up Cover girl green primer while I was at CVS and it works great,Sadly contained leaked some of the liquid during shipment  container was covered on it Sis not have time to return,This product does feel smooth on my skin but does nothing to cover the redness Will not purchase again,Im not a huge fan of primers as most seem to make me breakout but this did not I didnt notice a big difference in using this product compared to no primer so I dont think I would purchase it again,I wanted to love this after reading so many of the positive reviews on it and I liked that it was crueltyfree but I was highly disappointedFrom the first use this primer left my entire face feeling greasy and disgusting as if I hadnt washed my face in a week I endured it for a couple of uses knowing my face tends to have dry skin from time to time Even with moisturizer and using it for a month the feeling did not change or improve And it also did not help with smoothing fine lines and pores in my skin  I felt like it made them more apparent actuallySo while this primer may not be for me It might work for you Everyone has different skin and things can feel different from person to person But this is not a good primer if you have dry skin from my experience If dry skin isnt an issue for you I say give it a shot and see if you like it Its the only way youll really know,The quality is REPULSIVE Do not waste your money this looks and feels cheap like something from the dollar store and doesnt work well at all I think it made me break out a little also If I could give zero stars I would,I was hoping this was a good dupe for my smashbox photo finish but it wasnt When you use it it starts to clump and come off in rubbery pieces Stopped using it  LOVE THIS BRAND but this product just didnt work for me,There are far better similarly priced primers out there ELF is really good,Product arrived in a sandwich bag looked at tube its so old I could not read any of the printing or faded away in spots Cant use this not sure if expired or if its what I ordered,Asco de producto me saco espinillas,Made my face dry and flaky,This is the worst primer I have ever used Makeup looked very caked on after a few hours of wear and also gave me an orange glow after a couple hours,Muy poco producto,I thought it was very thin and didnt really cover the red like it says,I was really looking forward to this product and was quite disappointed when it arrived and I found out hell runny and watery it wasIts more like goop than it is a sicker foundation type productsIt barely has any green collor and does not cover red at allFor me it is completely useless Disappointing,This primer is not for oily skin I have never had a problem with my make up rubbing off but with this stuff I couldnt even touch my face slightly without my makeup rubbing off And rather I touched my nose or not the make up would be off after about five hours I just stopped using it today and my make up was flawless and stayed all day It also takes a lot of product to cover the face,Not a fan I love this brands product however this product is super oily and watery Not at all what I expected I will pay more and buy a better product,Very very light and once blended in you cant see any difference It is also very greasy,Some days its gloopy some days its really liquidy and nasty I heard this product is good Im disappointed,Broke my skin out in just one use,Left my complexion oily,Doesnt work dont buy,This does absolutely nothing for me Its a clear gel and doesnt fill or cover or anything I might as well have put water on my face Ill stick with my Benefit primer,EXTREMELY oily for skin,Had previously purchased NYX Studio Perfect Primer Green from a local store and liked the product When I ran out I purchased this product from Amazon in June The packaging and formula from the Amazon product differed from what I purchased in sore The Amazon version was oily and goopy the writing on the packaging was faint and difficult to read In the photo left is store bought right Amazon boughtIn terms of the product itself purchased from the store I like the feel of it and it does a good job providing a smooth surface on which to apply my foundationAlthough the product claims to color correct I have seen no redness reduction in my skin when I use the product I will repurchase in store,I bought this in green to correct red spots This product doesnt do much of anythingIt disappears immediately after dabbing it onto my skin Before I even get a chance to blotblend its gone Ive tried applying larger amounts even excessive amounts and it still doesnt conceal any redness I always shake before use but it always seems to squirt out separated half green and half liquid,Very oily,This does not work well on my face it felt like an oil slick after putting makeup on However somehow I started putting it on my feet It made them feel really smooth and not sweaty ,Ill stick with the more expensive brandsThis one does not help much with keeping the shine down,I did not like this product at all It was a waste of my money It leftmy face with like this white clear peel it never even was able to spreadhow it should,Like others I had the issues of this product only functioning as a primer There was no redness reduction I even applied the primer to half my face and waited a few hours to compare Sadly no difference,I though this would help cover the redness of the face but it doesnt it is just a regular primer that looks green but it does not cover the red areas of the face as expected,Product was very oily separated and smeary I sent it back,DO NOT PURCHASE FROM THIS SELLER THIS IS A KNOCK OFF AND NOT THE REAL ITEM PICTURED I just received mine and it is not whats in the picture You can see the label difference in my pictures and the product feels totally different than the real thing,Greasy and does not cover at all Complete crap,I received a FAKE I didnt even notice at firstbut then my skin started turning red and blotchy When I inspected the packaging I noticed that the one I received looks different than advertised by the seller as well as the NYX website Upon even further inspection I found spelling errors on the front and back Come on guys I dont even know what this garbage is made of and I feel disgusted having put it on my skin ,Had poor consistency and did not apply well,Didnt provide good coverage or balance to my face,Did absolutely nothing,Horrible oily and very runny consistency Will not buy again,Product does not work to blend and correct skin toneTry another option',\n",
       " 'Absolutely love,I have tried many different kinds of products but this one goes on smoothNot grease at all,This product makes my skin feel SO soft Its a makeup primer but I also use it without makeup Love this product,Love this primerDoesnt take much but makeup goes on so smoothlyAmazon price is the best for this product,The primer goes on very smooth and does make my foundation makeup look nicer It has a soft glow for older skin and I would recommend,Helps makeup glide on and looks better Last longer too Its not a moisturizer its a mattifyer and works as well as the more expensive primers You need to moisturize before the primer Its fragrancefree and invisible,Omg I usually dont write reviews but this product I just had to Once I applied to my clean face  I could see the difference  Then after I applied my make up it was awesome  I was outside in the humidity for  hours and make up was still on point  Love this product  And a little goes a long way  Please dont buy all and leave me some ,Im old so what I really want is something to smooth out all the wrinklesThis does not do thatWhat it does do is provide a smooth foundation for my makeup foundation liquidMy makeup goes on so much more smoothly and seems to last much longerI live in hot humid Florida and this helps keep makeup from being absorbed into my skin and makes it have a smoother look longerFeels great on my skin tooNo scentI dont use it to moisturize not even sure if its advertised for thatTry it I think youll love it,I love this primer and I wont switch Its so smooth and lightweight,Ya gotta use a PRIMER and this is a good one,Its like spackle for the face Sunscreen this stuff mineral powder and Im good to go I have searched high and low for a primer that actually hides texture imperfections Very happy with it Ive had green primer that cuts redness betterbut this one is the Ace for texture,I bought this product because I was having trouble doing contouring on and around my noseI ve had numerous nose surgeries and have different nostril sizes I need to contour but the makeup wouldnt stayWith this primerI can contour my whole face and nose and received a comment from a makeup artist online who called my makeup phenomenalYaaaaaay It doesnt dry out my face and I have a flawless look,This is very nice under makeup and lasts a long time It will be my favorite,I like how smoothly it covers my skin Im  and it makes lines less noticeableI dont like the Tube it comes in Its difficult to retrieve the contentsIve ordered it three timesthis time there was less Primer in the Tube,I love everything about this primerWill definitely be back for more,Im obsessed with this primer And this little bottle LASTS It makes my make up look soo much better I highly recommend,Great product,Deminished my pores,Works great my skin is soft,I love this productFeels great on the skin and makeup just glides over it making it look so smooth,A great dupe for Smashbox photo primer at a much lower priceSimilar in that both are clear apply well arent heavy  makeup applies well over primerNot quite as silky feeling as smashbox,Works wellSmoothI really love thisI have dry sensitive skin,I love this stuffI tried it after reading the reviews and it seems just like smash box primer my go to for years I just didnt want to pay the price for itIm so happy I found this,I love it its perfect it even works for people with dermatitis,Makes makeup look flawless,Good product No fragrance Goes on super smooth Definitely helps so makeup goes on smooth and you end up using less liquidcreme foundation Love it,Love love this primer After years of cancer treatment I have severe redness on my cheeks and nose and this is the only product on the market that works for me,Oh my this stuff makes my skin so soft I love it Dont know if it helps the makeup last longer but it makes my skin happy so Im going to keep using it,Makes skin look flawless,LOVE IT My favorite brand of primer so far is Smashbox but I dont care for the price of it This is very comparable to Smashbox at  the price,This is my second time ordering this product and it works well for my dry sensitive skin,Loved sheerness,I have been using an expensive primer for years and have tried other less expensive onesThis will now be my primer of choice Goes on smooth make up easy to apply and little to no scent I will reorder again,This is a great product to apply before your makeup Leaves your face fresh and smooth I did not notice it reducing the redness of my skin that was the reason I purchased the product I would buy it again for the smoothness it gave my skin,This is a keeperGreat primer,It helps eliminate the shine,Sits nicely under my foundation,To me is is similar to Smashbox which is triple the price,Love it bery smooth,Ive always liked this product and now I like that I can buy on Amazon for a great price,Has become a favorite to my make up routine,This product cuts the redness out of my skin I love it,I liked it very much,I have never used primer before but a friend recommended this productWell Im in loveMy makeup has never gone on so easy or looked so goodIf I could I would give  stars,I love the feel of this primer but it has an odd smell,Cover up,Awesome stuff,Me gusta la textura,Works great and isnt oily Will be buying again,Use this everyday,Very soft and moisturing primer,Good,Best ever Loved it so much Your sling feels wonderful,Great for under foundation,Best drug store primer for a flawless finish,Does a great jobI use inexpensive primer and high quality make up and it works beautifully,Love Sooo soft,Helps with oily skin Love it,I must say I never thought it would be as good as the brands that I have purchased that cost three four times as muchDont waste your money on the othersTry this outI will be purchasing this item againIm saying goodbye to those expensive brands,I started dressing with wife and this prodct works good to hide  oclock shadowWife also likes how makes up blends to her skin and makes her skin smooth,This is a great product will absolutely buy again,So impressed,Very velvety smooth texture Not super moisturizing if you have dry skin but its not oily which I like I like most of NYXs products and this one did not disappoint,Exactly what I ordered packaged well and great product,This is the best makeup base I have ever used Feels wonderful going on and really smooths complexionfor a perfect application of makeup I love it and never want to run out of it,I really like this it works great for me,I tried this for the first time yesterday and it made my make up go on so easily I love it,Very silky to the touch and makes my skin appear very smooth,bought this as a piece of a starter kit for make up would recommend to those who are looking to learn how to do makeup but dont want to spend a lot of money upfront,I usually mix this with my foundation and it makes it super light on my skin The primer itself is very light on the skin as well It makes your face very smooth even with just little product  would recommend ,This product is everything it claims to be Love it,Just got it today LOVE IT Works so well and my makeup looked great all day all night,Ive always used this brand of primer Many different types in this brand Good pricing too,This stuff minimizes wrinklesFeels so soft I love it,I finally got to open it up and try it I loved it Highly recommend,This primer is awesome Its smooth and does the job Also moisturizes,I dont know much about makeup but this was recommended and I am so happy with it I absolutely love it and will never wear my makeup without it again,The primer was super easy to apply I used my fingers as I feel like that would be the best application as it feels like a more siliconebased primer I used it with my stick foundation and it was great EXCEPT near my nose area oddly When I applied my foundation the foundation wouldnt adhere properly and looked like it was cracking and dry Which didnt make sense to me I think you should proceed with caution if you use a stick foundation but if you use a liquid style foundation I feel like there would not be as many bad interactions,It works Makeup comes out looking flawless,Love this primer Great price and same quality as my high end make up primers Definitely recommend,Great primer I was very hesitant at first bc Im used to high end products but this surprised me in a great way If u have any redness on ur skin as I do sometimes this primer works wondersUnbelievable shipping received product earlier than I had expectedThank u so much,Great primer for great price I have been using Estee Lauder or Laura Gellar for years which are both around  This NYX works just as good nice smooth finish to apply foundation I really dont see a difference especially since I only paid  Granted the others are  oz tubes and this is  oz but still would be half the price Is sold,I do not notice a difference in how my foundation applies with this Oh well,Ive never used a primer and I love this stuff,Love how it goes on,I switched to this from the Smashbox original Photo Finish primer which was my holy grail primer in terms of functionality but unfortunately would break me out if I used it too frequently I really like that this NYX version has a more stripped down ingredients list that is a lot more friendly to sensitive skinAt the same time this primer isnt quite as good It provides a very smooth silky canvas and smoothes over texture well but it is a lot less oilcontrolling This is a great choice for dry or combodry skin but less so for oily or combooily,Oh my goodness the tiniest bit makes my skin so soft  its like magicIt did not work for my waterbased foundation though  took some research to realize the oilwater issue is why it was clumping up immediatelyI still use it when Im not rocking foundation like a just highlighter day though and I love it,LOVED IT,Ive been wearing foundation without a primer every day for  yearsI never thought I needed one until I tried thisI have missed out on so muchIt makes my makeup application look so smooth and lasts into late eveningUsually by the end of the day I look washed out because my foundation lasts only  hoursNow I look fresh faced all dayI decided on using primer with the hopes of preventing my foundation from rubbing off onto my covid face maskIt does minimize rub off but I still see mask lines on my cheeks and foundation on my maskI used too much primer one day under my mask and my skin ended up looking chalky and awfulIm thinking about trying out a  hour foundation with this primer,Skin type oily and sensitiveTone warmColor mediumlight pralineMy skin is oily and I also use a sunscreen that adds a little more shine I hoped to use this without makeup in order to matteify my skin It reduces shine a lot but only for a short while About an hour later my skin was shiny again The antiredness effect is subtle but it workstldr great as a primer with makeup but not longlasting enough for allday shine control,My first time using a primer and I gotta day I noticed a huge difference Foundation went on much smoother makeup stayed on longer and I usually get oily by the end of the day but with this product I can say I look  less oily This product has definitely changed my game,Great size for price,Does great,I debated whether I should put three stars or four Its an excellent primer so four it is Better than most primers Ive used in the past However as a redness concealer Im disappointed It doesnt make a difference on my rosacea whatsoeverOverall Ive become a big fan of NYXs products in general,I have used this product for two years now and cant live without itIt is perfect for those with oily or combination skin as it just smooths the skinIf you dont feel like wearing foundation this is a nice alternative However when wearing foundation this is sort of like an amazing clear spackle for ones faceHighly recommend,A little goes a long way Ive used baby skin primer and had to use a decent amount and then my skin was left feeling greasy This NYX primer is extremely lightweight even if you were to accidentally use more than usual Its quick to dry and does the job to hide pores and linesWill definitely be buying again,Pro  Goes on easily  smoothly is nicely sheer other makeup Eg blush goes on like a glove no scent Con  Would like if came in a larger size,Gives me a smooth finish,Great primer no scent and doesnt clog pores I have cystic acne and sensitive skin and it does not effect that I prefer a matte look verse shiny and this does the job,Me encanto,Love this product So light and smoothing,I really enjoy this primer I have fine lines and dry skin and was looking for something silicone based to help fill in my fine lines and work well with all the moisturizer I have on my face I love the silky texture of this product truly feels incredible on the skin lightweight helped with moisturizing and best part was that it DID help to fill in my fine lines especially near my eyes so my makeup looked much much more flawless and smooth I highly recommend,Product glides on great gives me a smooth finish Filla in most pores and lines just not he deep set ones in the forehead Will definitely keep buying,Great product,Gave as a gift,Have never used a base product so I didnt know what to expect Surprised by how wonderful it made my base look Less flaws and pores showing on my face,Wonderful product I hadnt used toner before but it made a good deal of difference for me,I really like this It seems to blur very slightly and makes my skin look softer and a little younger who wouldnt want that I dont even bother with foundation anymore I simply use a good moisturizer I recommend Jason Natural Cosmetics Vitamin E cream and this product Just be sure to let your moisturizer dry well before applying this over it Apply sparingly as a little goes a long way,This really helped to firm  tighten my skin while covering flaws and I have many Great coverage with finer lines and smoothed out my skin It lays well under makeup Leaves your face feeling soft I recommend,Doesnt have a sent Which is good I will use this if I run out of my favorite kind I love Farmasi brand It glides on smoothly This one not as slick But still a good primer,I love this product it never disappoints me and I will continue to buy it on Amazon,Perfect Does exactly what it says and doesnt break me out LOVE,This went on smoothly covering fine lines  making a smooth surface for the rest of my makeup especially that pesky undereye area,This is so good It goes on easily and leaves a silky texture My skin feels smooth and less red It evens my skin tone and makes applying makeup much easier,Good,Good stuff,Awesome,My favourite one,Great product last long The smell is a little off but its still worth the buy,This stuff works so good Im having trouble with my make up coming off on my nose no matter what I use Im in Texas so Im ALWAYS sweating and Im pregnant Today I used it for the first time and none of my make up came off with my sweat,My go to As good as MAC,I love this product,Best primer I have ever used,NYX products as long as they are discounted appropriately are good products There is a tendency for some to over price but I would only buy products that are cheaper than those at the cosmetic stores,Exactly what I was looking for,Just as good if not better than Smashbox primer for three times the costWont buy expensive primers anymoreNYC has nice quality makeup,It is literally skin blurring and does the job I pair this with NYX Matte setting spray for a beautiful finish,I like it makes makeup last way longer,I love this product It is amazing I love how it feels,I really like this primer A little goes a long way and makes my face feel really soft and smooth The price is really good too,So buttery smooth on my face No irritation really helps the rest of my makeup stay on through out the day Good amount of product for the price Would buy again,It was great Will order again,I love how smooth and quickly it works to minimize shine Its not going to mattify your face like a highend primer but it works well enough for daily use and i will be buying more I use it as part of my daily sunscreen routine and it leaves my face looking fresh and hydrated I dont know how long it lasts since I just use it to get me through short distances in the sun but will be updating on that later,I like how soft it makes my skin and blends my makeup well,Great product for the price,This is a great primer As soon I put it on it felt so smooth It is silicone based but it was very blurring and didnt settle into any fine lines or cracks It wore well and I enjoy it,NYX Primer is a great productI have been spending  on a different primer for the same size bottleI will continue using this product,The primer does its job its smooth and a whitish clear color scent free and is a over all great product I have to add a little drip of lotion to it as it dies not have any moisturizing properties to it After application with out using the lotion my skin began to peel n dry out around eye and brow area As well as deying out my nose and causing pealing With added lotion this does not happen at all I love NYX,Helps cover up redness Love this product Will definitely buy again,This by far is the best primer Ive used I tried a couple but this takes the crown Will definitely buy again,I am dedicated to this product I buy it every month I have very sensitive acne prone skin and this is the only color correcting primer Ive been able to use It hides redness beautifully and its very lightweight,Doesnt really cover red like I had expected it to but it doubles as a great primer Great price,I like it Definitely cheaper than the  SBox brand Works great to make my pores smaller,I have been looking for a Smashbox dupe and this is the closest I have found I get nervous ordering makeup and hair products on Amazon but I felt it was the real product because it was packaged well Regardless I like it and the price is way better than Smashbox Seems to be moisturizing as well So if you have drier skin this is a nice product,Creates a nice blur effect for skin flaws I wear it under my foundation Its like a primer and helps smooth out the foundation Arrived on time,This primer does exactly as described I like to look cute on a budget so this is now my new go to primer My makeup looks flawless My concealer would crease under my eyes over time Not anymore Im completely satisfied with this product,Yea,I use this daily and my skin looks and feels better my makeup lasts longer and my face is easier to clean at night,I always revert back to this Ive used MAC Tarte Too face and thousands of dollars of other primers and I always go right back to NYX Its lightweight and moisturizing and not oily,Good It has a little water on it,Amazing product for the price Similar to more expensive primers Has a great texture doesnt make my face oily and helps my makeup go on smooth and last the day,I have bought two bottles of this already You dont need alot to make it work It covers and smooths the face very nicely,Works very well,Its decent and I would buy again,Its pretty good,Keydown and other events to Fire,Makes my face feel like silk I use it even when not using foundation,Im so accustomed to using high end primer because I thought those were the only ones that worked Due to this quarantine I decided to look one up on amazon and stumbled upon this oneThis product is amazing It makes your skin incredibly soft Softer than the porefessional from benefit I have combination skin more on the oily side and my make up holds up very well I make sure I blot my skin of course but I noticed getting oily much later in the day I totally recommend,Works great,If you have an oily skin dont get this It leaves my face really oily and makes my makeup look shiny after a short while Not recommended at all,It works well and feels nice,No scent but really good primer Very moisturizing and spreadable,Love this Primer Seriously a must have in your makeup collection Cant believe I waited so long to try it Skin looks flawless and Makeup goes on smooth AND makeup stays in place especially paired with a great setting powder,Great product great seller,I like this product because it made your make up go on smoother,Used for years  tried other primers that work very well also  but despite its cheaper price tag  it absolutely works very wellWill always keep in my makeup bag for travel applicationEasy to use  glides on skin  works very well under my color corrector and concealer and eye lids for eyeshadow application and longevityLasts easily  hours for me without touch up  sometimes ,Very good primer,I have skin with a lot of pink undertones Therefore its necessary for me to use a green primer to look my best And since Im out among the public singing very often its necessary for me to look my best and take care of my skin This primer gets rid of the excessive pink undertones in my skin and allows me to use tinted moisturizer instead of foundation unless of course Im going to be on stage and then stage makeup is necessary This primer glides on nicely and evenly It isnt too thick but it does cover the pink and evens out my skin tone Its pretty creamy so a little goes a long way making this a good bang for your buck I have dry skin so I use a lot of moisturizing products and I find this primer is moisturizing as well I can recommend this highly to anyone who has pink undertones they want to tone down If you have yellow undertones this is the wrong primer for you Everyone is different but I find this lasts all day for me If I apply it at  am it and my tinted moisturizer will still look fine at  or  pm especially if I use the setting spray made by the same company Highly recommended to all who have excessive pink undertones in their skin and want to eliminate them,This works almost as well as the Smashbox primerIt does lack a little longevity but for the price difference it is totally worth it to me,Perfect,Great stuff just as good as more expensive brands Kept my makeup on all day and felt less greasy,I like the texture of the product,I tried this since it had decent reviews and was so cheap It seems like a very good primer as compared to my other products from Ulta It makes my skin smooth and seems to help my foundation cover nicelyI would order again,It helped the makeup last all day,I really enjoy that this primer doesnt make you feel greasy,It is verysmooth to applyThere is no scent which is good,Me gustomucho,I like this product,I love this primer Its a great dupe to ones that cost  Using it with the NYX setting spray which is also amazing Definitely recommend if youre on a budget,This stuff is amazing I would give it  stars if I could At almost  years old Id given up that my crazyoily skin would EVER go away omg where was this stuff  years ago Makes my skin feel like silk and almost NO OIL I may have to do just a touch of powder around pm but thats it I also tried NYXs Shine Killer and they were very close but I think this  lasts a little longer it doesnt smell great but the smell goes away VERY quickly,Great coverage Works great,For the price this is a very good primer I use it everyday,my makeup goes on smooth  keeps it on all day my skin doesnt look as try with foundation on as long as i use this first i dont know if the green really does anything to help the redness just because i put foundation over it,Makes my skin so smooth and make up goes on great I have naturally rose cheeks and this hides them pretty well Love it,Great product I love using it  Makes my skin soft,I bought this not knowing how it would be I really like it after using it for a few days It helps to smooth my skin and camouflage pores Will buy again,Very efficient,It feels great going on My makeup looks smoother with it and I also use it on my eyelids I will purchase again,Very nice,Ok Didnt love it,Great primer Helps my makeup stay all day and minimizes my pores Will purchase again I am a NYX girl,Ive never used primer before so I tried  types before choosing This product is great for days that my skin feels a little dry,exactly what i needed,Silky smooth I like it Makes my face feel great,Love how soft my face feels and my makeup does really well on top of it,I have always used Avon Primer until I saw this and thought I would try it It was cheaper and I like the brand NYXIt works so much better My makeup goes on so much easier and smoother and lasts longer Very pleased and will order again,Goes on easily and great before base makeup,Its a good primer for a very low price It certainly minimises pores and smooths my face,This primer is so bomb Its very light My makeup glides on and stays pt all day,I used to buy a expensive brand but when I found out this just by giving it a try it was it Im definitely a client of this product from now on,It goes on so smooth and helps my makeup retain its longevity so much It helps even out my redness so thats such a blessing My make up has always helped even out my redness but this helps take it to a whole new level,I appreciate not paying a high price for a great makeup primer,Great under makeup primer Had used before and still love it Makes applying foundation smoother,Love it Works so well,if you have oily skin this is the best primer for it and makes your foundation last all day im in love with this primer,Love it Goes on smooth and long lasting,I like this every bit as much as my smash box primer which is much much pricier,Its great,Love this primer Great for taking the redness away in your skin and lasts all day long,Feels amazing on your hands and face Works great under makeup for a smooth finish,I wear this without foundation as I absolutely love the silky feeling my skin has after using it,This is a great primer I preffer to mix it with my moisturizer to get a better result When you put it on top of the moisturizer alone it feels like powder so i dont like the feeling Bit it works and love it,Great product,Feels good on my face Will buy again,Must have,Best primer Ive ever used makeup went on smoothly,Very moist and smooth base No fragrance which is great,Primer,Luv this product,Good every day primer I like all the nyx products And the best part is its decently priced,Its good for the money,Only problem is that it has a weird smell Works great tho Feels so silky smooth,I found if I let this sit  mins after applying it really leaves a nice matte finish and my makeup applies smoothly and stays in place,Works perfect for my daily look and for going out Gives that smooth base you need for flawless foundation and rather inexpensive Definitely my new go to primer Love it,This is a really good product,Great,Better then some high end primers,this primer really changed my makeup routine forevermy foundation stays perfect all day and now I use less of it,Wonderful product Soft on the skin,Works well for keeping base on with out shine,Its just as smooth and soft a finish as much more expensive brands,Love it,The texture is better than I thought Loved it,Takes just a tiny bit and my foundation glides on,matte finish great for my Tzone,Glide onto you skin love it thought it was in a bigger container so a little pricey but worth it,Great,I was hesitant to purchase this because I have always used Smashbox photo finish primerbutthis is an excellent substitute for that product and at a great priceI was actually quite surprised it worked so well to even out my foundation with a smooth applicationMy makeup stayed on all day without fading or appearing oilyI was pleased with this product,The face is really smooth after use,Good product,This is the only primer I use I find other brands are chalky and as an African American woman chalky doesnt work for my complexion Will continue to buy,As advertised,Love this,Love this product,Great price,Gorgeous primer Does blur imperfections fills in the pores it is super silky and smooth and it goes well under my IT cosmetic cc hydrating serum The primer creates somewhat Matte effect and is perfect for my oily skin,Best primer I have ever used,I wear Estee Lauder foundation and this NYX primer seems to work well togetherIm hoping it will keep working well into the hot summers here in AZ so well see,Never used a primer like this before The silky texture us great and my previously hard to blend foundation smoothed right over Im so sold on NYX I just ordered  concealers to test out,Very happy with this,good Mette finish,Was having issues with my foundation not staying all day Paid for a makeup consultant a friend to do my makeup for a girls night out He used this product so after a night out my make still looked great I will only used this product after that and it works to prime my face and make my foundation last longer,Love this  keeps my beat fresh for hours,I adore this product I still try other primers on occasion but I always come back to this one,I am so shocked at how amazing this primer is For the last three years I have bought so many expensive high end primers trying to find the holy grail  this is it and at an unbeatable price,A little went a long way I purchased  tubes and I just finished a tube of this after using daily for over  months After reading reviews I use less than a dimesize amount and mix it with a tinted beauty balm to smooth out my complexion Very light weight and no odor Wears well for me,Skin will look flawless,This primer and I totally recommend this to any girllady that wants a great feeling primer It goes on clear is silky smooth,It glides onto the skin,I like this product very much for the price Great primer does what a primer should I gave it  stars because it really doesnt cover the red but the longetivity of this primer is amazing,Great price smooths skin and improves the longevity of my foundation,Make up last a long time,I love this so much it makes my skin soft,Im surprised how good this feels on your skin and makes your makeup look better,Love it,Great product for an affordable price Plus it goes on so smoooooth,This product is easy to apply and makes my face so soft I dont know how much it helps with color correction but its a great primer My foundation goes on smoothly over it I already ordered a second bottle,I use this everyday and am very happy I have another expensive brand that I use for special occasions This product is very good for the price,Great to smooth,I liked,Good product,This doesnt colorcorrect I would say it is OK for a primer for this price Green becomes translucent immediately,Okay so I bought this because I ran out of my other color correcting primer This doesnt really color correct like it intends too Infact if I were to just wear this Id still be pretty pink BUT Ive found Ive I put it in a thicker layer all over my face it blurs my pores like no other AND helps make my foundation more opaque If youre planning on using this on its own to color correct and tone down redness without foundation I cant recommend it But If you are planning on using it as a primer and then following it up with foundation as it is intended you cant go wrong Just make sure youre applying liberally Also this in combo with the nyx matte setting spray Absolutely magical full coverage and lasts allllll day,Makes such a huge difference in how your make up comes out and lasts Inexpensive but not cheap and worth it,in stores is about  but I always order on here its the best price it ships fast and it comes to my door cant beat that it fills your pores very well great texture doesnt really have a smell which is good,Love this product gives my foundation all day wear I also carefully apply to my eyelids under my eyeshadow and my shadow lasts all day into the evening No creasing,I have been using this primer for a few years now and I love it It has the same texture as Smashbox Photo Finish primer but it is way more affordable Using a primer really does make my face look smoother my makeup stay on better and longer and keeps my face from looking cakey later in the day The purple helps balance you out if you have yellow undertones in your skin like me Great product,Love it,Softens the face rendering it very smooth for applying makeup flawlessly,Great stuff,I think its worth the price but I havent noticed a huge difference versus similar products that makes this stick out I prefer something more moisturizing also But overall I like the way it feels and the way it goes on my skin,Wow what a great product Feels so good when applying really smoothed out my enormous pores and stopped the issues I was having with my makeup namely getting dewysweating off my face Really makes all my makeup stay put,It made my makeup look so smooth,This is an amazing primer for the price It definitely helps my makeup set more smoother on top,Does take away some of the shine Great product for such a low price,Great product and so affordable,Love it Nyx is one if my go to makeup products,A clear primer is important to me as a whiteopaque primer changes the color of your skinI dont put foundation on my whole face so a clear primer allows to prime my whole face and only apply foundation where I need it on the trouble spots,Keeps my makeup on all day However elf is  for theyre primer and Ill definitely be moving to that,It make skin smooth A very nice product I would recommend to buy,Just what I ordered,Works great covering my redness,Bought as a gift for my mother Really good product and great brand for a fair price,I was completely blown away by the quality of this product It goes on smooth and feels so lightweight you barely notice it Its perfect for making sure your makeup will last all day I even paired it with the setting spray from NYX and it was amazing,Great producthydratingmakes a super surface for perfectly applying foundation I call it spackle for the face LOL,Perfecto,It works to help get your face ready for makeup to glide on,I am a huge fan of smashbox primerbut this seems like the same stuff but way cheaper Fantastic product Im sold,Love this primer Its light and doesnt clog my pores,I have large pores that I try my best to cover so my foundation looks flawless so I needed a good primer I bought this on a whim While it did a pretty good job it didnt last all day and it only mildly blurred my pores,Super affordable and works great in all seasons,Calidad,Smoothes out my skin so my foundation goes on really well Its cheaper on Amazon than in Target Love it,This primer is perfect for my sensitive skin and keeps makeup from settling into fine lines,I like it Left my skin very soft,Skin pores changed Over  This is the product for youThis product applies SO smooth and silkyIt allows my full coverage foundation to go on seamlessly LOVE IT,Ive tried a number of primers over the past few years searching for the perfect one NYX Studio Perfect Primer is it for me My criteria for a good primerEasy to apply over moisturizerPrimer is preferably unscentedMakeup base goes on smoothlyDoes not pill after applicationNYX not only meets my criteria it exceeds them I normally apply moisturizer after showering allowing the moisturizer to set a few minutes before applying the primer The primer glides on like silk allowing me to apply the perfect amount of makeup base It does not pill up and my makeup looks fresh throughout the day I love how soft and silky my skin feels with NYX  My makeup looks nicer and I get a lot of compliments on my skin Ive recommended NYX Studio Perfect Primer to all my friends,Good product no complaints here,Highly recommend this product,Like the texture,Second time Ive purchased keeps my makeup set all day with no creasing or oily spotsGreat value works the same as much pricier versions Ive tried Definitely recommend,I love the way it absorbed into my skin and the way it allows for the makeup application to be seamless,beautiful thingsbetter prices,I love this product,This is my new go to primerI have used expensive primers before and this product works just as wellLasts all day and then some,amazing product,I love this primer It works just as well as the upscale brands I have a little bit of redness in my skin tone and this evens out,Love my primer  it makes my makeup stays perfect all day long,Smooth and easy to apply,Arrived on time and exactly how it described,I like everything about this primer It goes on smooth keeps my makeup smooth and the biggy is it makes fine lines practically disappear I will be ordering again,Goes on smoothly and feels quite nice Lasts all day It covers general redness but any blatant splotchiness will not be covered I have quite a few of those and will go over them with an additional green concealer stick and also a red concealer for darker spots The NYX green primer does contribute along with the concealer sticks to toning those trouble spots down more so that they are not so obvious than just using the concealer sticks alone I am very happy with this purchase Great product More so after having learned that NYX is crueltyfree On the other hand I am on the fence as to whether I will continue to purchase this I understand LOreal the parent company of NYX is not crueltyfree So debating whether purchasing NYX products would be the same as continuing to purchase products that are animaltested I would like to try and steer away from that now,Great product for the cost,Q llego puntual,It does the job and helps my makeup last longer,Good working for me,One of my all time favorite brands and favorite primers,Love this product,Love this primer It is silky and smooth perfect base for a cream or liquid foundation and very affordable Great product for the price I dont use it for the redness reduction so I cant speak on that aspect but I do like the feel and consistency better than the NYX clear primer which is stilla nice primer,I love this product Ive used one of those very expensive name brands and I feel like this works just as well I also love the fact that it has the color correcter built in I get two products in one Outstanding,LADIES if youre looking for a primer look no further This primer is THEE BEST Ive tried Setting powder It showed up every tiny little crease and wrinkle Especially under my eyes Who wants that PLUS when I applied my mascaradidnt matter if I waited about  minutes before applying foundation or used many many different mascaras my mascara would leave little black spots under my eyes Little mascara tracks Raccoon eyes I could walk in a store and see myself and BAM A Raccoon starting back at me  NYX STUDIO PERFECT is just that  PERFECT  NO mascara tracks No Raccoon eyesIve waited a few days to write this review so I could use different mascaras thinking either I found the PERFECT product or is just a combination of NYX and certain mascara NOPE Its NYX for sure I can even nap with a full face of makeup on and wake up and look like its freshly put on PLUS it doesnt accentuate any small lines under my eyesIf youre hesitating just get this miracle in the black bottle Youll be very happy as I amPs Im going to visit my bf for three months and Im buying enough bottles to hold me over Not sure if his country carries this Sure as hell not taking any chanceS,Great base Love it,I used to buy Smashboxs primers till I read an article that this NYX was basically the sameFor a few bucks I figured why not try itMy  year old niece and myself have never paid for expensive primer sinceI cant say the same for other similar items like mascara I always spend the extraIn this case though it was worth it,I dont know much about primer or make up but this keeps my eye makeup on all day long,So heres the thing in terms of giving you a smooth start and helping makeup stay on your face longer this primer is excellent If it was marketed as just your standard primer Id give it  stars However there was no color correcting effect from the green It did not in any way diminish the red undertones in my skin,This brand is highly rated on Google so I thought Id give it a tryit smooths and evens out my skin before applying Bare Minerals makeuphave worn without makeup for casual days and my look is still smooth  pulled together I have combo skin and this primer works well for me,Works like a charm makeup application better,Worked as expected,Pretty decent primer,Easy to use,for sure a better value dupe for the smashbox primer keeps my skin looking smooth under my makeup not greasyshiny great texture,primer before foundation,So silky soft with makeup or without,Was recommended to me as a makeup primer and it feels nice on skin very silky,Covered pores Made my makeup look even better,Helps to tone and brighten but w a matte finishbut wo drying out my skin  Im going to try the green next bc Ive developed rosaceafun,You can never go wrong with NYXThis primer is like a pore filler and primer in one Absolutely great primer Goes on silky and has a great staying powerGive it a shot and youll always keep this on your makeup bag I do,Makes my face feel like silk before application of foundation I work long hours and it def helps to keep my face in place It does have an oily base but does come out pretty dang smooth One of my fave inexpensive primers,Great for oily skin My makeup goes on smooth and stays all day,First of all WOW I have tried dozens of primers in my life Wasted well over  dollars on primers that didnt work or didnt last NYX seemed to be everyones secret weapon so I decided ro give it a whirl Its notably a lot cheaper than most other primers Ive tried so I was skeptical but I am HOOKED on this stuff I have a combinationoily face and its hard to get makeup that will stay put all day without looking patchy or sliding around but this primer works miracles My large pores around my tzone are hard to smooth out but this just glides over them and makes it so easy to apply my medium coverage foundation  just make sure you blend it into your skin well so it doesnt feel slippery across your face I do have troublesome skin but this gives me the smoothest makeup application that lasts from  in the morning til  when I take it all off Seriously a holy grail,Super soft on face and helps foundation glide right on,The product arrived quickly and appears to be a good valueIt goes on smooth and wears well My only complaint is that it doesnt work well with my favorite concealer causing some cakingand leaving me to need either a different concealer or a different primerWhen using the primer without concealer Ive been very pleased It does not irritate my skin or cause breakouts My skin actually looks better with a light priming and setting powder I will buy again,Been using this for years and years the only primer I use if you have oily or combination skin this will be perfect mattifies your face without drying it out just make sure you moisturize first but thats with any makeup routine so the rest of your makeup can go on a flawless,I had read other reviews on this primer so I thought I would give it a goWowIt goes on like silk and keeps my make up on all day and into the eveningAnd it is easy to remove with my makeupBest Ive used in a long time,Goes on smoothly and gives a true matte finish which I love Lasts a long time as well Definitely will be ordering more,This product gives a nice smooth velvety appearance and feel to the face  can be used before make up or if you wanted to  could use without foundation,This is my favorite primer I have very dry skin and dont know how it would fair with oily skin,Smooths easily on the face,It didnt work for me,Beautiful feel applying to face leaving it very soft,Leaves my skin smooth,It doesnt last long but other then that its perfect feels light and isnt sticky,Excelente servicio,I used to use the photofinish primer by smashbox and loved it I found that the NYX studio is a perfect replacement for quarter of the price Highly recommend,Great product,Omg this is FABULOUS skin is silk with this product,I have super oily Indian skin so most of the time my makeup starts to fade after a few hours This primer works so well Only a drop is needed to cover most of the face and does not look shiny at all Makeup lasts wayyyy longer now,Love it,I can really tell a diff with my foundation when I dont use the primerI didnt read close enough of the needed colorI should have bought the clear vs purpleClear is in my cartIts not as good as Ive bought in the past but its s good valueapprox ,I recommend this product,I love this primer for the price and how good it actually works for my skin,Really satisfied Used to spend way too much on primer This one is the best value and product Ive ever used,Me agrado la suavidad en que deja la piel,Not sure about this product Still testing it,Face,Works good,Very smooth applicationLasted all dayI like the fact that all of their products are cruelty free,Works good,I was a little leery about buying this product and I am totally surprised It goes on smoothly and my makeup looks silky,Felt so amazing on my face Went on smooth and dried quickly,Wow  Im amazed love this product today is my nd time I use this and has really helped control my oily face  will definitely buy some more  Works Great Totally recommend  Satisfied ,Does exactly what its supposed to Great product,Im in love with this primer A little goes a long way My make up goes on smooth it last longer  sometimes I wear just the primer to eliminate pores It leaves my skin feeling smooth and silky all day,I added it to a DIY BB Cream formulation and it did not budge in  degree weather There is some witchcraft involved and I love it,Product works great I have hooded eyes which makes eyeshadow and sometimes eyeliner difficult to wear This stays all day and without creasing,I use high end cosmetics but this primer works just like the more expensive onesHighly recommend and I hope NYX does not stop making it,This primer is a clear lightweight gel It goes on like butter and leaves your skin completely shinefree and so soft After applying my foundation and lightweight loose powder my skin and makeup stay beautiful all day through any temperature I love this product Thats why Im on Autodelivery,I love nyx products so Im excited to try this on my next photo shoot All of their primers have been great,Not as thick as Id like it to be,Love this product its so soft doesnt make me break out shocking and helps my makeup apply so smoothly Also great price Ive tried the high end primers and this one measures up just the same def will buy again,This works fine Not quite as elegant as II imagined but tube lasts a long time and doesnt take much product Serves its purpose,This really does smooth your pores and keeps makeup in place all day,Ive been thrilled with it It has an almost oily texture which I was concerned about but it feels great on the skin and has not caused any problems It has improved the look and wear of my makeup,Good primer for the money feels comparable to more expensive ones,OK,How is my make up go on so well and it looks so great,Just as nice as the expensive product I bought at the salon,This product works like and expensive high end productbut wont brake the bank,Works great ,This is a dupe for Smashbox photofinish primer It goes on very smooth and blurs fine lines and minimizes the appearance of pores I highly recommend this primer at a third of the price of the higher end product,It works great for me Keeps me from breaking out when I do a full make up and for the price you cant beat it,Would buy again Great primer Lasts all day until you take it off at night,Did a great job,I didnt use it personally but my daughter has no complaints at all,Buen producto,Im just going to preface this by saying I know next to nothing about makeup I used to use tinted moisturizer some powder blush and call it a day One of my kids was getting married and I wanted to step up my game and make sure I had complete foundation coverage all day This stuff works I have always moisturized before putting on the tinted moisturizer Now I moisturize wait a while then use this primer then a good foundation The primer keeps the foundation on and helps it spread more evenly Im sold,This is definitely the best primer I have tried It has the same texture as Milani which has been my favorite for many years but it sets into my skin better My skin also looks less oily with it I highly recommend I took off a star because it went from  up to  for the same small size A little disappointing,Excelente transaccin ,Feels good on the skin but  oz is too small a size and the tube didnt last long Not sure if I will order again I use serums that seem to work just as well as a primer,I like the durabilityMy only complaint is its difficult to use all of the product in the container I have to cut the tube to get the last of the product out Usually  to  uses,I bought this back when I believed in primer Its a little greasy but one of the least bad primers Ive ever tried so its a good buy,This primer does a great job of smoothing out your skin and getting it ready for foundation and it does effect my skin except making it nice and smooth,Great silk like feel I love it Well worth the money,My favorite Primer,This keeps my Tzone from getting shiny throughout the day Love,I like this primer for its satin like feeling and a little goes a long way I use it before my bare minerals makeup for a super soft smooth look,WowWho on earth thought a drugstore primer could work better than a beauty brand this one doesSmoothing and helps to set your foundation perfectlyI moisturize a few minutes later this primer and tada ready for some foundationSets all day after setting spray,I have the worst dry skin No matter how much I drink water exfoliate and moisturize I still end up with flaky skin on my face This primer feels like silk going on Its the only reason Im able to to wear a foundation during the summer months especially I highly recommend,This primer is one of the best that I have used and works just as well as one that I was using that was over It gives a smooth matte finish and keeps makeup fresh all dayYou can even use it without makeup too for a matte fresh finish,Love NYX everything Always a good brand to go with not too pricey Primes and smoothes well,Good product My first time using a primer and I was impressed,I use this product under my tinted moisturizer almost daily for work It cuts down the red tones so I dont have to pack on foundation or poster and lets me have a light dewy look that I love,This is the first time Ive ever really use a primer on my skin To be honest Im not sure if it hurts or helps I will continue to use it,Love it,mixed feelings idk its great but i might keep looking,Greatcoverage excellent value,This product goes on so smoothly and makes your face feel really smooth and soft It does cover up the surface of the face and makes the foundation look smooth Great price,So far this primer has been everythinggg It leaves me skin so soft and glowy Great product,I have used a lot of different primers and this primer does the job and is really great for the price I am all about finding great quality products that are inexpensive I will definitely continue to use this,Works well My favorite primer Fast shipping,Interesante,This has always been one of my favorite products will continue to use Makes makeup application very easy and smooth,My makeup seemed to fade within a few hours of application Not sure if due to my moisturizer or my application skills But since Ive started using this product my makeup seems to last longer It goes on smooth its light weight and not greasy,This product is absolutely phenomenal I have never used primer and now that I have a make up mirror with LED lights I can see what Ive been doing wrong My foundation was so caked and patchy and gross and never lasted I used this primer and it doesnt even look like I have foundation on its like I have natural ally flawless skin I love it and when I run out I will definitely be ordering another,At first it feels like it would be too smooth but it really helps the foundation go on like sooo smoothly for that flawless look,I love it This product was lightweight easy to apply without feeling sticky it and had my makeup looking flawless I would definitely order this again,Great product but a little small,It works but it doesnt last all day and it slides if you dont use an excessive amount of setting powder,Super suave deja la piel hermosa,I loved this for my eyelids it helped my eye shadow pop,Works great,Works nice for the price,Good silicone primer for mature skin,One of my favorite products,I like this primer my foundation looks so much smoother and it lasts longer It also cover my pores completely I have sensitive skin and it didnt break me out,I love the price Was paying  at a facial place for something that was not any better than this Glides on smoothly and makes foundation glide on over Highly recommend for every foundation user,Works great,I ordered this after being amazed by how well the finishing spray workedThis primer only adds to my amazementThis primer went on smoothly and made my skin feel like silkMy mineral foundation flowed on flawlesslyI topped it off with the setting sprayMy makeup lasted over  hours without the shiny breakthrough I normally would get after a couple of hoursMy only issue is that I went to order this product for my granddaughter and found that in one month this product has doubled in priceIf the price goes back Dow I will be ordering again,Great,I like it its a bit more liquid than what I normally use but it condenses,Nothing noticeable after makeup applied over the primer,Make up goes on very smooth I have T type skin it made my skin looking very smooth the dry areas are really improved after  hours everything was looking just perfect and fresh I could not belive that cheap primer could working so good but Im impressed and ordering one extra,Works really well Mixing it with my makeup base is saves a step and makes a lighter application My Jolie mineral liquid poser foundation is pretty thick and adding the primer loosens makes easier to apply And its a nice trick to help the makeup stay ALL day and mist of the night if youre going out after work,My face looks so good Really good,this is my first time ever using primer and I bought this one because it has good reviews I have nothing to compare it to but it makes my face butter smooth after I applyThen I put on concealer under my eyes and in random places and sometimes use a foundationseems to work just fine,Keeps my face looking flawless,High recommend product Sooo soft and so easy to put on the skin before foundation I love it Definitely will buy again,Good,I use this under my make up every morningIt is a great primer to allow the make up to go on smooth and stay onFeels like a high end make up primer for a fraction of the cost,Does pretty good only have used it a couple times Made my face feel great I used BB cream over too and my wrinkles did look some better I would recommend,Ive only used this once but it made a tremendous difference in my make up I am a one finger make up applier but this goes on so smoothly and absorbs so well It made me look like a professional artist My dark spots didnt show as much and my dark eye lids had a nice naturally sparkly look Hope to achieve the same results next time One tip I would like to give is make sure you let each layer of your makeup dry before applying the next layer,Great its my new favorite,I like,Awesome,Very nice product thanks again,Im a newbie when it comes to using face primer So far I like this product Its clear and you dont have to use much of it No harsh smell Seems great for my sensitive skin,Ive used more expensive primers and was happy to find this one  its just as good as the more costly ones I wont be switching back,Great product,This primer is great and highly recommended My photos were perfect,Love the way it makes my skin feel and it is perfect after  minutes to place on your face before your foundationYou will see how smoothly your makeup goes on and how great you lookI will buy again No problems,Works great I have larger pores on my checks and coverage from my foundation is much better I do let it sit on Yee skin  before applying foundation and that seems to really help,Works great My favorite primer,Works,I love this product It makes my makeup application smooth and makes my face smoother eliminating makeup lines and creases,Not my favorite discount primer but for the price it does a fine enough job You do seem to get more primer in this tube than other primers so thats a plus,Leaves very silky texture on skin Works great,Great price great primer,I love this primer It helps with my oily skin and makes it nice and smooth My makeup looks great and last all day,I love NYX and this primer is so so smooth It blends in so well and almost immediately feels like it was never But it sets foundation and concealer really well and lasts for hours Strongly suggest,Incase you are not familiar with Bondo it fills imperfections dents and such on the body of a car before painting allowing the paint to look flawless,Works well,first time using a primer so im not certain of how it should really feel or look but this made my face feel a lii more moistore for somewhat reason it seems to give a lil sheen to your skin,I love how smooth it glides on and leaves my skin super soft and smooth make up applies on wonderful leaving a flawless look,Awesome primer gives you an amazing smooth base without drying your skin ordered  more pack ,A little bit of this goes a long way Absolutely completely changed the quality of both make up and body paint A must have,Good dupe for smash boxIt is almost as good as Smashbox but its a quarter of the price and it works better than any other drugstore primer Ive ever used ,Goes on nice,First time for me using primer so Im definitely an amateur makeup applier I believe it has made a difference in my makeup appearance Ive never used primer beforeso I dont know if its great or average It works for me,I loved the primer The primer makes my skin super soft,Still getting used to the silky feeling of it but it works very well for me,This concealer stick is amazing It helps fill in eye wrinkles,Affordable and does the job,love this product price is affordable helps my foundation last all day at work,Daughter is very sensitive to lots of things and this makes it possible for her to experiment and learn about make up,Loved it Goes on smooth,Wow I didnt expect much from a cheaper primer but dang this works so well I wont be buying any expensive primers again,This primer does a decent job I canttell a difference when compared to the name brand,Makes face so soft but a little goes a long wayUse too much and it is only,Great primer I love how my face feels after application My make up looks great too,this is a great product,Perfect,Love the feel on face and overall coverage,Very nice stuff,My skin is normal and I dont have discoloration to speak ofThat said this primer is perfect for my needsMy makeup goes on so smoothly and stays on,Perfect,Im not a huge makeup guru but this is my favorite primer and perfect price,Excellent product excellent price Ships quickly Would definitely recommend,I love this primer Works perfect,Great product I love this way more than the  big name stuff I got from the s store,Cheaper than the Smashbox photo finish primer and while its not as good I use this for my every day makeup AND my nice occasions Makes my makeup smooth  just be sure to apply it before the primer sets,I was so pleased with the quality of this product The kind I was using was a high end name brand and I like this so much better So glad I tried it I even put it on my auto send,I like this just as much as any expensive primer Ive used,Love love love,Love this stuff smooths out my face and makes foundation go on soooo easily,Love this primerGoes on smooth and for the cost its a great valueIve used this for  months everyday,Absolutely love this primer For  years Ive been wearing Mary Kay As prices have raised a lot over the years I decided to try something new This is my new everyday primer Makes my face feel so soft and its doibg a great job hiding or removing my dark under the eye circles,I absolutely love this primer Ive tried other primers before and I hated how it made my face feel They would make it feel very oily on my face and hands This primer however feels amazing Very smooth and moisturizing My foundation and makeup come out looking great with this primer I definitely recommend this primer and would buy again,I love this primer Ive tried other primers before and absolutely hated how they made my face feel It would feel like i had some type of lotion on my face and it just made me feel oily This primer however doesnt give me that feeling and makes my face feel smooth and moisturized My foundation and makeup go smoothly and definitely does what intended Definitely would recommend and buy again,Works just as good as high end,this primer is amazing my makeup looks flawlessi have oily skin,It goes on a little gloppy but dissipates into the skin quickly and without feeling gooey Puts your makeup on lock and fights shine all day long I was amazed,This product is comparable to Smashboxs green foundation primer but a whole lot cheaperNo more Smashbox for me, love it,This product makes my makeup looks NATURAL I love it so much  recommend,This eye shadow primer is very goodIn fact I can honestly say this is the best longest lasting eye shadow base Ive ever used,So far primer is working well Great product for a great price,Smooth glides easily and holds wellBut need more then usual for good results,Love the way it feels on my skin  how it primes my skin for my foundation,good primer,doesnt make me oily,The green primer works well as a regular primer It does not actually have any green to it it sheers out to clear color Anyone who says the green helps with redness probably didnt have any redness to begin with,like the title says perfect,Perfect,I have oily skin and this is so lightweightIt makes my makeup routine betterIts so smooth,Love,GreatReally goves the complexion a smooth look Helps the foundation go on smoother,I love this stuff I always keep this and the redness formula in my makeup bag Works great Lightweight Doesnt leave me greasy,Bought it on discount do great price compared to stores Very nice primer,Awesome product,Suuuuper genial es tan suave se d sliza perfectamente en la piel y ayuda muchsimo para colocar la base Lo amo,Compare to Smashbox red reducer it does the job Sometimes I just wear this with matte powder and it keeps my face neutral all day,Me parece muy bueno con solo un da de uso la piel de siente suave y nada de grasa  me gusto,Great low cost primer Its light weight and works well,Love love love this primer Goes on so silky smooth and makes the rest of my make up look much better Doesnt cause irritation or break outs like my way more expensive Mac primer did either,My go to primer Ive tried all different brand from drugstore to highend I always come back to this one I have dry skin year round and this primer keeps my makeup from clinging to dry patches My makeup goes on so smoothly A little goes a long way so a tube lasts quite a while I highly recommend trying this primer,Love the smooth feeling of this product and is a great price,it looks like it can be improved the quality of the product,Gives my face the perfect canvas before applying my mineral make up,This is a primer or base to use before one uses foundation I like it because it is colorless and its not oily,Great primer ,Im a Baby Skin kind of girl but Im switching to thisIts a thinner formula but still silicone based and gives excellent coverageIts similar to the Mary Kay primer but without the preaching pyramid scheme and animal testing and at a better price point,Great primer Keeps me from getting too oily,This primer is amazing I love it and I only use that one softens up and the make up settles nicely on the face,I like this as much or more than my more expensive smashbox primer,I liked this primer in general but I LOVED it once I started accutane in case you dont know accutane is a strong acne medication that reallly dries out your skin while youre on it I can glob sooo much sticky moisturizer on my face but with this primer over it my makeup still goes on great without any clumpingstickiness Honestly this is a gamechanger for looking pretty while on accutane,Im happy with it and would most likely purchase again,Ive always loved their products and they have yet to disappoint me This product stops my face from feeling greasy after Ive applied my makeup,Total game changerLove it,Its a nice primer for its price It does the job well,worked as expected,Awesome primer Used on wedding party last weekend and kept everyone matteoil free for the whole outdoor wedding and party,This product is a gift from heaven I suffer from acne rosacea and this has been wonderfully useful at toning down my redness before applying concealers and such This may be my forever primer I love it that much,I lovethat it does fill in pores Its not watery at allits definitely silicone base Leaves my skin feeling smooth,I love it If you have oily skin i would recommend the shine killer by NYX But for dry or combination skin this works amazing and is very affordable,I like this primer Silky smooth and Ive noticed my tzone area isnt as oily as it usually is after I started using this,Love this primer Helps makeup go on smooth and easily,love it,I love this primer nyx Excellent,feels like im wearing nothing,Makes my skin feel like silk without being heavy feelingI dont use all the concealers to make my skin look flawless I dont like how all that stuff feels so I was just looking for something that would take the shine off and this did the trickI also used the NYX matte finish spray and I was shine free for hoursI would definitely recommend,Great primer It goes on smooth and looks great It helps hides pores and helps my foundation go on more smoothly Makeup lasts longer when wearing this,I honestly think this works as well as Smashbox for a fraction of the cost I will continue to buy this,I like this primer it it does exactly the name Studioperfect primer your make up gose on very smooth,Love this productIt goes on so easy and helps my makeup last all day Also reduces yellow tones in my skin Love love love it,My favorite primer The green tent doesnt do anything though So if the clear is cheaper get that,I love this product it does not feel heavy I can use a much lighter coat of foundation and it helps it last much longer,Helps offset overall redness but you need to use a lot since it doesnt have a lot of pigment I still prefer that over some of the other green colorcorrectors Ive tried A little green goes a long way so the lighter color is safer to apply especially if your foundation isnt highpigment to cover up the green tint I end up using more but at this price its not a big deal,I like it it seems to do the job its just very oily I have to wait a good bit to put on my foundation so it doesnt look like the foundation is not well set,I like this product because it takes away the redness from my faceI dont need to use as much foundation when I apply this first,Love the nyx primers These work so great just as good as the smashbox but a lot cheaper,Great primer that lasts all day and really smooths our my skin Not too oily and I havent had any clogged pores or break outs from it,Makes your skin feel so silky  smootg when you use it before putting on other makeup,A lighter finish than I expectedNot heavy enough to even out pores silky and a bit shiny not sparkly or glittery but a bit oily looking It does create a smoother surface for liquid foundation This means youre able to use less of your costlier foundation So definitely a savings But I like a thicker more matte finishIll use it up but likely will not purchase again,I mix a drop of this with  drops of my base  it really downplays my rosy spots,I got the clear one and its just like the Smashbox Photo Finish primer I love how it oxidizes and doesnt stay greasy in texture Great alternative to the  dollar smashbox tube Will be using this from now on,This has become my standard primerI have a number of very expensive primers but this seems to blur the lines and hold the makeup foundation all dayIt is light weight and has great coverage with minimal amountHighly recommend,I dont use it that often cause you get what you paid for,Feels a little drying for my skin but its a good primer,Love it evens tone,Very good My favorite of that brand,Does the trick and for the price of this compare to others I will stick to NYX that does the exact same and also to save a little ,I reallly like this primer Im  with combo skin and oily Tzone Ive been trying lotion and cream based primers with no luck but this came along and wow Its lightweight has an almost powder finish and a little goes a long way Stays put all day with minimal settlingclumping,MUST HAVE beauty item I can not go without this primer in my makeup bag I think it is better than smashbox primer and much cheaper My foundation goes on so much smoother with this primer,I love this clear primer Its not greasy and my foundation brushes on so smooth I always get compliments on my makeupThis is partially the reason why and Im almost  yrs old,I wanted to put on clown makeup with something underneath to prevent my skin from absorbing itThis seemed to do the trickAlso dont buy clown makeup from WalmartAfter three hours it started cracking and I went from looking like Bozo the Clown to the Joker,good,Little bit greasy  But its OK ,This is the best primer I have used so far,Made my makeup look amazing for hours I fell asleep n woke up looking photo shoot ready  Definitely buying again,I love this primer It goes on silky smooth and is the perfect base for flawless foundation applicationI reduced it by one star because the redness reduction isnt that great There are better products out there if youre looking for actual redness coverage but as a primer this is great and the price is much better than other retailers,This is a fantasticprimer Its silky smooth and lasts all day The green tint however does nothing for redness I saw no difference there but this is still my favorite primer in my makeup box I was previously using Smashbox and I like this one more,good dupe of smashboxs perfecting primer i love it,Best primer I have tried and inexpensive too,This primer is as good as the expensive department store brands It makes my foundation look great through a long day I apply it between moisturizer and foundation for great results,A great dupe for the much more expensive Smashbox photo ready primer Long lasting smooth application and helps create a nice even canvas for foundation and concealer,Smooth application and really helps with the look of my BB cream,goes on smooth love it,It works well just a little greasy for my taste but it did keep my makeup in place all day,First time using a primerIt definitely makes a difference in the texture of my foundationCant really compare it to others but I like this one and will continue to buy,For the size of the bottle its definitely over priced I have no tried it yet but if I do end up loving the product Ill probably end up going into the store to buy it instead of paying over  for a small tube of primer thatll probably be gone in less than a month,It works Greatits my favorite,Omg makes your makeup application amazing,I decided to try this product because it was rated much lower on the Think Dirty app than the primer I was usingIt goes on smoothly and easily and leaves a silky smooth type of feeling after applicationI did not need to allow any time for drying before adding my foundationIt seems to work just as well as my previous primer but it s much cleaner rated  on Think Dirty appI will be buying this again unless I find a  rated primer first,Thanks,Ive gotten this twice now and dont buy to many makeup items twice LOL I use this in conjunction with NYX BB CreamNo longer do I go to that expensive makeup store at the mallIm  and tried it allThis makes my face look bright and not dull,A requested gift she seemed happy,Im very happy with this product Gives the face a velvety feel which is quite lovely Make up glides right on,Great buy,Ive tried many different types of primers but this has been my go to for a couple years now I wouldnt say that it necessarily does very much for masking my redness I have Rosacea but it definitely evens out moisturizes and provides a nice barrier for my skin I like having this barrier between my skin and my makeup so I dont irritate my already sensitive skin any further with makeup I will never not have this product in my makeup bag,I have oily skin and this primer works perfect for me I apply using finger tips and leave to set before applying my foundation My makeup application feels so much easier and smoother to blend when using this product,very smooth helps spread makeup evenly I have very sensitive skin and there has been obsoletely no skin reaction,I really liked this primer It really helped diminish pores and fine lines Its not the best primer Ive used But its no where near the worst,Makes your skin super smooth  allows you to blend foundation easily,Love this green primer I have rosacea and this really helps hide the red while giving my skins a smooth shine free look Much cheaper than other brands and works better,Flawless,Great stuff good price Came quickly,I love this primer It goes on super soft and doesnt look green at all when its rubbed in Im not sure how well it does to offset redness but its still a great primer,I have been using this primer and have found it to be the best for me over the very pricy options My makeup goes on flawlessly and stays beautifulI still have the pricey ones sitting in my drawer,Goes on so smooth and last all day,Bought this as my first experience with primer and I would never go back to my days without it You dont need to use much to tell the difference I bought this estimating about  months ago and its still not out I also dont wear make up everyday though']"
      ]
     },
     "execution_count": 199,
     "metadata": {},
     "output_type": "execute_result"
    }
   ],
   "source": [
    "docs"
   ]
  },
  {
   "cell_type": "code",
   "execution_count": null,
   "metadata": {},
   "outputs": [],
   "source": []
  },
  {
   "cell_type": "code",
   "execution_count": null,
   "metadata": {},
   "outputs": [],
   "source": []
  }
 ],
 "metadata": {
  "kernelspec": {
   "display_name": "Python 3",
   "language": "python",
   "name": "python3"
  },
  "language_info": {
   "codemirror_mode": {
    "name": "ipython",
    "version": 3
   },
   "file_extension": ".py",
   "mimetype": "text/x-python",
   "name": "python",
   "nbconvert_exporter": "python",
   "pygments_lexer": "ipython3",
   "version": "3.6.8"
  }
 },
 "nbformat": 4,
 "nbformat_minor": 2
}
