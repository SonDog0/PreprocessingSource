{
  "nbformat": 4,
  "nbformat_minor": 0,
  "metadata": {
    "colab": {
      "name": "bert_test.ipynb",
      "provenance": [],
      "authorship_tag": "ABX9TyOPdS8LCgqFl6tcj1q2e5p6",
      "include_colab_link": true
    },
    "kernelspec": {
      "name": "python3",
      "display_name": "Python 3"
    },
    "language_info": {
      "name": "python"
    }
  },
  "cells": [
    {
      "cell_type": "markdown",
      "metadata": {
        "id": "view-in-github",
        "colab_type": "text"
      },
      "source": [
        "<a href=\"https://colab.research.google.com/github/SonDog0/PreprocessingSource/blob/main/BERT_TF_Review.ipynb\" target=\"_parent\"><img src=\"https://colab.research.google.com/assets/colab-badge.svg\" alt=\"Open In Colab\"/></a>"
      ]
    },
    {
      "cell_type": "code",
      "metadata": {
        "colab": {
          "base_uri": "https://localhost:8080/"
        },
        "id": "U89TvItO0H0L",
        "outputId": "6db5aee9-9e09-4d0e-9175-a26255ec1fe0"
      },
      "source": [
        "!pip install -q -U tensorflow-text"
      ],
      "execution_count": null,
      "outputs": [
        {
          "output_type": "stream",
          "name": "stdout",
          "text": [
            "\u001b[K     |████████████████████████████████| 4.4 MB 7.7 MB/s \n",
            "\u001b[?25h"
          ]
        }
      ]
    },
    {
      "cell_type": "code",
      "metadata": {
        "colab": {
          "base_uri": "https://localhost:8080/"
        },
        "id": "UpyuPwDG0IRf",
        "outputId": "42623700-0225-4d28-9597-1e7a49599b78"
      },
      "source": [
        "!pip install -q tf-models-official"
      ],
      "execution_count": null,
      "outputs": [
        {
          "output_type": "stream",
          "name": "stdout",
          "text": [
            "\u001b[K     |████████████████████████████████| 1.8 MB 7.9 MB/s \n",
            "\u001b[K     |████████████████████████████████| 47.6 MB 36 kB/s \n",
            "\u001b[K     |████████████████████████████████| 213 kB 70.2 MB/s \n",
            "\u001b[K     |████████████████████████████████| 596 kB 52.3 MB/s \n",
            "\u001b[K     |████████████████████████████████| 99 kB 10.3 MB/s \n",
            "\u001b[K     |████████████████████████████████| 1.1 MB 65.8 MB/s \n",
            "\u001b[K     |████████████████████████████████| 1.2 MB 47.6 MB/s \n",
            "\u001b[K     |████████████████████████████████| 90 kB 10.6 MB/s \n",
            "\u001b[K     |████████████████████████████████| 352 kB 42.4 MB/s \n",
            "\u001b[K     |████████████████████████████████| 43 kB 2.2 MB/s \n",
            "\u001b[?25h  Building wheel for py-cpuinfo (setup.py) ... \u001b[?25l\u001b[?25hdone\n",
            "  Building wheel for seqeval (setup.py) ... \u001b[?25l\u001b[?25hdone\n"
          ]
        }
      ]
    },
    {
      "cell_type": "code",
      "metadata": {
        "id": "VdGl_tG1y8Dm"
      },
      "source": [
        "import os\n",
        "import shutil\n",
        "\n",
        "import tensorflow as tf\n",
        "import tensorflow_hub as hub\n",
        "import tensorflow_text as text\n",
        "from official.nlp import optimization  # to create AdamW optimizer\n",
        "\n",
        "import matplotlib.pyplot as plt\n",
        "\n",
        "tf.get_logger().setLevel('ERROR')"
      ],
      "execution_count": null,
      "outputs": []
    },
    {
      "cell_type": "code",
      "metadata": {
        "id": "UhpjlT6-1AXb"
      },
      "source": [
        "def print_my_examples(inputs, results):\n",
        "  result_for_printing = \\\n",
        "    [f'input: {inputs[i]:<30} : score: {results[i][0]:.6f}'\n",
        "                         for i in range(len(inputs))]\n",
        "  print(*result_for_printing, sep='\\n')\n",
        "  print()"
      ],
      "execution_count": null,
      "outputs": []
    },
    {
      "cell_type": "code",
      "metadata": {
        "id": "nF6D0v_bWTBB"
      },
      "source": [
        "def calc_score(score):\n",
        "  result = ''\n",
        "  if score >= 0.5:\n",
        "    result = 'positive'\n",
        "  else:\n",
        "    result = 'negative'\n",
        "\n",
        "  return result\n"
      ],
      "execution_count": null,
      "outputs": []
    },
    {
      "cell_type": "code",
      "metadata": {
        "id": "nxWXXrN67jPZ"
      },
      "source": [
        "def review_analysis(df , review_col):\n",
        "  \n",
        "  review_list = df[review_col].tolist()\n",
        "  result = tf.sigmoid(reloaded_model(tf.constant(review_list)))\n",
        "  result_list = [result[i][0].numpy() for i in range(len(result))]\n",
        "  df['sentimental score'] = result_list\n",
        "  df['label'] = df['sentimental score'].apply(calc_score)\n",
        "  return df\n",
        "\n"
      ],
      "execution_count": null,
      "outputs": []
    },
    {
      "cell_type": "code",
      "metadata": {
        "colab": {
          "base_uri": "https://localhost:8080/"
        },
        "id": "b-qvNptWzkV2",
        "outputId": "013f8293-5cd9-422a-d5bc-f0ac2dc5df45"
      },
      "source": [
        "from google.colab import drive \n",
        "drive.mount('/content/gdrive/')"
      ],
      "execution_count": null,
      "outputs": [
        {
          "output_type": "stream",
          "name": "stdout",
          "text": [
            "Mounted at /content/gdrive/\n"
          ]
        }
      ]
    },
    {
      "cell_type": "code",
      "metadata": {
        "id": "GvEX9IvVyXB6"
      },
      "source": [
        "reloaded_model = tf.saved_model.load('/content/gdrive/My Drive/Colab Notebooks/imdb_bert')\n"
      ],
      "execution_count": null,
      "outputs": []
    },
    {
      "cell_type": "code",
      "metadata": {
        "id": "aNouiC6R63OQ"
      },
      "source": [
        "import pandas as pd\n",
        "import numpy as np"
      ],
      "execution_count": null,
      "outputs": []
    },
    {
      "cell_type": "code",
      "metadata": {
        "id": "MsBFhftD5oXR"
      },
      "source": [
        "df = pd.read_csv('/content/gdrive/My Drive/Colab Notebooks/review_all_211027.csv' , encoding='utf-8-sig')"
      ],
      "execution_count": 15,
      "outputs": []
    },
    {
      "cell_type": "code",
      "metadata": {
        "colab": {
          "base_uri": "https://localhost:8080/",
          "height": 81
        },
        "id": "dmdxzlpVPbKO",
        "outputId": "687ae4d2-dbc0-4db5-e892-257d27f409ee"
      },
      "source": [
        "df[df['id'] == 'R2M5KAKZZVK1QR']"
      ],
      "execution_count": 28,
      "outputs": [
        {
          "output_type": "execute_result",
          "data": {
            "text/html": [
              "<div>\n",
              "<style scoped>\n",
              "    .dataframe tbody tr th:only-of-type {\n",
              "        vertical-align: middle;\n",
              "    }\n",
              "\n",
              "    .dataframe tbody tr th {\n",
              "        vertical-align: top;\n",
              "    }\n",
              "\n",
              "    .dataframe thead th {\n",
              "        text-align: right;\n",
              "    }\n",
              "</style>\n",
              "<table border=\"1\" class=\"dataframe\">\n",
              "  <thead>\n",
              "    <tr style=\"text-align: right;\">\n",
              "      <th></th>\n",
              "      <th>id</th>\n",
              "      <th>rating</th>\n",
              "      <th>review</th>\n",
              "    </tr>\n",
              "  </thead>\n",
              "  <tbody>\n",
              "    <tr>\n",
              "      <th>1256648</th>\n",
              "      <td>R2M5KAKZZVK1QR</td>\n",
              "      <td>5</td>\n",
              "      <td>I bought 2 different packs by the same seller ...</td>\n",
              "    </tr>\n",
              "  </tbody>\n",
              "</table>\n",
              "</div>"
            ],
            "text/plain": [
              "                     id  ...                                             review\n",
              "1256648  R2M5KAKZZVK1QR  ...  I bought 2 different packs by the same seller ...\n",
              "\n",
              "[1 rows x 3 columns]"
            ]
          },
          "metadata": {},
          "execution_count": 28
        }
      ]
    },
    {
      "cell_type": "code",
      "metadata": {
        "colab": {
          "base_uri": "https://localhost:8080/",
          "height": 625
        },
        "id": "YPBLoLfo1AEE",
        "outputId": "9da30112-39f1-4988-fa7a-84af6e401b6d"
      },
      "source": [
        "df.tail(5) # 1257078"
      ],
      "execution_count": null,
      "outputs": [
        {
          "output_type": "execute_result",
          "data": {
            "text/html": [
              "<div>\n",
              "<style scoped>\n",
              "    .dataframe tbody tr th:only-of-type {\n",
              "        vertical-align: middle;\n",
              "    }\n",
              "\n",
              "    .dataframe tbody tr th {\n",
              "        vertical-align: top;\n",
              "    }\n",
              "\n",
              "    .dataframe thead th {\n",
              "        text-align: right;\n",
              "    }\n",
              "</style>\n",
              "<table border=\"1\" class=\"dataframe\">\n",
              "  <thead>\n",
              "    <tr style=\"text-align: right;\">\n",
              "      <th></th>\n",
              "      <th>id</th>\n",
              "      <th>review_data</th>\n",
              "      <th>name</th>\n",
              "      <th>rating</th>\n",
              "      <th>title</th>\n",
              "      <th>review</th>\n",
              "      <th>verified_purchase</th>\n",
              "      <th>asin.original</th>\n",
              "      <th>asin.variant</th>\n",
              "      <th>date.date</th>\n",
              "      <th>date.unix</th>\n",
              "    </tr>\n",
              "  </thead>\n",
              "  <tbody>\n",
              "    <tr>\n",
              "      <th>1257073</th>\n",
              "      <td>R3RK8T75YL5SM1</td>\n",
              "      <td>Reviewed in the United States on September 28,...</td>\n",
              "      <td>Kayla Dunn</td>\n",
              "      <td>5</td>\n",
              "      <td>Five Stars</td>\n",
              "      <td>Awesome thanks</td>\n",
              "      <td>True</td>\n",
              "      <td>B09GYLQWW5</td>\n",
              "      <td>B003N3M5Q8</td>\n",
              "      <td>September 28, 2014</td>\n",
              "      <td>1411869600</td>\n",
              "    </tr>\n",
              "    <tr>\n",
              "      <th>1257074</th>\n",
              "      <td>R2HE46CV768UPE</td>\n",
              "      <td>Reviewed in the United States on June 24, 2014</td>\n",
              "      <td>Emilia</td>\n",
              "      <td>5</td>\n",
              "      <td>Does the job</td>\n",
              "      <td>This matte finish lip pencil is a basic standa...</td>\n",
              "      <td>True</td>\n",
              "      <td>B09GYLQWW5</td>\n",
              "      <td>B003N3M5Q8</td>\n",
              "      <td>June 24, 2014</td>\n",
              "      <td>1403575200</td>\n",
              "    </tr>\n",
              "    <tr>\n",
              "      <th>1257075</th>\n",
              "      <td>R3VJ9JQQJ7NF76</td>\n",
              "      <td>Reviewed in the United States on August 28, 2013</td>\n",
              "      <td>Car</td>\n",
              "      <td>5</td>\n",
              "      <td>Great Liner</td>\n",
              "      <td>Glides on easily, rich color for a nude lip, a...</td>\n",
              "      <td>True</td>\n",
              "      <td>B09GYLQWW5</td>\n",
              "      <td>B003N3M5Q8</td>\n",
              "      <td>August 28, 2013</td>\n",
              "      <td>1377655200</td>\n",
              "    </tr>\n",
              "    <tr>\n",
              "      <th>1257076</th>\n",
              "      <td>R2SFY59OU8YR54</td>\n",
              "      <td>Reviewed in the United States on June 15, 2013</td>\n",
              "      <td>Lockettlak</td>\n",
              "      <td>5</td>\n",
              "      <td>Great Lip Liner</td>\n",
              "      <td>I like this lip liner because it's not Super-d...</td>\n",
              "      <td>True</td>\n",
              "      <td>B09GYLQWW5</td>\n",
              "      <td>B003N3M5Q8</td>\n",
              "      <td>June 15, 2013</td>\n",
              "      <td>1371261600</td>\n",
              "    </tr>\n",
              "    <tr>\n",
              "      <th>1257077</th>\n",
              "      <td>R21DJC2FU9MPSW</td>\n",
              "      <td>Reviewed in the United States on October 1, 2010</td>\n",
              "      <td>Jessa Louise</td>\n",
              "      <td>5</td>\n",
              "      <td>Beautiful Color!</td>\n",
              "      <td>I'm absolutely in love with and obsessed with ...</td>\n",
              "      <td>True</td>\n",
              "      <td>B09GYLQWW5</td>\n",
              "      <td>B003N3M5Q8</td>\n",
              "      <td>October 1, 2010</td>\n",
              "      <td>1285898400</td>\n",
              "    </tr>\n",
              "  </tbody>\n",
              "</table>\n",
              "</div>"
            ],
            "text/plain": [
              "                     id  ...   date.unix\n",
              "1257073  R3RK8T75YL5SM1  ...  1411869600\n",
              "1257074  R2HE46CV768UPE  ...  1403575200\n",
              "1257075  R3VJ9JQQJ7NF76  ...  1377655200\n",
              "1257076  R2SFY59OU8YR54  ...  1371261600\n",
              "1257077  R21DJC2FU9MPSW  ...  1285898400\n",
              "\n",
              "[5 rows x 11 columns]"
            ]
          },
          "metadata": {},
          "execution_count": 12
        }
      ]
    },
    {
      "cell_type": "code",
      "metadata": {
        "id": "OkCaPiJ8_d1J"
      },
      "source": [
        "df_test = df.iloc[:100]"
      ],
      "execution_count": null,
      "outputs": []
    },
    {
      "cell_type": "code",
      "metadata": {
        "id": "cOllRDXyX39i"
      },
      "source": [
        "df = df[df['review'].notna()]"
      ],
      "execution_count": 17,
      "outputs": []
    },
    {
      "cell_type": "code",
      "metadata": {
        "id": "oFJK4IkKaF6O"
      },
      "source": [
        "df = df[['id' , 'rating' , 'review']]"
      ],
      "execution_count": 18,
      "outputs": []
    },
    {
      "cell_type": "code",
      "metadata": {
        "colab": {
          "base_uri": "https://localhost:8080/"
        },
        "id": "kfKSmWNA9-Do",
        "outputId": "b8bee429-48ab-4e34-e043-ae9d04585b9f"
      },
      "source": [
        "len(df)"
      ],
      "execution_count": null,
      "outputs": [
        {
          "output_type": "execute_result",
          "data": {
            "text/plain": [
              "1255422"
            ]
          },
          "metadata": {},
          "execution_count": 15
        }
      ]
    },
    {
      "cell_type": "code",
      "metadata": {
        "id": "DQSF20NgbGDl",
        "colab": {
          "base_uri": "https://localhost:8080/"
        },
        "outputId": "91f056dd-ed56-4902-ed0c-8973ea58cfa7"
      },
      "source": [
        "step = 1000\n",
        "slice_num = 0 \n",
        "cnt = 1256\n",
        "itter = len(df) \n",
        "print('before for')\n",
        "print(step*1256)\n",
        "print(int(itter))\n",
        "for i in range(step*1255 , int(itter) , step):\n",
        "  print('run for')\n",
        "  cnt += 1\n",
        "\n",
        "  \n",
        "  slice_df = df.iloc[i-step:i]    \n",
        "\n",
        "  \n",
        "  if i + step > int(itter):\n",
        "    print('last')\n",
        "    slice_df = df.iloc[i-step:]\n",
        "\n",
        "    \n",
        "\n",
        "  # print(f'i :{i}')\n",
        "  # print(f'step : {step}')\n",
        "  # print(f'df head : {slice_df.head(5)}')\n",
        "  # print(f'df tail : {slice_df.tail(5)}')\n",
        "  # print(f'len_df = {len(slice_df)}')\n",
        "  \n",
        "  df_sentimental = review_analysis(slice_df , 'review')\n",
        "  df_sentimental.to_csv(f'/content/gdrive/My Drive/Colab Notebooks/review_all_sentimental/review_all_sentimental_analysis_211102_{cnt}.csv' , encoding='utf-8-sig' , index = False)\n",
        "\n",
        "print('after for')  \n",
        "\n",
        "\n",
        "\n",
        "\n"
      ],
      "execution_count": 29,
      "outputs": [
        {
          "output_type": "stream",
          "name": "stdout",
          "text": [
            "before for\n",
            "1256000\n",
            "1255422\n",
            "run for\n",
            "last\n",
            "after for\n"
          ]
        },
        {
          "output_type": "stream",
          "name": "stderr",
          "text": [
            "/usr/local/lib/python3.7/dist-packages/ipykernel_launcher.py:6: SettingWithCopyWarning: \n",
            "A value is trying to be set on a copy of a slice from a DataFrame.\n",
            "Try using .loc[row_indexer,col_indexer] = value instead\n",
            "\n",
            "See the caveats in the documentation: https://pandas.pydata.org/pandas-docs/stable/user_guide/indexing.html#returning-a-view-versus-a-copy\n",
            "  \n",
            "/usr/local/lib/python3.7/dist-packages/ipykernel_launcher.py:7: SettingWithCopyWarning: \n",
            "A value is trying to be set on a copy of a slice from a DataFrame.\n",
            "Try using .loc[row_indexer,col_indexer] = value instead\n",
            "\n",
            "See the caveats in the documentation: https://pandas.pydata.org/pandas-docs/stable/user_guide/indexing.html#returning-a-view-versus-a-copy\n",
            "  import sys\n"
          ]
        }
      ]
    },
    {
      "cell_type": "code",
      "metadata": {
        "id": "22BZdqKi7URz"
      },
      "source": [
        "review_list = df['review'].tolist()"
      ],
      "execution_count": null,
      "outputs": []
    },
    {
      "cell_type": "code",
      "metadata": {
        "id": "3EI13AoHAbJ5"
      },
      "source": [
        "a = tf.constant(review_list)"
      ],
      "execution_count": null,
      "outputs": []
    },
    {
      "cell_type": "code",
      "metadata": {
        "id": "MUOvEOQmCFZH"
      },
      "source": [
        "itter = len(a)"
      ],
      "execution_count": null,
      "outputs": []
    },
    {
      "cell_type": "code",
      "metadata": {
        "colab": {
          "base_uri": "https://localhost:8080/"
        },
        "id": "0BcFU7slCe8T",
        "outputId": "59f2f328-3710-4615-9a56-dd535771637e"
      },
      "source": [
        "itter"
      ],
      "execution_count": null,
      "outputs": [
        {
          "output_type": "execute_result",
          "data": {
            "text/plain": [
              "1255422"
            ]
          },
          "metadata": {},
          "execution_count": 43
        }
      ]
    },
    {
      "cell_type": "code",
      "metadata": {
        "id": "C5oHTYsYCB-G"
      },
      "source": [
        "total_result_list = []\n",
        "step = 500\n",
        "for i in range(0,len(df), step):\n",
        "  try:\n",
        "    result = tf.sigmoid(reloaded_model(df.iloc[i-step:i]['review'].tolist()))\n",
        "  except:\n",
        "    result = tf.sigmoid(reloaded_model(df.iloc[i-step:]['review'].tolist()))\n",
        "  \n",
        "  finally:\n",
        "    result_list = [result[j][0].numpy() for j in range(len(result))]\n",
        "    total_result_list += result_list\n",
        "  "
      ],
      "execution_count": null,
      "outputs": []
    },
    {
      "cell_type": "code",
      "metadata": {
        "colab": {
          "base_uri": "https://localhost:8080/",
          "height": 176
        },
        "id": "THL1PkhUGSj9",
        "outputId": "6b215dcb-749f-4a7f-d01d-f8de4369e132"
      },
      "source": [
        "len(total_result_list)"
      ],
      "execution_count": null,
      "outputs": [
        {
          "output_type": "error",
          "ename": "NameError",
          "evalue": "ignored",
          "traceback": [
            "\u001b[0;31m---------------------------------------------------------------------------\u001b[0m",
            "\u001b[0;31mNameError\u001b[0m                                 Traceback (most recent call last)",
            "\u001b[0;32m<ipython-input-1-a38f05077a71>\u001b[0m in \u001b[0;36m<module>\u001b[0;34m()\u001b[0m\n\u001b[0;32m----> 1\u001b[0;31m \u001b[0mlen\u001b[0m\u001b[0;34m(\u001b[0m\u001b[0mtotal_result_list\u001b[0m\u001b[0;34m)\u001b[0m\u001b[0;34m\u001b[0m\u001b[0;34m\u001b[0m\u001b[0m\n\u001b[0m",
            "\u001b[0;31mNameError\u001b[0m: name 'total_result_list' is not defined"
          ]
        }
      ]
    },
    {
      "cell_type": "code",
      "metadata": {
        "id": "7As6jm84AYMB"
      },
      "source": [
        "b = tf.sigmoid(reloaded_model(a[:500]))"
      ],
      "execution_count": null,
      "outputs": []
    },
    {
      "cell_type": "code",
      "metadata": {
        "colab": {
          "base_uri": "https://localhost:8080/"
        },
        "id": "hfWTNLTBEGB2",
        "outputId": "d8a1db3f-cfbe-4965-b352-8c3fffd56bac"
      },
      "source": [
        "type(b)"
      ],
      "execution_count": null,
      "outputs": [
        {
          "output_type": "execute_result",
          "data": {
            "text/plain": [
              "tensorflow.python.framework.ops.EagerTensor"
            ]
          },
          "metadata": {},
          "execution_count": 47
        }
      ]
    },
    {
      "cell_type": "code",
      "metadata": {
        "id": "OuVFoqgvBZZZ"
      },
      "source": [
        "df_sentimental.to_csv('/content/gdrive/My Drive/Colab Notebooks/review_all_sentimental_analysis_1101.csv' , encoding='utf-8-sig' , index = False)"
      ],
      "execution_count": null,
      "outputs": []
    },
    {
      "cell_type": "code",
      "metadata": {
        "id": "WF4822VD0uRS"
      },
      "source": [
        "examples = [\n",
        "    'this is such an amazing movie!',  # this is the same sentence tried earlier\n",
        "    'The movie was fucking!',\n",
        "    'The movie was meh.',\n",
        "    'The movie was okish.',\n",
        "    'The movie was terrible...'\n",
        "]\n",
        "\n",
        "reloaded_results = tf.sigmoid(reloaded_model(tf.constant(examples)))"
      ],
      "execution_count": null,
      "outputs": []
    },
    {
      "cell_type": "code",
      "metadata": {
        "id": "N9V6_Iah8fJq"
      },
      "source": [
        "test_exam = ['The movie was terrible...']"
      ],
      "execution_count": null,
      "outputs": []
    },
    {
      "cell_type": "code",
      "metadata": {
        "id": "-jRuagJV8qqs"
      },
      "source": [
        "test_result = tf.sigmoid(reloaded_model(tf.constant(test_exam)))"
      ],
      "execution_count": null,
      "outputs": []
    },
    {
      "cell_type": "code",
      "metadata": {
        "colab": {
          "base_uri": "https://localhost:8080/"
        },
        "id": "OYc8WKLa87a0",
        "outputId": "30c79c9a-2c85-498b-9b5b-d1ed39d83733"
      },
      "source": [
        "\n",
        "round(test_result[0][0].numpy(),5)"
      ],
      "execution_count": null,
      "outputs": [
        {
          "output_type": "execute_result",
          "data": {
            "text/plain": [
              "0.00051"
            ]
          },
          "metadata": {},
          "execution_count": 48
        }
      ]
    },
    {
      "cell_type": "code",
      "metadata": {
        "colab": {
          "base_uri": "https://localhost:8080/"
        },
        "id": "SQeG-phB8u0D",
        "outputId": "5f7b5b39-773d-4995-9c60-b07cf14b55dc"
      },
      "source": [
        "test_result"
      ],
      "execution_count": null,
      "outputs": [
        {
          "output_type": "execute_result",
          "data": {
            "text/plain": [
              "<tf.Tensor: shape=(1, 1), dtype=float32, numpy=array([[0.00051373]], dtype=float32)>"
            ]
          },
          "metadata": {},
          "execution_count": 19
        }
      ]
    },
    {
      "cell_type": "code",
      "metadata": {
        "id": "VlYJuPLG86wR"
      },
      "source": [
        ""
      ],
      "execution_count": null,
      "outputs": []
    },
    {
      "cell_type": "code",
      "metadata": {
        "colab": {
          "base_uri": "https://localhost:8080/"
        },
        "id": "VrTvhYfp_9qp",
        "outputId": "3a708895-8c68-43e8-f9f1-c69f08cc721b"
      },
      "source": [
        "reloaded_results"
      ],
      "execution_count": null,
      "outputs": [
        {
          "output_type": "execute_result",
          "data": {
            "text/plain": [
              "<tf.Tensor: shape=(5, 1), dtype=float32, numpy=\n",
              "array([[9.99741e-01],\n",
              "       [1.03426e-02],\n",
              "       [9.77522e-01],\n",
              "       [2.15874e-01],\n",
              "       [5.13732e-04]], dtype=float32)>"
            ]
          },
          "metadata": {},
          "execution_count": 57
        }
      ]
    },
    {
      "cell_type": "code",
      "metadata": {
        "colab": {
          "base_uri": "https://localhost:8080/"
        },
        "id": "xyhXoxlw79td",
        "outputId": "938ddbf6-3096-49de-dc12-f6d344c77912"
      },
      "source": [
        "reloaded_results[2][0].numpy()"
      ],
      "execution_count": null,
      "outputs": [
        {
          "output_type": "execute_result",
          "data": {
            "text/plain": [
              "0.9775218"
            ]
          },
          "metadata": {},
          "execution_count": 72
        }
      ]
    },
    {
      "cell_type": "code",
      "metadata": {
        "id": "1vgJFbIW0wG2"
      },
      "source": [
        ""
      ],
      "execution_count": null,
      "outputs": []
    },
    {
      "cell_type": "code",
      "metadata": {
        "colab": {
          "base_uri": "https://localhost:8080/"
        },
        "id": "i8vhJMTm02Fa",
        "outputId": "2f8cb51c-2a6c-4daa-be22-bab2b8a204af"
      },
      "source": [
        "print_my_examples(examples , reloaded_results)"
      ],
      "execution_count": null,
      "outputs": [
        {
          "output_type": "stream",
          "name": "stdout",
          "text": [
            "input: this is such an amazing movie! : score: 0.999741\n",
            "input: The movie was fucking!         : score: 0.010343\n",
            "input: The movie was meh.             : score: 0.977522\n",
            "input: The movie was okish.           : score: 0.215874\n",
            "input: The movie was terrible...      : score: 0.000514\n",
            "\n"
          ]
        }
      ]
    },
    {
      "cell_type": "code",
      "metadata": {
        "id": "3z7Y8CeT07PU"
      },
      "source": [
        ""
      ],
      "execution_count": null,
      "outputs": []
    }
  ]
}